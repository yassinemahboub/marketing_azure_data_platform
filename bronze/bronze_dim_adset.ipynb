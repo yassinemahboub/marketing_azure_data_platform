{
  "cells": [
    {
      "cell_type": "code",
      "source": [
        "from pyspark.sql import SparkSession\n",
        "from pyspark.sql.functions import col, year, month, dayofmonth, lit\n",
        "import requests\n",
        "import json\n",
        "import datetime"
      ],
      "outputs": [
        {
          "output_type": "display_data",
          "data": {
            "application/vnd.livy.statement-meta+json": {
              "spark_pool": "practice",
              "statement_id": 8,
              "statement_ids": [
                8
              ],
              "state": "finished",
              "livy_statement_state": "available",
              "spark_jobs": null,
              "session_id": "9",
              "normalized_state": "finished",
              "queued_time": "2025-03-02T16:16:24.3192846Z",
              "session_start_time": null,
              "execution_start_time": "2025-03-02T16:16:24.4218971Z",
              "execution_finish_time": "2025-03-02T16:16:24.586051Z",
              "parent_msg_id": "31e815e8-ca40-4f91-95b9-797bc00fb552"
            },
            "text/plain": "StatementMeta(practice, 9, 8, Finished, Available, Finished)"
          },
          "metadata": {}
        }
      ],
      "execution_count": 7,
      "metadata": {}
    },
    {
      "cell_type": "code",
      "source": [
        "# Initialize Spark Session\n",
        "spark = SparkSession.builder.appName(\"FacebookAdsBackfillDimAdset\").getOrCreate()\n",
        "\n",
        "# Define Storage Account & Container\n",
        "storage_account_name = \"learningstorage1093\"\n",
        "container_name = \"learning\"\n",
        "stage = \"bronze\"\n",
        "adls_path = f\"abfss://{container_name}@{storage_account_name}.dfs.core.windows.net/{stage}/facebook_ads/dim_adset/historical/\""
      ],
      "outputs": [
        {
          "output_type": "display_data",
          "data": {
            "application/vnd.livy.statement-meta+json": {
              "spark_pool": "practice",
              "statement_id": 9,
              "statement_ids": [
                9
              ],
              "state": "finished",
              "livy_statement_state": "available",
              "spark_jobs": null,
              "session_id": "9",
              "normalized_state": "finished",
              "queued_time": "2025-03-02T16:16:24.3979186Z",
              "session_start_time": null,
              "execution_start_time": "2025-03-02T16:16:24.6912422Z",
              "execution_finish_time": "2025-03-02T16:16:24.8468213Z",
              "parent_msg_id": "e3078b43-698f-4a19-8add-ed63dd9f9f5e"
            },
            "text/plain": "StatementMeta(practice, 9, 9, Finished, Available, Finished)"
          },
          "metadata": {}
        }
      ],
      "execution_count": 8,
      "metadata": {}
    },
    {
      "cell_type": "code",
      "source": [
        "# Facebook Ads API Config\n",
        "API_KEY = \"INSERT_WINDSOR_API_KEY\"\n",
        "BASE_URL = \"https://connectors.windsor.ai/facebook\"\n",
        "ACCOUNT_ID = \"INSERT_ACCOUNT_ID\"\n",
        "# Selecting Table Fields for `dim_adset`\n",
        "FIELDS = \"adset_id,adset_name,adset_status,adset_created_time,adset_start_time,adset_end_time,adset_daily_budget\""
      ],
      "outputs": [
        {
          "output_type": "display_data",
          "data": {
            "application/vnd.livy.statement-meta+json": {
              "spark_pool": "practice",
              "statement_id": 10,
              "statement_ids": [
                10
              ],
              "state": "finished",
              "livy_statement_state": "available",
              "spark_jobs": null,
              "session_id": "9",
              "normalized_state": "finished",
              "queued_time": "2025-03-02T16:16:24.4489423Z",
              "session_start_time": null,
              "execution_start_time": "2025-03-02T16:16:24.9497217Z",
              "execution_finish_time": "2025-03-02T16:16:25.1126687Z",
              "parent_msg_id": "5d4dab2c-6caa-4d2f-ae09-36f5c5f462b2"
            },
            "text/plain": "StatementMeta(practice, 9, 10, Finished, Available, Finished)"
          },
          "metadata": {}
        }
      ],
      "execution_count": 9,
      "metadata": {}
    },
    {
      "cell_type": "code",
      "source": [
        "# Define the Start and End Date for Historical Backfill\n",
        "start_date = datetime.date(2023, 1, 1)  \n",
        "end_date = datetime.date.today() - datetime.timedelta(days=1)   "
      ],
      "outputs": [
        {
          "output_type": "display_data",
          "data": {
            "application/vnd.livy.statement-meta+json": {
              "spark_pool": "practice",
              "statement_id": 11,
              "statement_ids": [
                11
              ],
              "state": "finished",
              "livy_statement_state": "available",
              "spark_jobs": null,
              "session_id": "9",
              "normalized_state": "finished",
              "queued_time": "2025-03-02T16:16:24.4862009Z",
              "session_start_time": null,
              "execution_start_time": "2025-03-02T16:16:25.2043131Z",
              "execution_finish_time": "2025-03-02T16:16:25.3706125Z",
              "parent_msg_id": "ed843d81-cbcc-4561-acdb-c586acf8314c"
            },
            "text/plain": "StatementMeta(practice, 9, 11, Finished, Available, Finished)"
          },
          "metadata": {}
        }
      ],
      "execution_count": 10,
      "metadata": {}
    },
    {
      "cell_type": "code",
      "source": [
        "def fetch_facebook_ads_dim_adset():\n",
        "    \"\"\"Fetches Facebook Ads `dim_adset` data for the given date range.\"\"\"\n",
        "    params = {\n",
        "        \"api_key\": API_KEY,\n",
        "        \"date_from\": start_date,\n",
        "        \"date_to\": end_date,\n",
        "        \"fields\": FIELDS\n",
        "    }\n",
        "    \n",
        "    response = requests.get(BASE_URL, params=params)\n",
        "\n",
        "    # Ensure response is valid JSON and contains 'data'\n",
        "    if response.status_code == 200:\n",
        "        try:\n",
        "            json_data = response.json() \n",
        "            if \"data\" in json_data:  \n",
        "                return json_data[\"data\"]\n",
        "            else:\n",
        "                print(f\"No 'data' key found in response for dim_adset\")\n",
        "                return []\n",
        "        except json.JSONDecodeError as e:\n",
        "            print(f\"JSON parsing error: {e}\")\n",
        "            return []\n",
        "    else:\n",
        "        print(f\"Error fetching dim_adset data: {response.text}\")\n",
        "        return []\n"
      ],
      "outputs": [
        {
          "output_type": "display_data",
          "data": {
            "application/vnd.livy.statement-meta+json": {
              "spark_pool": "practice",
              "statement_id": 12,
              "statement_ids": [
                12
              ],
              "state": "finished",
              "livy_statement_state": "available",
              "spark_jobs": null,
              "session_id": "9",
              "normalized_state": "finished",
              "queued_time": "2025-03-02T16:16:24.5444519Z",
              "session_start_time": null,
              "execution_start_time": "2025-03-02T16:16:25.4659675Z",
              "execution_finish_time": "2025-03-02T16:16:25.629938Z",
              "parent_msg_id": "926de4ad-9ff5-44a1-b95f-812a4e329ac0"
            },
            "text/plain": "StatementMeta(practice, 9, 12, Finished, Available, Finished)"
          },
          "metadata": {}
        }
      ],
      "execution_count": 11,
      "metadata": {}
    },
    {
      "cell_type": "code",
      "source": [
        "# Fetch data\n",
        "print(\"📌 Fetching `dim_adset` data...\")\n",
        "data = fetch_facebook_ads_dim_adset()\n"
      ],
      "outputs": [
        {
          "output_type": "display_data",
          "data": {
            "application/vnd.livy.statement-meta+json": {
              "spark_pool": "practice",
              "statement_id": 13,
              "statement_ids": [
                13
              ],
              "state": "finished",
              "livy_statement_state": "available",
              "spark_jobs": null,
              "session_id": "9",
              "normalized_state": "finished",
              "queued_time": "2025-03-02T16:16:24.6035445Z",
              "session_start_time": null,
              "execution_start_time": "2025-03-02T16:16:25.7210319Z",
              "execution_finish_time": "2025-03-02T16:16:27.5845736Z",
              "parent_msg_id": "016de928-f0fb-4746-85c9-ea74d128e4ce"
            },
            "text/plain": "StatementMeta(practice, 9, 13, Finished, Available, Finished)"
          },
          "metadata": {}
        },
        {
          "output_type": "stream",
          "name": "stdout",
          "text": [
            "📌 Fetching `dim_adset` data...\n"
          ]
        }
      ],
      "execution_count": 12,
      "metadata": {}
    },
    {
      "cell_type": "code",
      "source": [
        "if data:\n",
        "    try:\n",
        "        # Convert Data into DataFrame\n",
        "        df = spark.createDataFrame(data)\n",
        "\n",
        "        # Add metadata columns\n",
        "        df = df.withColumn(\"load_date\", lit(datetime.datetime.now().isoformat())) \\\n",
        "               .withColumn(\"source\", lit(\"facebook_ads\"))\n",
        "\n",
        "        # Partitioning by Year of Ad Set Creation\n",
        "        df = df.withColumn(\"year\", year(col(\"adset_created_time\")))\n",
        "\n",
        "        # Save to ADLS\n",
        "        print(\"🚀 Saving `dim_adset` to Bronze Layer...\")\n",
        "        df.write.mode(\"overwrite\").partitionBy(\"year\").json(adls_path)\n",
        "\n",
        "        print(f\"✅ Successfully saved `dim_adset` data to {adls_path}\")\n",
        "\n",
        "    except Exception as e:\n",
        "        print(f\"❌ Error processing `dim_adset`: {e}\")\n",
        "\n",
        "else:\n",
        "    print(\"❌ No `dim_adset` data found, skipping save operation.\")"
      ],
      "outputs": [
        {
          "output_type": "display_data",
          "data": {
            "application/vnd.livy.statement-meta+json": {
              "spark_pool": "practice",
              "statement_id": 14,
              "statement_ids": [
                14
              ],
              "state": "finished",
              "livy_statement_state": "available",
              "spark_jobs": null,
              "session_id": "9",
              "normalized_state": "finished",
              "queued_time": "2025-03-02T16:16:24.6877581Z",
              "session_start_time": null,
              "execution_start_time": "2025-03-02T16:16:27.6934394Z",
              "execution_finish_time": "2025-03-02T16:16:40.4288459Z",
              "parent_msg_id": "f5c1cf0b-e24a-4e5f-959b-e15a1a557881"
            },
            "text/plain": "StatementMeta(practice, 9, 14, Finished, Available, Finished)"
          },
          "metadata": {}
        },
        {
          "output_type": "stream",
          "name": "stdout",
          "text": [
            "🚀 Saving `dim_adset` to Bronze Layer...\n✅ Successfully saved `dim_adset` data to abfss://learning@learningstorage1093.dfs.core.windows.net/bronze/facebook_ads/dim_adset/historical/\n"
          ]
        }
      ],
      "execution_count": 13,
      "metadata": {}
    }
  ],
  "metadata": {
    "language_info": {
      "name": "python"
    },
    "kernelspec": {
      "name": "synapse_pyspark",
      "display_name": "python"
    },
    "description": null,
    "save_output": true,
    "synapse_widget": {
      "version": "0.1",
      "state": {}
    }
  },
  "nbformat": 4,
  "nbformat_minor": 2
}