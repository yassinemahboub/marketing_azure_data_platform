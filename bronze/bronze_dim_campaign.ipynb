{
  "cells": [
    {
      "cell_type": "code",
      "source": [
        "from pyspark.sql import SparkSession\n",
        "from pyspark.sql.functions import col, year, month, dayofmonth, lit\n",
        "import requests\n",
        "import json\n",
        "import datetime"
      ],
      "outputs": [
        {
          "output_type": "display_data",
          "data": {
            "application/vnd.livy.statement-meta+json": {
              "spark_pool": "practice",
              "statement_id": 9,
              "statement_ids": [
                9
              ],
              "state": "finished",
              "livy_statement_state": "available",
              "spark_jobs": null,
              "session_id": "10",
              "normalized_state": "finished",
              "queued_time": "2025-03-02T16:30:05.4248771Z",
              "session_start_time": null,
              "execution_start_time": "2025-03-02T16:30:05.519936Z",
              "execution_finish_time": "2025-03-02T16:30:05.695562Z",
              "parent_msg_id": "7ff9c11b-b3e0-47a0-9b90-532649f057b9"
            },
            "text/plain": "StatementMeta(practice, 10, 9, Finished, Available, Finished)"
          },
          "metadata": {}
        }
      ],
      "execution_count": 8,
      "metadata": {}
    },
    {
      "cell_type": "code",
      "source": [
        "# Initialize Spark Session\n",
        "spark = SparkSession.builder.appName(\"FacebookAdsBackfillDimCampaign\").getOrCreate()\n",
        "\n",
        "# Define Storage Account & Container\n",
        "storage_account_name = \"learningstorage1093\"\n",
        "container_name = \"learning\"\n",
        "stage = \"bronze\"\n",
        "adls_path = f\"abfss://{container_name}@{storage_account_name}.dfs.core.windows.net/{stage}/facebook_ads/dim_campaign/historical/\""
      ],
      "outputs": [
        {
          "output_type": "display_data",
          "data": {
            "application/vnd.livy.statement-meta+json": {
              "spark_pool": "practice",
              "statement_id": 10,
              "statement_ids": [
                10
              ],
              "state": "finished",
              "livy_statement_state": "available",
              "spark_jobs": null,
              "session_id": "10",
              "normalized_state": "finished",
              "queued_time": "2025-03-02T16:30:05.4741274Z",
              "session_start_time": null,
              "execution_start_time": "2025-03-02T16:30:05.8003946Z",
              "execution_finish_time": "2025-03-02T16:30:05.9605251Z",
              "parent_msg_id": "f4200698-97f6-4191-a822-1d310794481f"
            },
            "text/plain": "StatementMeta(practice, 10, 10, Finished, Available, Finished)"
          },
          "metadata": {}
        }
      ],
      "execution_count": 9,
      "metadata": {}
    },
    {
      "cell_type": "code",
      "source": [
        "# Facebook Ads API Config\n",
        "API_KEY = \"5baaf652028536e79b8ac9dfc72569ec781c\"\n",
        "BASE_URL = \"https://connectors.windsor.ai/facebook\"\n",
        "ACCOUNT_ID = \"2977132755882180\"\n",
        "# Selecting Table Fields for `dim_campaign`\n",
        "FIELDS = \"campaign_id,campaign_name,campaign_objective,campaign_status,campaign_created_time\""
      ],
      "outputs": [
        {
          "output_type": "display_data",
          "data": {
            "application/vnd.livy.statement-meta+json": {
              "spark_pool": "practice",
              "statement_id": 11,
              "statement_ids": [
                11
              ],
              "state": "finished",
              "livy_statement_state": "available",
              "spark_jobs": null,
              "session_id": "10",
              "normalized_state": "finished",
              "queued_time": "2025-03-02T16:30:05.5231844Z",
              "session_start_time": null,
              "execution_start_time": "2025-03-02T16:30:06.0785287Z",
              "execution_finish_time": "2025-03-02T16:30:06.2398852Z",
              "parent_msg_id": "21391900-8ea7-491d-af7c-123ba0058e92"
            },
            "text/plain": "StatementMeta(practice, 10, 11, Finished, Available, Finished)"
          },
          "metadata": {}
        }
      ],
      "execution_count": 10,
      "metadata": {}
    },
    {
      "cell_type": "code",
      "source": [
        "# Define the Start and End Date for Historical Backfill\n",
        "start_date = datetime.date(2023, 1, 1)  \n",
        "end_date = datetime.date.today() - datetime.timedelta(days=1)    "
      ],
      "outputs": [
        {
          "output_type": "display_data",
          "data": {
            "application/vnd.livy.statement-meta+json": {
              "spark_pool": "practice",
              "statement_id": 12,
              "statement_ids": [
                12
              ],
              "state": "finished",
              "livy_statement_state": "available",
              "spark_jobs": null,
              "session_id": "10",
              "normalized_state": "finished",
              "queued_time": "2025-03-02T16:30:05.588606Z",
              "session_start_time": null,
              "execution_start_time": "2025-03-02T16:30:06.3421454Z",
              "execution_finish_time": "2025-03-02T16:30:06.504298Z",
              "parent_msg_id": "380242a6-3238-4613-82cb-5917b656aa5d"
            },
            "text/plain": "StatementMeta(practice, 10, 12, Finished, Available, Finished)"
          },
          "metadata": {}
        }
      ],
      "execution_count": 11,
      "metadata": {}
    },
    {
      "cell_type": "code",
      "source": [
        "def fetch_facebook_ads_dim_campaign():\n",
        "    \"\"\"Fetches Facebook Ads `dim_campaign` data for the given date range.\"\"\"\n",
        "    params = {\n",
        "        \"api_key\": API_KEY,\n",
        "        \"date_from\": start_date,\n",
        "        \"date_to\": end_date,\n",
        "        \"fields\": FIELDS\n",
        "    }\n",
        "    \n",
        "    response = requests.get(BASE_URL, params=params)\n",
        "\n",
        "    #  Ensure response is valid JSON and contains 'data'\n",
        "    if response.status_code == 200:\n",
        "        try:\n",
        "            json_data = response.json()  \n",
        "            if \"data\" in json_data:  \n",
        "                return json_data[\"data\"]\n",
        "            else:\n",
        "                print(f\" No 'data' key found in response for dim_campaign\")\n",
        "                return []\n",
        "        except json.JSONDecodeError as e:\n",
        "            print(f\" JSON parsing error: {e}\")\n",
        "            return []\n",
        "    else:\n",
        "        print(f\" Error fetching dim_campaign data: {response.text}\")\n",
        "        return []"
      ],
      "outputs": [
        {
          "output_type": "display_data",
          "data": {
            "application/vnd.livy.statement-meta+json": {
              "spark_pool": "practice",
              "statement_id": 13,
              "statement_ids": [
                13
              ],
              "state": "finished",
              "livy_statement_state": "available",
              "spark_jobs": null,
              "session_id": "10",
              "normalized_state": "finished",
              "queued_time": "2025-03-02T16:30:05.6671309Z",
              "session_start_time": null,
              "execution_start_time": "2025-03-02T16:30:06.6058809Z",
              "execution_finish_time": "2025-03-02T16:30:06.7677759Z",
              "parent_msg_id": "4df2e411-7d41-4687-8773-a1934d7e2635"
            },
            "text/plain": "StatementMeta(practice, 10, 13, Finished, Available, Finished)"
          },
          "metadata": {}
        }
      ],
      "execution_count": 12,
      "metadata": {}
    },
    {
      "cell_type": "code",
      "source": [
        "# Fetch data\n",
        "print(\"📌 Fetching `dim_campaign` data...\")\n",
        "data = fetch_facebook_ads_dim_campaign()"
      ],
      "outputs": [
        {
          "output_type": "display_data",
          "data": {
            "application/vnd.livy.statement-meta+json": {
              "spark_pool": "practice",
              "statement_id": 14,
              "statement_ids": [
                14
              ],
              "state": "finished",
              "livy_statement_state": "available",
              "spark_jobs": null,
              "session_id": "10",
              "normalized_state": "finished",
              "queued_time": "2025-03-02T16:30:05.6902087Z",
              "session_start_time": null,
              "execution_start_time": "2025-03-02T16:30:06.8740269Z",
              "execution_finish_time": "2025-03-02T16:30:07.9767037Z",
              "parent_msg_id": "088a408f-4616-4661-8cec-98087e3fdc85"
            },
            "text/plain": "StatementMeta(practice, 10, 14, Finished, Available, Finished)"
          },
          "metadata": {}
        },
        {
          "output_type": "stream",
          "name": "stdout",
          "text": [
            "📌 Fetching `dim_campaign` data...\n"
          ]
        }
      ],
      "execution_count": 13,
      "metadata": {}
    },
    {
      "cell_type": "code",
      "source": [
        "if data:\n",
        "    try:\n",
        "        # Convert Data into DataFrame\n",
        "        df = spark.createDataFrame(data)\n",
        "\n",
        "        # Add metadata columns\n",
        "        df = df.withColumn(\"load_date\", lit(datetime.datetime.now().isoformat())) \\\n",
        "               .withColumn(\"source\", lit(\"facebook_ads\"))\n",
        "\n",
        "        # Partitioning by Year of Campaign Creation\n",
        "        df = df.withColumn(\"year\", year(col(\"campaign_created_time\")))\n",
        "\n",
        "        # Save to ADLS\n",
        "        print(\"🚀 Saving `dim_campaign` to Bronze Layer...\")\n",
        "        df.write.mode(\"overwrite\").partitionBy(\"year\").json(adls_path)\n",
        "\n",
        "        print(f\"✅ Successfully saved `dim_campaign` data to {adls_path}\")\n",
        "\n",
        "    except Exception as e:\n",
        "        print(f\"❌ Error processing `dim_campaign`: {e}\")\n",
        "\n",
        "else:\n",
        "    print(\"❌ No `dim_campaign` data found, skipping save operation.\")"
      ],
      "outputs": [
        {
          "output_type": "display_data",
          "data": {
            "application/vnd.livy.statement-meta+json": {
              "spark_pool": "practice",
              "statement_id": 15,
              "statement_ids": [
                15
              ],
              "state": "finished",
              "livy_statement_state": "available",
              "spark_jobs": null,
              "session_id": "10",
              "normalized_state": "finished",
              "queued_time": "2025-03-02T16:30:05.7402395Z",
              "session_start_time": null,
              "execution_start_time": "2025-03-02T16:30:08.0889439Z",
              "execution_finish_time": "2025-03-02T16:30:12.1125294Z",
              "parent_msg_id": "519dffab-74fd-4cf2-92bc-a8b01e4684c5"
            },
            "text/plain": "StatementMeta(practice, 10, 15, Finished, Available, Finished)"
          },
          "metadata": {}
        },
        {
          "output_type": "stream",
          "name": "stdout",
          "text": [
            "🚀 Saving `dim_campaign` to Bronze Layer...\n✅ Successfully saved `dim_campaign` data to abfss://learning@learningstorage1093.dfs.core.windows.net/bronze/facebook_ads/dim_campaign/historical/\n"
          ]
        }
      ],
      "execution_count": 14,
      "metadata": {}
    }
  ],
  "metadata": {
    "language_info": {
      "name": "python"
    },
    "kernelspec": {
      "name": "synapse_pyspark",
      "display_name": "python"
    },
    "description": null,
    "save_output": true,
    "synapse_widget": {
      "version": "0.1",
      "state": {}
    }
  },
  "nbformat": 4,
  "nbformat_minor": 2
}