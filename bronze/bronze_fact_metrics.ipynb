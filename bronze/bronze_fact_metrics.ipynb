{
  "cells": [
    {
      "cell_type": "code",
      "source": [
        "from pyspark.sql import SparkSession\n",
        "from pyspark.sql.functions import col, year, month, dayofmonth, lit\n",
        "import requests\n",
        "import json\n",
        "import datetime"
      ],
      "outputs": [
        {
          "output_type": "display_data",
          "data": {
            "application/vnd.livy.statement-meta+json": {
              "spark_pool": "practice",
              "statement_id": 98,
              "statement_ids": [
                98
              ],
              "state": "finished",
              "livy_statement_state": "available",
              "spark_jobs": null,
              "session_id": "6",
              "normalized_state": "finished",
              "queued_time": "2025-03-02T14:26:49.840443Z",
              "session_start_time": null,
              "execution_start_time": "2025-03-02T14:26:49.9464907Z",
              "execution_finish_time": "2025-03-02T14:26:50.1210237Z",
              "parent_msg_id": "62b4e3d1-2cd3-4ced-858c-796e2ff097c9"
            },
            "text/plain": "StatementMeta(practice, 6, 98, Finished, Available, Finished)"
          },
          "metadata": {}
        }
      ],
      "execution_count": 97,
      "metadata": {}
    },
    {
      "cell_type": "code",
      "source": [
        "# Initialize Spark Session\n",
        "spark = SparkSession.builder.appName(\"FacebookAdsBackfillFactMetrics\").getOrCreate()\n",
        "\n",
        "# Define Storage Account & Container\n",
        "storage_account_name = \"learningstorage1093\"\n",
        "container_name = \"learning\"\n",
        "stage = \"bronze\"\n",
        "adls_path = f\"abfss://{container_name}@{storage_account_name}.dfs.core.windows.net/{stage}/facebook_ads/fact_facebook_ads_metrics/historical/\""
      ],
      "outputs": [
        {
          "output_type": "display_data",
          "data": {
            "application/vnd.livy.statement-meta+json": {
              "spark_pool": "practice",
              "statement_id": 99,
              "statement_ids": [
                99
              ],
              "state": "finished",
              "livy_statement_state": "available",
              "spark_jobs": null,
              "session_id": "6",
              "normalized_state": "finished",
              "queued_time": "2025-03-02T14:26:49.8898017Z",
              "session_start_time": null,
              "execution_start_time": "2025-03-02T14:26:50.2319607Z",
              "execution_finish_time": "2025-03-02T14:26:50.3933775Z",
              "parent_msg_id": "34b73746-9e06-4ca6-b0bc-233cdb3737bb"
            },
            "text/plain": "StatementMeta(practice, 6, 99, Finished, Available, Finished)"
          },
          "metadata": {}
        }
      ],
      "execution_count": 98,
      "metadata": {}
    },
    {
      "cell_type": "code",
      "source": [
        "# Facebook Ads API Config\n",
        "API_KEY = \"5baaf652028536e79b8ac9dfc72569ec781c\"\n",
        "BASE_URL = \"https://connectors.windsor.ai/facebook\"\n",
        "ACCOUNT_ID = \"2977132755882180\"\n",
        "# Selecting Fact Table Fields\n",
        "FIELDS = \"date,ad_id,adset_id,campaign_id,account_id,platform_position,publisher_platform,spend,impressions,clicks,frequency,actions_complete_registration,actions_lead,actions_video_view,actions_post_engagement,unique_link_clicks_ctr,video_thruplay_watched_actions_video_view\""
      ],
      "outputs": [
        {
          "output_type": "display_data",
          "data": {
            "application/vnd.livy.statement-meta+json": {
              "spark_pool": "practice",
              "statement_id": 100,
              "statement_ids": [
                100
              ],
              "state": "finished",
              "livy_statement_state": "available",
              "spark_jobs": null,
              "session_id": "6",
              "normalized_state": "finished",
              "queued_time": "2025-03-02T14:26:49.9414199Z",
              "session_start_time": null,
              "execution_start_time": "2025-03-02T14:26:50.5144899Z",
              "execution_finish_time": "2025-03-02T14:26:50.6741337Z",
              "parent_msg_id": "d0e363d8-301b-4e84-b0a2-260c6d092fd8"
            },
            "text/plain": "StatementMeta(practice, 6, 100, Finished, Available, Finished)"
          },
          "metadata": {}
        }
      ],
      "execution_count": 99,
      "metadata": {}
    },
    {
      "cell_type": "code",
      "source": [
        "# Define the Start and End Date for Historical Backfill\n",
        "start_date = datetime.date(2023, 1, 1)  \n",
        "end_date = datetime.date.today() - datetime.timedelta(days=1)    "
      ],
      "outputs": [
        {
          "output_type": "display_data",
          "data": {
            "application/vnd.livy.statement-meta+json": {
              "spark_pool": "practice",
              "statement_id": 101,
              "statement_ids": [
                101
              ],
              "state": "finished",
              "livy_statement_state": "available",
              "spark_jobs": null,
              "session_id": "6",
              "normalized_state": "finished",
              "queued_time": "2025-03-02T14:26:49.9887193Z",
              "session_start_time": null,
              "execution_start_time": "2025-03-02T14:26:50.7954826Z",
              "execution_finish_time": "2025-03-02T14:26:50.9593943Z",
              "parent_msg_id": "1c2bac35-aeab-46f5-a833-b14d3eae2aa3"
            },
            "text/plain": "StatementMeta(practice, 6, 101, Finished, Available, Finished)"
          },
          "metadata": {}
        }
      ],
      "execution_count": 100,
      "metadata": {}
    },
    {
      "cell_type": "code",
      "source": [
        "# Placeholder for all daily data\n",
        "all_dataframes = []"
      ],
      "outputs": [
        {
          "output_type": "display_data",
          "data": {
            "application/vnd.livy.statement-meta+json": {
              "spark_pool": "practice",
              "statement_id": 102,
              "statement_ids": [
                102
              ],
              "state": "finished",
              "livy_statement_state": "available",
              "spark_jobs": null,
              "session_id": "6",
              "normalized_state": "finished",
              "queued_time": "2025-03-02T14:26:50.1195095Z",
              "session_start_time": null,
              "execution_start_time": "2025-03-02T14:26:51.0715995Z",
              "execution_finish_time": "2025-03-02T14:26:51.2327613Z",
              "parent_msg_id": "c287efe3-280c-430d-b184-8b800062c850"
            },
            "text/plain": "StatementMeta(practice, 6, 102, Finished, Available, Finished)"
          },
          "metadata": {}
        }
      ],
      "execution_count": 101,
      "metadata": {}
    },
    {
      "cell_type": "code",
      "source": [
        "def fetch_facebook_ads_data(date_from, date_to):\n",
        "    \"\"\"Fetches Facebook Ads data for a specific date range\"\"\"\n",
        "    params = {\n",
        "        \"api_key\": API_KEY,\n",
        "        \"date_from\": date_from,\n",
        "        \"date_to\": date_to,\n",
        "        \"fields\": FIELDS,\n",
        "        \"select_accounts\": ACCOUNT_ID\n",
        "    }\n",
        "    \n",
        "    response = requests.get(BASE_URL, params=params)\n",
        "\n",
        "    # Ensure response is valid JSON and contains 'data'\n",
        "    if response.status_code == 200:\n",
        "        try:\n",
        "            json_data = response.json()  \n",
        "            if \"data\" in json_data:  \n",
        "                return json_data[\"data\"]\n",
        "            else:\n",
        "                print(f\"No 'data' key found in response for {date_from} to {date_to}\")\n",
        "                return []\n",
        "        except json.JSONDecodeError as e:\n",
        "            print(f\"JSON parsing error: {e}\")\n",
        "            return []\n",
        "    else:\n",
        "        print(f\"Error fetching data for {date_from} to {date_to}: {response.text}\")\n",
        "        return []"
      ],
      "outputs": [
        {
          "output_type": "display_data",
          "data": {
            "application/vnd.livy.statement-meta+json": {
              "spark_pool": "practice",
              "statement_id": 103,
              "statement_ids": [
                103
              ],
              "state": "finished",
              "livy_statement_state": "available",
              "spark_jobs": null,
              "session_id": "6",
              "normalized_state": "finished",
              "queued_time": "2025-03-02T14:26:50.1800485Z",
              "session_start_time": null,
              "execution_start_time": "2025-03-02T14:26:51.3263038Z",
              "execution_finish_time": "2025-03-02T14:26:51.4934581Z",
              "parent_msg_id": "bb016b9c-2b60-47b6-bd09-784cfea6e996"
            },
            "text/plain": "StatementMeta(practice, 6, 103, Finished, Available, Finished)"
          },
          "metadata": {}
        }
      ],
      "execution_count": 102,
      "metadata": {}
    },
    {
      "cell_type": "code",
      "source": [
        "from pyspark.sql.types import StructType, StructField, StringType\n",
        "\n",
        "# Explicit Schema using StringType() to handle mixed int/float. We will change it in the silver stage\n",
        "schema = StructType([\n",
        "    StructField(\"date\", StringType(), True),\n",
        "    StructField(\"ad_id\", StringType(), True),\n",
        "    StructField(\"adset_id\", StringType(), True),\n",
        "    StructField(\"campaign_id\", StringType(), True),\n",
        "    StructField(\"account_id\", StringType(), True),\n",
        "    StructField(\"platform_position\", StringType(), True),\n",
        "    StructField(\"publisher_platform\", StringType(), True),\n",
        "    StructField(\"spend\", StringType(), True),\n",
        "    StructField(\"impressions\", StringType(), True),\n",
        "    StructField(\"clicks\", StringType(), True),\n",
        "    StructField(\"frequency\", StringType(), True),\n",
        "    StructField(\"actions_complete_registration\", StringType(), True),  \n",
        "    StructField(\"actions_lead\", StringType(), True),  \n",
        "    StructField(\"actions_video_view\", StringType(), True),  \n",
        "    StructField(\"actions_post_engagement\", StringType(), True),  \n",
        "    StructField(\"unique_link_clicks_ctr\", StringType(), True),\n",
        "    StructField(\"video_thruplay_watched_actions_video_view\", StringType(), True)\n",
        "])\n"
      ],
      "outputs": [
        {
          "output_type": "display_data",
          "data": {
            "application/vnd.livy.statement-meta+json": {
              "spark_pool": "practice",
              "statement_id": 104,
              "statement_ids": [
                104
              ],
              "state": "finished",
              "livy_statement_state": "available",
              "spark_jobs": null,
              "session_id": "6",
              "normalized_state": "finished",
              "queued_time": "2025-03-02T14:26:50.2231808Z",
              "session_start_time": null,
              "execution_start_time": "2025-03-02T14:26:51.5987091Z",
              "execution_finish_time": "2025-03-02T14:26:51.7707496Z",
              "parent_msg_id": "59f62974-ede7-46e3-90b1-d9a9613c1613"
            },
            "text/plain": "StatementMeta(practice, 6, 104, Finished, Available, Finished)"
          },
          "metadata": {}
        }
      ],
      "execution_count": 103,
      "metadata": {}
    },
    {
      "cell_type": "code",
      "source": [
        "# Loop through each day separately\n",
        "current_date = start_date\n",
        "while current_date <= end_date:\n",
        "    date_str = current_date.strftime(\"%Y-%m-%d\")\n",
        "    print(f\"📅 Fetching data for: {date_str}\")\n",
        "\n",
        "    # Fetch data for the specific day\n",
        "    data = fetch_facebook_ads_data(date_str, date_str)\n",
        "\n",
        "    if data:  # ✅ Check if data is available\n",
        "        try:\n",
        "            # ✅ Convert Data into DataFrame with String Schema\n",
        "            df = spark.createDataFrame(data, schema=schema)\n",
        "\n",
        "            # ✅ Convert all numeric fields to FloatType()\n",
        "            numeric_columns = [\"spend\", \"impressions\", \"clicks\", \"frequency\", \n",
        "                               \"actions_complete_registration\", \"actions_lead\", \n",
        "                               \"actions_video_view\", \"actions_post_engagement\", \n",
        "                               \"unique_link_clicks_ctr\", \"video_thruplay_watched_actions_video_view\"]\n",
        "\n",
        "            for col_name in numeric_columns:\n",
        "                df = df.withColumn(col_name, col(col_name).cast(\"float\"))\n",
        "\n",
        "            # ✅ Add metadata columns\n",
        "            df = df.withColumn(\"load_date\", lit(datetime.datetime.now().isoformat())) \\\n",
        "                   .withColumn(\"source\", lit(\"facebook_ads\"))\n",
        "\n",
        "            # ✅ Partitioning by Year/Month/Day\n",
        "            df = df.withColumn(\"year\", year(col(\"date\"))) \\\n",
        "                   .withColumn(\"month\", month(col(\"date\"))) \\\n",
        "                   .withColumn(\"day\", dayofmonth(col(\"date\")))\n",
        "\n",
        "            # ✅ Append to list\n",
        "            all_dataframes.append(df)\n",
        "\n",
        "        except Exception as e:\n",
        "            print(f\"❌ Error processing data for {date_str}: {e}\")\n",
        "\n",
        "    else:\n",
        "        print(f\"❌ No data found for {date_str}, skipping.\")\n",
        "\n",
        "    # Move to the next day\n",
        "    current_date += datetime.timedelta(days=1)\n"
      ],
      "outputs": [
        {
          "output_type": "display_data",
          "data": {
            "application/vnd.livy.statement-meta+json": {
              "spark_pool": "practice",
              "statement_id": 105,
              "statement_ids": [
                105
              ],
              "state": "finished",
              "livy_statement_state": "available",
              "spark_jobs": null,
              "session_id": "6",
              "normalized_state": "finished",
              "queued_time": "2025-03-02T14:26:50.2522877Z",
              "session_start_time": null,
              "execution_start_time": "2025-03-02T14:26:51.8942202Z",
              "execution_finish_time": "2025-03-02T14:58:39.9866448Z",
              "parent_msg_id": "32911384-5d49-4b7f-811c-8c654eeffbe8"
            },
            "text/plain": "StatementMeta(practice, 6, 105, Finished, Available, Finished)"
          },
          "metadata": {}
        },
        {
          "output_type": "stream",
          "name": "stdout",
          "text": [
            "📅 Fetching data for: 2023-01-01\n📅 Fetching data for: 2023-01-02\n📅 Fetching data for: 2023-01-03\n📅 Fetching data for: 2023-01-04\n📅 Fetching data for: 2023-01-05\n📅 Fetching data for: 2023-01-06\n📅 Fetching data for: 2023-01-07\n📅 Fetching data for: 2023-01-08\n📅 Fetching data for: 2023-01-09\n📅 Fetching data for: 2023-01-10\n📅 Fetching data for: 2023-01-11\n📅 Fetching data for: 2023-01-12\n📅 Fetching data for: 2023-01-13\n📅 Fetching data for: 2023-01-14\n📅 Fetching data for: 2023-01-15\n📅 Fetching data for: 2023-01-16\n📅 Fetching data for: 2023-01-17\n📅 Fetching data for: 2023-01-18\n📅 Fetching data for: 2023-01-19\n📅 Fetching data for: 2023-01-20\n📅 Fetching data for: 2023-01-21\n📅 Fetching data for: 2023-01-22\n📅 Fetching data for: 2023-01-23\n📅 Fetching data for: 2023-01-24\n📅 Fetching data for: 2023-01-25\n📅 Fetching data for: 2023-01-26\n📅 Fetching data for: 2023-01-27\n📅 Fetching data for: 2023-01-28\n📅 Fetching data for: 2023-01-29\n📅 Fetching data for: 2023-01-30\n📅 Fetching data for: 2023-01-31\n📅 Fetching data for: 2023-02-01\n📅 Fetching data for: 2023-02-02\n📅 Fetching data for: 2023-02-03\n📅 Fetching data for: 2023-02-04\n📅 Fetching data for: 2023-02-05\n📅 Fetching data for: 2023-02-06\n📅 Fetching data for: 2023-02-07\n📅 Fetching data for: 2023-02-08\n📅 Fetching data for: 2023-02-09\n📅 Fetching data for: 2023-02-10\n📅 Fetching data for: 2023-02-11\n📅 Fetching data for: 2023-02-12\n📅 Fetching data for: 2023-02-13\n📅 Fetching data for: 2023-02-14\n📅 Fetching data for: 2023-02-15\n📅 Fetching data for: 2023-02-16\n📅 Fetching data for: 2023-02-17\n📅 Fetching data for: 2023-02-18\n📅 Fetching data for: 2023-02-19\n📅 Fetching data for: 2023-02-20\n📅 Fetching data for: 2023-02-21\n📅 Fetching data for: 2023-02-22\n📅 Fetching data for: 2023-02-23\n📅 Fetching data for: 2023-02-24\n📅 Fetching data for: 2023-02-25\n📅 Fetching data for: 2023-02-26\n📅 Fetching data for: 2023-02-27\n📅 Fetching data for: 2023-02-28\n📅 Fetching data for: 2023-03-01\n📅 Fetching data for: 2023-03-02\n📅 Fetching data for: 2023-03-03\n📅 Fetching data for: 2023-03-04\n📅 Fetching data for: 2023-03-05\n📅 Fetching data for: 2023-03-06\n📅 Fetching data for: 2023-03-07\n📅 Fetching data for: 2023-03-08\n📅 Fetching data for: 2023-03-09\n📅 Fetching data for: 2023-03-10\n📅 Fetching data for: 2023-03-11\n📅 Fetching data for: 2023-03-12\n❌ No data found for 2023-03-12, skipping.\n📅 Fetching data for: 2023-03-13\n❌ No data found for 2023-03-13, skipping.\n📅 Fetching data for: 2023-03-14\n❌ No data found for 2023-03-14, skipping.\n📅 Fetching data for: 2023-03-15\n❌ No data found for 2023-03-15, skipping.\n📅 Fetching data for: 2023-03-16\n❌ No data found for 2023-03-16, skipping.\n📅 Fetching data for: 2023-03-17\n❌ No data found for 2023-03-17, skipping.\n📅 Fetching data for: 2023-03-18\n❌ No data found for 2023-03-18, skipping.\n📅 Fetching data for: 2023-03-19\n❌ No data found for 2023-03-19, skipping.\n📅 Fetching data for: 2023-03-20\n❌ No data found for 2023-03-20, skipping.\n📅 Fetching data for: 2023-03-21\n❌ No data found for 2023-03-21, skipping.\n📅 Fetching data for: 2023-03-22\n❌ No data found for 2023-03-22, skipping.\n📅 Fetching data for: 2023-03-23\n❌ No data found for 2023-03-23, skipping.\n📅 Fetching data for: 2023-03-24\n❌ No data found for 2023-03-24, skipping.\n📅 Fetching data for: 2023-03-25\n❌ No data found for 2023-03-25, skipping.\n📅 Fetching data for: 2023-03-26\n📅 Fetching data for: 2023-03-27\n📅 Fetching data for: 2023-03-28\n📅 Fetching data for: 2023-03-29\n📅 Fetching data for: 2023-03-30\n📅 Fetching data for: 2023-03-31\n📅 Fetching data for: 2023-04-01\n❌ No data found for 2023-04-01, skipping.\n📅 Fetching data for: 2023-04-02\n❌ No data found for 2023-04-02, skipping.\n📅 Fetching data for: 2023-04-03\n📅 Fetching data for: 2023-04-04\n📅 Fetching data for: 2023-04-05\n📅 Fetching data for: 2023-04-06\n📅 Fetching data for: 2023-04-07\n📅 Fetching data for: 2023-04-08\n📅 Fetching data for: 2023-04-09\n📅 Fetching data for: 2023-04-10\n📅 Fetching data for: 2023-04-11\n❌ No data found for 2023-04-11, skipping.\n📅 Fetching data for: 2023-04-12\n❌ No data found for 2023-04-12, skipping.\n📅 Fetching data for: 2023-04-13\n❌ No data found for 2023-04-13, skipping.\n📅 Fetching data for: 2023-04-14\n❌ No data found for 2023-04-14, skipping.\n📅 Fetching data for: 2023-04-15\n❌ No data found for 2023-04-15, skipping.\n📅 Fetching data for: 2023-04-16\n❌ No data found for 2023-04-16, skipping.\n📅 Fetching data for: 2023-04-17\n❌ No data found for 2023-04-17, skipping.\n📅 Fetching data for: 2023-04-18\n❌ No data found for 2023-04-18, skipping.\n📅 Fetching data for: 2023-04-19\n❌ No data found for 2023-04-19, skipping.\n📅 Fetching data for: 2023-04-20\n❌ No data found for 2023-04-20, skipping.\n📅 Fetching data for: 2023-04-21\n❌ No data found for 2023-04-21, skipping.\n📅 Fetching data for: 2023-04-22\n❌ No data found for 2023-04-22, skipping.\n📅 Fetching data for: 2023-04-23\n❌ No data found for 2023-04-23, skipping.\n📅 Fetching data for: 2023-04-24\n❌ No data found for 2023-04-24, skipping.\n📅 Fetching data for: 2023-04-25\n❌ No data found for 2023-04-25, skipping.\n📅 Fetching data for: 2023-04-26\n❌ No data found for 2023-04-26, skipping.\n📅 Fetching data for: 2023-04-27\n❌ No data found for 2023-04-27, skipping.\n📅 Fetching data for: 2023-04-28\n❌ No data found for 2023-04-28, skipping.\n📅 Fetching data for: 2023-04-29\n❌ No data found for 2023-04-29, skipping.\n📅 Fetching data for: 2023-04-30\n❌ No data found for 2023-04-30, skipping.\n📅 Fetching data for: 2023-05-01\n❌ No data found for 2023-05-01, skipping.\n📅 Fetching data for: 2023-05-02\n❌ No data found for 2023-05-02, skipping.\n📅 Fetching data for: 2023-05-03\n❌ No data found for 2023-05-03, skipping.\n📅 Fetching data for: 2023-05-04\n❌ No data found for 2023-05-04, skipping.\n📅 Fetching data for: 2023-05-05\n❌ No data found for 2023-05-05, skipping.\n📅 Fetching data for: 2023-05-06\n❌ No data found for 2023-05-06, skipping.\n📅 Fetching data for: 2023-05-07\n❌ No data found for 2023-05-07, skipping.\n📅 Fetching data for: 2023-05-08\n❌ No data found for 2023-05-08, skipping.\n📅 Fetching data for: 2023-05-09\n❌ No data found for 2023-05-09, skipping.\n📅 Fetching data for: 2023-05-10\n❌ No data found for 2023-05-10, skipping.\n📅 Fetching data for: 2023-05-11\n❌ No data found for 2023-05-11, skipping.\n📅 Fetching data for: 2023-05-12\n❌ No data found for 2023-05-12, skipping.\n📅 Fetching data for: 2023-05-13\n❌ No data found for 2023-05-13, skipping.\n📅 Fetching data for: 2023-05-14\n❌ No data found for 2023-05-14, skipping.\n📅 Fetching data for: 2023-05-15\n❌ No data found for 2023-05-15, skipping.\n📅 Fetching data for: 2023-05-16\n❌ No data found for 2023-05-16, skipping.\n📅 Fetching data for: 2023-05-17\n❌ No data found for 2023-05-17, skipping.\n📅 Fetching data for: 2023-05-18\n❌ No data found for 2023-05-18, skipping.\n📅 Fetching data for: 2023-05-19\n❌ No data found for 2023-05-19, skipping.\n📅 Fetching data for: 2023-05-20\n❌ No data found for 2023-05-20, skipping.\n📅 Fetching data for: 2023-05-21\n❌ No data found for 2023-05-21, skipping.\n📅 Fetching data for: 2023-05-22\n❌ No data found for 2023-05-22, skipping.\n📅 Fetching data for: 2023-05-23\n❌ No data found for 2023-05-23, skipping.\n📅 Fetching data for: 2023-05-24\n❌ No data found for 2023-05-24, skipping.\n📅 Fetching data for: 2023-05-25\n❌ No data found for 2023-05-25, skipping.\n📅 Fetching data for: 2023-05-26\n❌ No data found for 2023-05-26, skipping.\n📅 Fetching data for: 2023-05-27\n❌ No data found for 2023-05-27, skipping.\n📅 Fetching data for: 2023-05-28\n❌ No data found for 2023-05-28, skipping.\n📅 Fetching data for: 2023-05-29\n❌ No data found for 2023-05-29, skipping.\n📅 Fetching data for: 2023-05-30\n❌ No data found for 2023-05-30, skipping.\n📅 Fetching data for: 2023-05-31\n❌ No data found for 2023-05-31, skipping.\n📅 Fetching data for: 2023-06-01\n❌ No data found for 2023-06-01, skipping.\n📅 Fetching data for: 2023-06-02\n📅 Fetching data for: 2023-06-03\n📅 Fetching data for: 2023-06-04\n📅 Fetching data for: 2023-06-05\n📅 Fetching data for: 2023-06-06\n📅 Fetching data for: 2023-06-07\n📅 Fetching data for: 2023-06-08\n📅 Fetching data for: 2023-06-09\n📅 Fetching data for: 2023-06-10\n📅 Fetching data for: 2023-06-11\n📅 Fetching data for: 2023-06-12\n📅 Fetching data for: 2023-06-13\n📅 Fetching data for: 2023-06-14\n📅 Fetching data for: 2023-06-15\n📅 Fetching data for: 2023-06-16\n📅 Fetching data for: 2023-06-17\n📅 Fetching data for: 2023-06-18\n📅 Fetching data for: 2023-06-19\n📅 Fetching data for: 2023-06-20\n📅 Fetching data for: 2023-06-21\n📅 Fetching data for: 2023-06-22\n📅 Fetching data for: 2023-06-23\n📅 Fetching data for: 2023-06-24\n📅 Fetching data for: 2023-06-25\n📅 Fetching data for: 2023-06-26\n📅 Fetching data for: 2023-06-27\n📅 Fetching data for: 2023-06-28\n📅 Fetching data for: 2023-06-29\n📅 Fetching data for: 2023-06-30\n📅 Fetching data for: 2023-07-01\n📅 Fetching data for: 2023-07-02\n📅 Fetching data for: 2023-07-03\n📅 Fetching data for: 2023-07-04\n📅 Fetching data for: 2023-07-05\n📅 Fetching data for: 2023-07-06\n📅 Fetching data for: 2023-07-07\n📅 Fetching data for: 2023-07-08\n📅 Fetching data for: 2023-07-09\n📅 Fetching data for: 2023-07-10\n📅 Fetching data for: 2023-07-11\n📅 Fetching data for: 2023-07-12\n📅 Fetching data for: 2023-07-13\n📅 Fetching data for: 2023-07-14\n📅 Fetching data for: 2023-07-15\n📅 Fetching data for: 2023-07-16\n📅 Fetching data for: 2023-07-17\n📅 Fetching data for: 2023-07-18\n📅 Fetching data for: 2023-07-19\n📅 Fetching data for: 2023-07-20\n📅 Fetching data for: 2023-07-21\n📅 Fetching data for: 2023-07-22\n📅 Fetching data for: 2023-07-23\n📅 Fetching data for: 2023-07-24\n📅 Fetching data for: 2023-07-25\n📅 Fetching data for: 2023-07-26\n📅 Fetching data for: 2023-07-27\n📅 Fetching data for: 2023-07-28\n📅 Fetching data for: 2023-07-29\n📅 Fetching data for: 2023-07-30\n📅 Fetching data for: 2023-07-31\n📅 Fetching data for: 2023-08-01\n📅 Fetching data for: 2023-08-02\n📅 Fetching data for: 2023-08-03\n📅 Fetching data for: 2023-08-04\n📅 Fetching data for: 2023-08-05\n📅 Fetching data for: 2023-08-06\n📅 Fetching data for: 2023-08-07\n📅 Fetching data for: 2023-08-08\n📅 Fetching data for: 2023-08-09\n📅 Fetching data for: 2023-08-10\n📅 Fetching data for: 2023-08-11\n📅 Fetching data for: 2023-08-12\n📅 Fetching data for: 2023-08-13\n📅 Fetching data for: 2023-08-14\n📅 Fetching data for: 2023-08-15\n📅 Fetching data for: 2023-08-16\n📅 Fetching data for: 2023-08-17\n📅 Fetching data for: 2023-08-18\n📅 Fetching data for: 2023-08-19\n📅 Fetching data for: 2023-08-20\n📅 Fetching data for: 2023-08-21\n📅 Fetching data for: 2023-08-22\n📅 Fetching data for: 2023-08-23\n📅 Fetching data for: 2023-08-24\n📅 Fetching data for: 2023-08-25\n📅 Fetching data for: 2023-08-26\n📅 Fetching data for: 2023-08-27\n📅 Fetching data for: 2023-08-28\n📅 Fetching data for: 2023-08-29\n📅 Fetching data for: 2023-08-30\n📅 Fetching data for: 2023-08-31\n📅 Fetching data for: 2023-09-01\n📅 Fetching data for: 2023-09-02\n📅 Fetching data for: 2023-09-03\n📅 Fetching data for: 2023-09-04\n📅 Fetching data for: 2023-09-05\n📅 Fetching data for: 2023-09-06\n📅 Fetching data for: 2023-09-07\n📅 Fetching data for: 2023-09-08\n📅 Fetching data for: 2023-09-09\n📅 Fetching data for: 2023-09-10\n📅 Fetching data for: 2023-09-11\n📅 Fetching data for: 2023-09-12\n📅 Fetching data for: 2023-09-13\n📅 Fetching data for: 2023-09-14\n📅 Fetching data for: 2023-09-15\n📅 Fetching data for: 2023-09-16\n📅 Fetching data for: 2023-09-17\n📅 Fetching data for: 2023-09-18\n📅 Fetching data for: 2023-09-19\n📅 Fetching data for: 2023-09-20\n📅 Fetching data for: 2023-09-21\n📅 Fetching data for: 2023-09-22\n📅 Fetching data for: 2023-09-23\n📅 Fetching data for: 2023-09-24\n📅 Fetching data for: 2023-09-25\n📅 Fetching data for: 2023-09-26\n📅 Fetching data for: 2023-09-27\n📅 Fetching data for: 2023-09-28\n📅 Fetching data for: 2023-09-29\n📅 Fetching data for: 2023-09-30\n📅 Fetching data for: 2023-10-01\n📅 Fetching data for: 2023-10-02\n📅 Fetching data for: 2023-10-03\n📅 Fetching data for: 2023-10-04\n📅 Fetching data for: 2023-10-05\n📅 Fetching data for: 2023-10-06\n📅 Fetching data for: 2023-10-07\n📅 Fetching data for: 2023-10-08\n📅 Fetching data for: 2023-10-09\n📅 Fetching data for: 2023-10-10\n📅 Fetching data for: 2023-10-11\n📅 Fetching data for: 2023-10-12\n📅 Fetching data for: 2023-10-13\n📅 Fetching data for: 2023-10-14\n📅 Fetching data for: 2023-10-15\n📅 Fetching data for: 2023-10-16\n📅 Fetching data for: 2023-10-17\n📅 Fetching data for: 2023-10-18\n📅 Fetching data for: 2023-10-19\n📅 Fetching data for: 2023-10-20\n📅 Fetching data for: 2023-10-21\n📅 Fetching data for: 2023-10-22\n📅 Fetching data for: 2023-10-23\n📅 Fetching data for: 2023-10-24\n📅 Fetching data for: 2023-10-25\n📅 Fetching data for: 2023-10-26\n📅 Fetching data for: 2023-10-27\n📅 Fetching data for: 2023-10-28\n📅 Fetching data for: 2023-10-29\n📅 Fetching data for: 2023-10-30\n📅 Fetching data for: 2023-10-31\n📅 Fetching data for: 2023-11-01\n📅 Fetching data for: 2023-11-02\n📅 Fetching data for: 2023-11-03\n📅 Fetching data for: 2023-11-04\n📅 Fetching data for: 2023-11-05\n📅 Fetching data for: 2023-11-06\n📅 Fetching data for: 2023-11-07\n📅 Fetching data for: 2023-11-08\n📅 Fetching data for: 2023-11-09\n📅 Fetching data for: 2023-11-10\n📅 Fetching data for: 2023-11-11\n📅 Fetching data for: 2023-11-12\n📅 Fetching data for: 2023-11-13\n📅 Fetching data for: 2023-11-14\n📅 Fetching data for: 2023-11-15\n📅 Fetching data for: 2023-11-16\n📅 Fetching data for: 2023-11-17\n📅 Fetching data for: 2023-11-18\n📅 Fetching data for: 2023-11-19\n📅 Fetching data for: 2023-11-20\n📅 Fetching data for: 2023-11-21\n📅 Fetching data for: 2023-11-22\n📅 Fetching data for: 2023-11-23\n📅 Fetching data for: 2023-11-24\n📅 Fetching data for: 2023-11-25\n📅 Fetching data for: 2023-11-26\n📅 Fetching data for: 2023-11-27\n📅 Fetching data for: 2023-11-28\n📅 Fetching data for: 2023-11-29\n📅 Fetching data for: 2023-11-30\n📅 Fetching data for: 2023-12-01\n📅 Fetching data for: 2023-12-02\n📅 Fetching data for: 2023-12-03\n📅 Fetching data for: 2023-12-04\n📅 Fetching data for: 2023-12-05\n📅 Fetching data for: 2023-12-06\n📅 Fetching data for: 2023-12-07\n📅 Fetching data for: 2023-12-08\n📅 Fetching data for: 2023-12-09\n📅 Fetching data for: 2023-12-10\n📅 Fetching data for: 2023-12-11\n📅 Fetching data for: 2023-12-12\n📅 Fetching data for: 2023-12-13\n📅 Fetching data for: 2023-12-14\n📅 Fetching data for: 2023-12-15\n📅 Fetching data for: 2023-12-16\n📅 Fetching data for: 2023-12-17\n📅 Fetching data for: 2023-12-18\n📅 Fetching data for: 2023-12-19\n❌ No data found for 2023-12-19, skipping.\n📅 Fetching data for: 2023-12-20\n📅 Fetching data for: 2023-12-21\n📅 Fetching data for: 2023-12-22\n❌ No data found for 2023-12-22, skipping.\n📅 Fetching data for: 2023-12-23\n❌ No data found for 2023-12-23, skipping.\n📅 Fetching data for: 2023-12-24\n❌ No data found for 2023-12-24, skipping.\n📅 Fetching data for: 2023-12-25\n❌ No data found for 2023-12-25, skipping.\n📅 Fetching data for: 2023-12-26\n❌ No data found for 2023-12-26, skipping.\n📅 Fetching data for: 2023-12-27\n❌ No data found for 2023-12-27, skipping.\n📅 Fetching data for: 2023-12-28\n❌ No data found for 2023-12-28, skipping.\n📅 Fetching data for: 2023-12-29\n❌ No data found for 2023-12-29, skipping.\n📅 Fetching data for: 2023-12-30\n❌ No data found for 2023-12-30, skipping.\n📅 Fetching data for: 2023-12-31\n❌ No data found for 2023-12-31, skipping.\n📅 Fetching data for: 2024-01-01\n❌ No data found for 2024-01-01, skipping.\n📅 Fetching data for: 2024-01-02\n❌ No data found for 2024-01-02, skipping.\n📅 Fetching data for: 2024-01-03\n❌ No data found for 2024-01-03, skipping.\n📅 Fetching data for: 2024-01-04\n❌ No data found for 2024-01-04, skipping.\n📅 Fetching data for: 2024-01-05\n❌ No data found for 2024-01-05, skipping.\n📅 Fetching data for: 2024-01-06\n❌ No data found for 2024-01-06, skipping.\n📅 Fetching data for: 2024-01-07\n❌ No data found for 2024-01-07, skipping.\n📅 Fetching data for: 2024-01-08\n❌ No data found for 2024-01-08, skipping.\n📅 Fetching data for: 2024-01-09\n❌ No data found for 2024-01-09, skipping.\n📅 Fetching data for: 2024-01-10\n❌ No data found for 2024-01-10, skipping.\n📅 Fetching data for: 2024-01-11\n❌ No data found for 2024-01-11, skipping.\n📅 Fetching data for: 2024-01-12\n📅 Fetching data for: 2024-01-13\n📅 Fetching data for: 2024-01-14\n📅 Fetching data for: 2024-01-15\n📅 Fetching data for: 2024-01-16\n📅 Fetching data for: 2024-01-17\n📅 Fetching data for: 2024-01-18\n📅 Fetching data for: 2024-01-19\n📅 Fetching data for: 2024-01-20\n📅 Fetching data for: 2024-01-21\n📅 Fetching data for: 2024-01-22\n📅 Fetching data for: 2024-01-23\n📅 Fetching data for: 2024-01-24\n📅 Fetching data for: 2024-01-25\n📅 Fetching data for: 2024-01-26\n📅 Fetching data for: 2024-01-27\n📅 Fetching data for: 2024-01-28\n📅 Fetching data for: 2024-01-29\n📅 Fetching data for: 2024-01-30\n📅 Fetching data for: 2024-01-31\n📅 Fetching data for: 2024-02-01\n📅 Fetching data for: 2024-02-02\n📅 Fetching data for: 2024-02-03\n📅 Fetching data for: 2024-02-04\n📅 Fetching data for: 2024-02-05\n📅 Fetching data for: 2024-02-06\n📅 Fetching data for: 2024-02-07\n📅 Fetching data for: 2024-02-08\n📅 Fetching data for: 2024-02-09\n📅 Fetching data for: 2024-02-10\n📅 Fetching data for: 2024-02-11\n📅 Fetching data for: 2024-02-12\n📅 Fetching data for: 2024-02-13\n📅 Fetching data for: 2024-02-14\n📅 Fetching data for: 2024-02-15\n📅 Fetching data for: 2024-02-16\n📅 Fetching data for: 2024-02-17\n📅 Fetching data for: 2024-02-18\n📅 Fetching data for: 2024-02-19\n📅 Fetching data for: 2024-02-20\n📅 Fetching data for: 2024-02-21\n📅 Fetching data for: 2024-02-22\n📅 Fetching data for: 2024-02-23\n📅 Fetching data for: 2024-02-24\n📅 Fetching data for: 2024-02-25\n📅 Fetching data for: 2024-02-26\n📅 Fetching data for: 2024-02-27\n📅 Fetching data for: 2024-02-28\n📅 Fetching data for: 2024-02-29\n📅 Fetching data for: 2024-03-01\n📅 Fetching data for: 2024-03-02\n📅 Fetching data for: 2024-03-03\n📅 Fetching data for: 2024-03-04\n📅 Fetching data for: 2024-03-05\n📅 Fetching data for: 2024-03-06\n📅 Fetching data for: 2024-03-07\n❌ No data found for 2024-03-07, skipping.\n📅 Fetching data for: 2024-03-08\n❌ No data found for 2024-03-08, skipping.\n📅 Fetching data for: 2024-03-09\n❌ No data found for 2024-03-09, skipping.\n📅 Fetching data for: 2024-03-10\n❌ No data found for 2024-03-10, skipping.\n📅 Fetching data for: 2024-03-11\n❌ No data found for 2024-03-11, skipping.\n📅 Fetching data for: 2024-03-12\n❌ No data found for 2024-03-12, skipping.\n📅 Fetching data for: 2024-03-13\n❌ No data found for 2024-03-13, skipping.\n📅 Fetching data for: 2024-03-14\n❌ No data found for 2024-03-14, skipping.\n📅 Fetching data for: 2024-03-15\n❌ No data found for 2024-03-15, skipping.\n📅 Fetching data for: 2024-03-16\n❌ No data found for 2024-03-16, skipping.\n📅 Fetching data for: 2024-03-17\n❌ No data found for 2024-03-17, skipping.\n📅 Fetching data for: 2024-03-18\n❌ No data found for 2024-03-18, skipping.\n📅 Fetching data for: 2024-03-19\n❌ No data found for 2024-03-19, skipping.\n📅 Fetching data for: 2024-03-20\n❌ No data found for 2024-03-20, skipping.\n📅 Fetching data for: 2024-03-21\n❌ No data found for 2024-03-21, skipping.\n📅 Fetching data for: 2024-03-22\n❌ No data found for 2024-03-22, skipping.\n📅 Fetching data for: 2024-03-23\n❌ No data found for 2024-03-23, skipping.\n📅 Fetching data for: 2024-03-24\n❌ No data found for 2024-03-24, skipping.\n📅 Fetching data for: 2024-03-25\n❌ No data found for 2024-03-25, skipping.\n📅 Fetching data for: 2024-03-26\n❌ No data found for 2024-03-26, skipping.\n📅 Fetching data for: 2024-03-27\n❌ No data found for 2024-03-27, skipping.\n📅 Fetching data for: 2024-03-28\n❌ No data found for 2024-03-28, skipping.\n📅 Fetching data for: 2024-03-29\n❌ No data found for 2024-03-29, skipping.\n📅 Fetching data for: 2024-03-30\n❌ No data found for 2024-03-30, skipping.\n📅 Fetching data for: 2024-03-31\n❌ No data found for 2024-03-31, skipping.\n📅 Fetching data for: 2024-04-01\n❌ No data found for 2024-04-01, skipping.\n📅 Fetching data for: 2024-04-02\n❌ No data found for 2024-04-02, skipping.\n📅 Fetching data for: 2024-04-03\n❌ No data found for 2024-04-03, skipping.\n📅 Fetching data for: 2024-04-04\n❌ No data found for 2024-04-04, skipping.\n📅 Fetching data for: 2024-04-05\n❌ No data found for 2024-04-05, skipping.\n📅 Fetching data for: 2024-04-06\n❌ No data found for 2024-04-06, skipping.\n📅 Fetching data for: 2024-04-07\n❌ No data found for 2024-04-07, skipping.\n📅 Fetching data for: 2024-04-08\n❌ No data found for 2024-04-08, skipping.\n📅 Fetching data for: 2024-04-09\n❌ No data found for 2024-04-09, skipping.\n📅 Fetching data for: 2024-04-10\n❌ No data found for 2024-04-10, skipping.\n📅 Fetching data for: 2024-04-11\n❌ No data found for 2024-04-11, skipping.\n📅 Fetching data for: 2024-04-12\n❌ No data found for 2024-04-12, skipping.\n📅 Fetching data for: 2024-04-13\n❌ No data found for 2024-04-13, skipping.\n📅 Fetching data for: 2024-04-14\n❌ No data found for 2024-04-14, skipping.\n📅 Fetching data for: 2024-04-15\n❌ No data found for 2024-04-15, skipping.\n📅 Fetching data for: 2024-04-16\n❌ No data found for 2024-04-16, skipping.\n📅 Fetching data for: 2024-04-17\n❌ No data found for 2024-04-17, skipping.\n📅 Fetching data for: 2024-04-18\n❌ No data found for 2024-04-18, skipping.\n📅 Fetching data for: 2024-04-19\n❌ No data found for 2024-04-19, skipping.\n📅 Fetching data for: 2024-04-20\n❌ No data found for 2024-04-20, skipping.\n📅 Fetching data for: 2024-04-21\n❌ No data found for 2024-04-21, skipping.\n📅 Fetching data for: 2024-04-22\n❌ No data found for 2024-04-22, skipping.\n📅 Fetching data for: 2024-04-23\n❌ No data found for 2024-04-23, skipping.\n📅 Fetching data for: 2024-04-24\n❌ No data found for 2024-04-24, skipping.\n📅 Fetching data for: 2024-04-25\n❌ No data found for 2024-04-25, skipping.\n📅 Fetching data for: 2024-04-26\n❌ No data found for 2024-04-26, skipping.\n📅 Fetching data for: 2024-04-27\n❌ No data found for 2024-04-27, skipping.\n📅 Fetching data for: 2024-04-28\n❌ No data found for 2024-04-28, skipping.\n📅 Fetching data for: 2024-04-29\n❌ No data found for 2024-04-29, skipping.\n📅 Fetching data for: 2024-04-30\n❌ No data found for 2024-04-30, skipping.\n📅 Fetching data for: 2024-05-01\n❌ No data found for 2024-05-01, skipping.\n📅 Fetching data for: 2024-05-02\n❌ No data found for 2024-05-02, skipping.\n📅 Fetching data for: 2024-05-03\n❌ No data found for 2024-05-03, skipping.\n📅 Fetching data for: 2024-05-04\n❌ No data found for 2024-05-04, skipping.\n📅 Fetching data for: 2024-05-05\n❌ No data found for 2024-05-05, skipping.\n📅 Fetching data for: 2024-05-06\n❌ No data found for 2024-05-06, skipping.\n📅 Fetching data for: 2024-05-07\n❌ No data found for 2024-05-07, skipping.\n📅 Fetching data for: 2024-05-08\n❌ No data found for 2024-05-08, skipping.\n📅 Fetching data for: 2024-05-09\n❌ No data found for 2024-05-09, skipping.\n📅 Fetching data for: 2024-05-10\n❌ No data found for 2024-05-10, skipping.\n📅 Fetching data for: 2024-05-11\n❌ No data found for 2024-05-11, skipping.\n📅 Fetching data for: 2024-05-12\n❌ No data found for 2024-05-12, skipping.\n📅 Fetching data for: 2024-05-13\n❌ No data found for 2024-05-13, skipping.\n📅 Fetching data for: 2024-05-14\n❌ No data found for 2024-05-14, skipping.\n📅 Fetching data for: 2024-05-15\n❌ No data found for 2024-05-15, skipping.\n📅 Fetching data for: 2024-05-16\n❌ No data found for 2024-05-16, skipping.\n📅 Fetching data for: 2024-05-17\n❌ No data found for 2024-05-17, skipping.\n📅 Fetching data for: 2024-05-18\n❌ No data found for 2024-05-18, skipping.\n📅 Fetching data for: 2024-05-19\n❌ No data found for 2024-05-19, skipping.\n📅 Fetching data for: 2024-05-20\n❌ No data found for 2024-05-20, skipping.\n📅 Fetching data for: 2024-05-21\n❌ No data found for 2024-05-21, skipping.\n📅 Fetching data for: 2024-05-22\n❌ No data found for 2024-05-22, skipping.\n📅 Fetching data for: 2024-05-23\n❌ No data found for 2024-05-23, skipping.\n📅 Fetching data for: 2024-05-24\n❌ No data found for 2024-05-24, skipping.\n📅 Fetching data for: 2024-05-25\n❌ No data found for 2024-05-25, skipping.\n📅 Fetching data for: 2024-05-26\n❌ No data found for 2024-05-26, skipping.\n📅 Fetching data for: 2024-05-27\n❌ No data found for 2024-05-27, skipping.\n📅 Fetching data for: 2024-05-28\n❌ No data found for 2024-05-28, skipping.\n📅 Fetching data for: 2024-05-29\n❌ No data found for 2024-05-29, skipping.\n📅 Fetching data for: 2024-05-30\n❌ No data found for 2024-05-30, skipping.\n📅 Fetching data for: 2024-05-31\n❌ No data found for 2024-05-31, skipping.\n📅 Fetching data for: 2024-06-01\n❌ No data found for 2024-06-01, skipping.\n📅 Fetching data for: 2024-06-02\n❌ No data found for 2024-06-02, skipping.\n📅 Fetching data for: 2024-06-03\n❌ No data found for 2024-06-03, skipping.\n📅 Fetching data for: 2024-06-04\n❌ No data found for 2024-06-04, skipping.\n📅 Fetching data for: 2024-06-05\n❌ No data found for 2024-06-05, skipping.\n📅 Fetching data for: 2024-06-06\n❌ No data found for 2024-06-06, skipping.\n📅 Fetching data for: 2024-06-07\n❌ No data found for 2024-06-07, skipping.\n📅 Fetching data for: 2024-06-08\n❌ No data found for 2024-06-08, skipping.\n📅 Fetching data for: 2024-06-09\n❌ No data found for 2024-06-09, skipping.\n📅 Fetching data for: 2024-06-10\n❌ No data found for 2024-06-10, skipping.\n📅 Fetching data for: 2024-06-11\n❌ No data found for 2024-06-11, skipping.\n📅 Fetching data for: 2024-06-12\n📅 Fetching data for: 2024-06-13\n📅 Fetching data for: 2024-06-14\n📅 Fetching data for: 2024-06-15\n📅 Fetching data for: 2024-06-16\n📅 Fetching data for: 2024-06-17\n📅 Fetching data for: 2024-06-18\n📅 Fetching data for: 2024-06-19\n📅 Fetching data for: 2024-06-20\n📅 Fetching data for: 2024-06-21\n📅 Fetching data for: 2024-06-22\n📅 Fetching data for: 2024-06-23\n📅 Fetching data for: 2024-06-24\n📅 Fetching data for: 2024-06-25\n📅 Fetching data for: 2024-06-26\n📅 Fetching data for: 2024-06-27\n📅 Fetching data for: 2024-06-28\n📅 Fetching data for: 2024-06-29\n📅 Fetching data for: 2024-06-30\n📅 Fetching data for: 2024-07-01\n📅 Fetching data for: 2024-07-02\n📅 Fetching data for: 2024-07-03\n📅 Fetching data for: 2024-07-04\n📅 Fetching data for: 2024-07-05\n📅 Fetching data for: 2024-07-06\n📅 Fetching data for: 2024-07-07\n📅 Fetching data for: 2024-07-08\n📅 Fetching data for: 2024-07-09\n📅 Fetching data for: 2024-07-10\n📅 Fetching data for: 2024-07-11\n📅 Fetching data for: 2024-07-12\n📅 Fetching data for: 2024-07-13\n📅 Fetching data for: 2024-07-14\n📅 Fetching data for: 2024-07-15\n📅 Fetching data for: 2024-07-16\n📅 Fetching data for: 2024-07-17\n📅 Fetching data for: 2024-07-18\n📅 Fetching data for: 2024-07-19\n📅 Fetching data for: 2024-07-20\n📅 Fetching data for: 2024-07-21\n📅 Fetching data for: 2024-07-22\n📅 Fetching data for: 2024-07-23\n📅 Fetching data for: 2024-07-24\n📅 Fetching data for: 2024-07-25\n📅 Fetching data for: 2024-07-26\n📅 Fetching data for: 2024-07-27\n📅 Fetching data for: 2024-07-28\n📅 Fetching data for: 2024-07-29\n📅 Fetching data for: 2024-07-30\n📅 Fetching data for: 2024-07-31\n📅 Fetching data for: 2024-08-01\n📅 Fetching data for: 2024-08-02\n📅 Fetching data for: 2024-08-03\n📅 Fetching data for: 2024-08-04\n📅 Fetching data for: 2024-08-05\n📅 Fetching data for: 2024-08-06\n📅 Fetching data for: 2024-08-07\n📅 Fetching data for: 2024-08-08\n📅 Fetching data for: 2024-08-09\n📅 Fetching data for: 2024-08-10\n📅 Fetching data for: 2024-08-11\n📅 Fetching data for: 2024-08-12\n📅 Fetching data for: 2024-08-13\n📅 Fetching data for: 2024-08-14\n📅 Fetching data for: 2024-08-15\n📅 Fetching data for: 2024-08-16\n📅 Fetching data for: 2024-08-17\n📅 Fetching data for: 2024-08-18\n📅 Fetching data for: 2024-08-19\n📅 Fetching data for: 2024-08-20\n📅 Fetching data for: 2024-08-21\n📅 Fetching data for: 2024-08-22\n📅 Fetching data for: 2024-08-23\n📅 Fetching data for: 2024-08-24\n📅 Fetching data for: 2024-08-25\n📅 Fetching data for: 2024-08-26\n📅 Fetching data for: 2024-08-27\n📅 Fetching data for: 2024-08-28\n📅 Fetching data for: 2024-08-29\n📅 Fetching data for: 2024-08-30\n📅 Fetching data for: 2024-08-31\n📅 Fetching data for: 2024-09-01\n📅 Fetching data for: 2024-09-02\n📅 Fetching data for: 2024-09-03\n📅 Fetching data for: 2024-09-04\n📅 Fetching data for: 2024-09-05\n📅 Fetching data for: 2024-09-06\n📅 Fetching data for: 2024-09-07\n📅 Fetching data for: 2024-09-08\n📅 Fetching data for: 2024-09-09\n📅 Fetching data for: 2024-09-10\n📅 Fetching data for: 2024-09-11\n📅 Fetching data for: 2024-09-12\n📅 Fetching data for: 2024-09-13\n📅 Fetching data for: 2024-09-14\n📅 Fetching data for: 2024-09-15\n📅 Fetching data for: 2024-09-16\n📅 Fetching data for: 2024-09-17\n📅 Fetching data for: 2024-09-18\n📅 Fetching data for: 2024-09-19\n📅 Fetching data for: 2024-09-20\n📅 Fetching data for: 2024-09-21\n📅 Fetching data for: 2024-09-22\n📅 Fetching data for: 2024-09-23\n📅 Fetching data for: 2024-09-24\n📅 Fetching data for: 2024-09-25\n📅 Fetching data for: 2024-09-26\n📅 Fetching data for: 2024-09-27\n📅 Fetching data for: 2024-09-28\n📅 Fetching data for: 2024-09-29\n📅 Fetching data for: 2024-09-30\n📅 Fetching data for: 2024-10-01\n📅 Fetching data for: 2024-10-02\n📅 Fetching data for: 2024-10-03\n📅 Fetching data for: 2024-10-04\n📅 Fetching data for: 2024-10-05\n❌ No data found for 2024-10-05, skipping.\n📅 Fetching data for: 2024-10-06\n❌ No data found for 2024-10-06, skipping.\n📅 Fetching data for: 2024-10-07\n❌ No data found for 2024-10-07, skipping.\n📅 Fetching data for: 2024-10-08\n❌ No data found for 2024-10-08, skipping.\n📅 Fetching data for: 2024-10-09\n📅 Fetching data for: 2024-10-10\n❌ No data found for 2024-10-10, skipping.\n📅 Fetching data for: 2024-10-11\n📅 Fetching data for: 2024-10-12\n📅 Fetching data for: 2024-10-13\n📅 Fetching data for: 2024-10-14\n📅 Fetching data for: 2024-10-15\n📅 Fetching data for: 2024-10-16\n📅 Fetching data for: 2024-10-17\n📅 Fetching data for: 2024-10-18\n📅 Fetching data for: 2024-10-19\n📅 Fetching data for: 2024-10-20\n📅 Fetching data for: 2024-10-21\n📅 Fetching data for: 2024-10-22\n📅 Fetching data for: 2024-10-23\n📅 Fetching data for: 2024-10-24\n📅 Fetching data for: 2024-10-25\n❌ No data found for 2024-10-25, skipping.\n📅 Fetching data for: 2024-10-26\n❌ No data found for 2024-10-26, skipping.\n📅 Fetching data for: 2024-10-27\n❌ No data found for 2024-10-27, skipping.\n📅 Fetching data for: 2024-10-28\n❌ No data found for 2024-10-28, skipping.\n📅 Fetching data for: 2024-10-29\n❌ No data found for 2024-10-29, skipping.\n📅 Fetching data for: 2024-10-30\n❌ No data found for 2024-10-30, skipping.\n📅 Fetching data for: 2024-10-31\n❌ No data found for 2024-10-31, skipping.\n📅 Fetching data for: 2024-11-01\n❌ No data found for 2024-11-01, skipping.\n📅 Fetching data for: 2024-11-02\n❌ No data found for 2024-11-02, skipping.\n📅 Fetching data for: 2024-11-03\n❌ No data found for 2024-11-03, skipping.\n📅 Fetching data for: 2024-11-04\n📅 Fetching data for: 2024-11-05\n📅 Fetching data for: 2024-11-06\n📅 Fetching data for: 2024-11-07\n📅 Fetching data for: 2024-11-08\n📅 Fetching data for: 2024-11-09\n📅 Fetching data for: 2024-11-10\n📅 Fetching data for: 2024-11-11\n📅 Fetching data for: 2024-11-12\n📅 Fetching data for: 2024-11-13\n📅 Fetching data for: 2024-11-14\n📅 Fetching data for: 2024-11-15\n📅 Fetching data for: 2024-11-16\n📅 Fetching data for: 2024-11-17\n📅 Fetching data for: 2024-11-18\n📅 Fetching data for: 2024-11-19\n📅 Fetching data for: 2024-11-20\n📅 Fetching data for: 2024-11-21\n📅 Fetching data for: 2024-11-22\n📅 Fetching data for: 2024-11-23\n📅 Fetching data for: 2024-11-24\n📅 Fetching data for: 2024-11-25\n📅 Fetching data for: 2024-11-26\n📅 Fetching data for: 2024-11-27\n📅 Fetching data for: 2024-11-28\n📅 Fetching data for: 2024-11-29\n📅 Fetching data for: 2024-11-30\n📅 Fetching data for: 2024-12-01\n📅 Fetching data for: 2024-12-02\n📅 Fetching data for: 2024-12-03\n📅 Fetching data for: 2024-12-04\n📅 Fetching data for: 2024-12-05\n📅 Fetching data for: 2024-12-06\n📅 Fetching data for: 2024-12-07\n📅 Fetching data for: 2024-12-08\n📅 Fetching data for: 2024-12-09\n📅 Fetching data for: 2024-12-10\n📅 Fetching data for: 2024-12-11\n📅 Fetching data for: 2024-12-12\n📅 Fetching data for: 2024-12-13\n📅 Fetching data for: 2024-12-14\n📅 Fetching data for: 2024-12-15\n📅 Fetching data for: 2024-12-16\n📅 Fetching data for: 2024-12-17\n📅 Fetching data for: 2024-12-18\n📅 Fetching data for: 2024-12-19\n📅 Fetching data for: 2024-12-20\n📅 Fetching data for: 2024-12-21\n📅 Fetching data for: 2024-12-22\n📅 Fetching data for: 2024-12-23\n📅 Fetching data for: 2024-12-24\n📅 Fetching data for: 2024-12-25\n📅 Fetching data for: 2024-12-26\n📅 Fetching data for: 2024-12-27\n📅 Fetching data for: 2024-12-28\n📅 Fetching data for: 2024-12-29\n📅 Fetching data for: 2024-12-30\n📅 Fetching data for: 2024-12-31\n📅 Fetching data for: 2025-01-01\n📅 Fetching data for: 2025-01-02\n📅 Fetching data for: 2025-01-03\n📅 Fetching data for: 2025-01-04\n📅 Fetching data for: 2025-01-05\n📅 Fetching data for: 2025-01-06\n📅 Fetching data for: 2025-01-07\n📅 Fetching data for: 2025-01-08\n📅 Fetching data for: 2025-01-09\n📅 Fetching data for: 2025-01-10\n📅 Fetching data for: 2025-01-11\n📅 Fetching data for: 2025-01-12\n📅 Fetching data for: 2025-01-13\n📅 Fetching data for: 2025-01-14\n📅 Fetching data for: 2025-01-15\n📅 Fetching data for: 2025-01-16\n📅 Fetching data for: 2025-01-17\n📅 Fetching data for: 2025-01-18\n📅 Fetching data for: 2025-01-19\n📅 Fetching data for: 2025-01-20\n📅 Fetching data for: 2025-01-21\n📅 Fetching data for: 2025-01-22\n📅 Fetching data for: 2025-01-23\n📅 Fetching data for: 2025-01-24\n📅 Fetching data for: 2025-01-25\n📅 Fetching data for: 2025-01-26\n📅 Fetching data for: 2025-01-27\n📅 Fetching data for: 2025-01-28\n📅 Fetching data for: 2025-01-29\n📅 Fetching data for: 2025-01-30\n📅 Fetching data for: 2025-01-31\n📅 Fetching data for: 2025-02-01\n📅 Fetching data for: 2025-02-02\n📅 Fetching data for: 2025-02-03\n📅 Fetching data for: 2025-02-04\n📅 Fetching data for: 2025-02-05\n📅 Fetching data for: 2025-02-06\n📅 Fetching data for: 2025-02-07\n📅 Fetching data for: 2025-02-08\n📅 Fetching data for: 2025-02-09\n📅 Fetching data for: 2025-02-10\n📅 Fetching data for: 2025-02-11\n📅 Fetching data for: 2025-02-12\n📅 Fetching data for: 2025-02-13\n📅 Fetching data for: 2025-02-14\n📅 Fetching data for: 2025-02-15\n📅 Fetching data for: 2025-02-16\n📅 Fetching data for: 2025-02-17\n📅 Fetching data for: 2025-02-18\n📅 Fetching data for: 2025-02-19\n📅 Fetching data for: 2025-02-20\n📅 Fetching data for: 2025-02-21\n📅 Fetching data for: 2025-02-22\n📅 Fetching data for: 2025-02-23\n📅 Fetching data for: 2025-02-24\n📅 Fetching data for: 2025-02-25\n📅 Fetching data for: 2025-02-26\n📅 Fetching data for: 2025-02-27\n📅 Fetching data for: 2025-02-28\n📅 Fetching data for: 2025-03-01\n"
          ]
        }
      ],
      "execution_count": 104,
      "metadata": {}
    },
    {
      "cell_type": "code",
      "source": [
        "# Save All Data in a Single Write Operation\n",
        "if all_dataframes:\n",
        "    final_df = all_dataframes[0]  # Start with the first dataframe\n",
        "\n",
        "    # Union all daily data into one dataframe\n",
        "    for df in all_dataframes[1:]:\n",
        "        final_df = final_df.union(df)\n",
        "\n",
        "    # Save to ADLS (Partitioned by Year/Month/Day)\n",
        "    print(\"🚀 Saving data to ADLS in a single batch...\")\n",
        "    final_df.write.mode(\"overwrite\").partitionBy(\"year\", \"month\", \"day\").json(adls_path)\n",
        "\n",
        "    print(f\"✅ Successfully saved data to {adls_path}\")\n",
        "else:\n",
        "    print(\"❌ No data fetched. Skipping save operation.\")"
      ],
      "outputs": [
        {
          "output_type": "display_data",
          "data": {
            "application/vnd.livy.statement-meta+json": {
              "spark_pool": "practice",
              "statement_id": 106,
              "statement_ids": [
                106
              ],
              "state": "finished",
              "livy_statement_state": "available",
              "spark_jobs": null,
              "session_id": "6",
              "normalized_state": "finished",
              "queued_time": "2025-03-02T14:26:50.2922808Z",
              "session_start_time": null,
              "execution_start_time": "2025-03-02T14:58:40.1098226Z",
              "execution_finish_time": "2025-03-02T15:14:41.2700923Z",
              "parent_msg_id": "dc52b2de-c387-43de-ad7d-99550c96668d"
            },
            "text/plain": "StatementMeta(practice, 6, 106, Finished, Available, Finished)"
          },
          "metadata": {}
        },
        {
          "output_type": "stream",
          "name": "stdout",
          "text": [
            "🚀 Saving data to ADLS in a single batch...\n✅ Successfully saved data to abfss://learning@learningstorage1093.dfs.core.windows.net/bronze/facebook_ads/fact_facebook_ads_metrics/historical/\n"
          ]
        }
      ],
      "execution_count": 105,
      "metadata": {}
    }
  ],
  "metadata": {
    "language_info": {
      "name": "python"
    },
    "kernelspec": {
      "name": "synapse_pyspark",
      "display_name": "python"
    },
    "description": null,
    "save_output": true,
    "synapse_widget": {
      "version": "0.1",
      "state": {}
    }
  },
  "nbformat": 4,
  "nbformat_minor": 2
}