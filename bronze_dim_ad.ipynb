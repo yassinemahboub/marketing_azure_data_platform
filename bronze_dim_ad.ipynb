{
  "cells": [
    {
      "cell_type": "code",
      "source": [
        "from pyspark.sql import SparkSession\n",
        "from pyspark.sql.functions import col, year, month, dayofmonth, lit\n",
        "import requests\n",
        "import json\n",
        "import datetime"
      ],
      "outputs": [
        {
          "output_type": "display_data",
          "data": {
            "application/vnd.livy.statement-meta+json": {
              "spark_pool": "practice",
              "statement_id": 2,
              "statement_ids": [
                2
              ],
              "state": "finished",
              "livy_statement_state": "available",
              "spark_jobs": null,
              "session_id": "8",
              "normalized_state": "finished",
              "queued_time": "2025-03-02T15:30:38.8304052Z",
              "session_start_time": "2025-03-02T15:30:38.8321369Z",
              "execution_start_time": "2025-03-02T15:31:42.526999Z",
              "execution_finish_time": "2025-03-02T15:31:42.6945291Z",
              "parent_msg_id": "ebb0ac2b-7441-45d1-b0cd-1ed0ab35d734"
            },
            "text/plain": "StatementMeta(practice, 8, 2, Finished, Available, Finished)"
          },
          "metadata": {}
        }
      ],
      "execution_count": 2,
      "metadata": {}
    },
    {
      "cell_type": "code",
      "source": [
        "# Initialize Spark Session\n",
        "spark = SparkSession.builder.appName(\"FacebookAdsBackfillDimAd\").getOrCreate()\n",
        "\n",
        "# Define Storage Account & Container\n",
        "storage_account_name = \"learningstorage1093\"\n",
        "container_name = \"learning\"\n",
        "stage = \"bronze\"\n",
        "adls_path = f\"abfss://{container_name}@{storage_account_name}.dfs.core.windows.net/{stage}/facebook_ads/dim_ad/historical/\""
      ],
      "outputs": [
        {
          "output_type": "display_data",
          "data": {
            "application/vnd.livy.statement-meta+json": {
              "spark_pool": "practice",
              "statement_id": 3,
              "statement_ids": [
                3
              ],
              "state": "finished",
              "livy_statement_state": "available",
              "spark_jobs": null,
              "session_id": "8",
              "normalized_state": "finished",
              "queued_time": "2025-03-02T15:30:38.8793311Z",
              "session_start_time": null,
              "execution_start_time": "2025-03-02T15:31:42.8177547Z",
              "execution_finish_time": "2025-03-02T15:31:43.0165578Z",
              "parent_msg_id": "394efc0b-4df5-44ff-bd4d-773c369f0e02"
            },
            "text/plain": "StatementMeta(practice, 8, 3, Finished, Available, Finished)"
          },
          "metadata": {}
        }
      ],
      "execution_count": 3,
      "metadata": {}
    },
    {
      "cell_type": "code",
      "source": [
        "# Facebook Ads API Config\n",
        "API_KEY = \"5baaf652028536e79b8ac9dfc72569ec781c\"\n",
        "BASE_URL = \"https://connectors.windsor.ai/facebook\"\n",
        "ACCOUNT_ID = \"2977132755882180\"\n",
        "# Selecting Table Fields for `dim_ad`\n",
        "FIELDS = \"ad_id,ad_name,adcontent,ad_created_time\""
      ],
      "outputs": [
        {
          "output_type": "display_data",
          "data": {
            "application/vnd.livy.statement-meta+json": {
              "spark_pool": "practice",
              "statement_id": 4,
              "statement_ids": [
                4
              ],
              "state": "finished",
              "livy_statement_state": "available",
              "spark_jobs": null,
              "session_id": "8",
              "normalized_state": "finished",
              "queued_time": "2025-03-02T15:30:38.9279839Z",
              "session_start_time": null,
              "execution_start_time": "2025-03-02T15:31:43.1350242Z",
              "execution_finish_time": "2025-03-02T15:31:43.3013787Z",
              "parent_msg_id": "455ae18f-fea3-45da-b093-167c9f18aced"
            },
            "text/plain": "StatementMeta(practice, 8, 4, Finished, Available, Finished)"
          },
          "metadata": {}
        }
      ],
      "execution_count": 4,
      "metadata": {}
    },
    {
      "cell_type": "code",
      "source": [
        "# Define the Start and End Date for Historical Backfill\n",
        "start_date = datetime.date(2023, 1, 1)  \n",
        "end_date = datetime.date.today() - datetime.timedelta(days=1) "
      ],
      "outputs": [
        {
          "output_type": "display_data",
          "data": {
            "application/vnd.livy.statement-meta+json": {
              "spark_pool": "practice",
              "statement_id": 5,
              "statement_ids": [
                5
              ],
              "state": "finished",
              "livy_statement_state": "available",
              "spark_jobs": null,
              "session_id": "8",
              "normalized_state": "finished",
              "queued_time": "2025-03-02T15:30:38.9795951Z",
              "session_start_time": null,
              "execution_start_time": "2025-03-02T15:31:43.4029902Z",
              "execution_finish_time": "2025-03-02T15:31:43.5628243Z",
              "parent_msg_id": "3ecf7ae3-f7c5-443b-9d8f-ca877ae2e103"
            },
            "text/plain": "StatementMeta(practice, 8, 5, Finished, Available, Finished)"
          },
          "metadata": {}
        }
      ],
      "execution_count": 5,
      "metadata": {}
    },
    {
      "cell_type": "code",
      "source": [
        "def fetch_facebook_ads_dim_ad():\n",
        "    \"\"\"Fetches Facebook Ads `dim_ad` data for the given date range.\"\"\"\n",
        "    params = {\n",
        "        \"api_key\": API_KEY,\n",
        "        \"date_from\": start_date,\n",
        "        \"date_to\": end_date,\n",
        "        \"fields\": FIELDS\n",
        "    }\n",
        "    \n",
        "    response = requests.get(BASE_URL, params=params)\n",
        "\n",
        "    # Ensure response is valid JSON and contains 'data'\n",
        "    if response.status_code == 200:\n",
        "        try:\n",
        "            json_data = response.json()  # Convert response to JSON\n",
        "            if \"data\" in json_data:  # Extract 'data' key\n",
        "                return json_data[\"data\"]\n",
        "            else:\n",
        "                print(f\"No 'data' key found in response for dim_ad\")\n",
        "                return []\n",
        "        except json.JSONDecodeError as e:\n",
        "            print(f\"JSON parsing error: {e}\")\n",
        "            return []\n",
        "    else:\n",
        "        print(f\"Error fetching dim_ad data: {response.text}\")\n",
        "        return []"
      ],
      "outputs": [
        {
          "output_type": "display_data",
          "data": {
            "application/vnd.livy.statement-meta+json": {
              "spark_pool": "practice",
              "statement_id": 6,
              "statement_ids": [
                6
              ],
              "state": "finished",
              "livy_statement_state": "available",
              "spark_jobs": null,
              "session_id": "8",
              "normalized_state": "finished",
              "queued_time": "2025-03-02T15:30:39.0682019Z",
              "session_start_time": null,
              "execution_start_time": "2025-03-02T15:31:43.6573048Z",
              "execution_finish_time": "2025-03-02T15:31:43.81377Z",
              "parent_msg_id": "e34f7c51-5fe3-415c-902c-2613bc5bc1c0"
            },
            "text/plain": "StatementMeta(practice, 8, 6, Finished, Available, Finished)"
          },
          "metadata": {}
        }
      ],
      "execution_count": 6,
      "metadata": {}
    },
    {
      "cell_type": "code",
      "source": [
        "# Fetch data\n",
        "print(\"📌 Fetching `dim_ad` data...\")\n",
        "data = fetch_facebook_ads_dim_ad()\n"
      ],
      "outputs": [
        {
          "output_type": "display_data",
          "data": {
            "application/vnd.livy.statement-meta+json": {
              "spark_pool": "practice",
              "statement_id": 7,
              "statement_ids": [
                7
              ],
              "state": "finished",
              "livy_statement_state": "available",
              "spark_jobs": null,
              "session_id": "8",
              "normalized_state": "finished",
              "queued_time": "2025-03-02T15:30:39.1100803Z",
              "session_start_time": null,
              "execution_start_time": "2025-03-02T15:31:43.9142488Z",
              "execution_finish_time": "2025-03-02T15:32:53.0075846Z",
              "parent_msg_id": "460f23a4-ecf1-4d49-b5b6-5abc8d5a0c7f"
            },
            "text/plain": "StatementMeta(practice, 8, 7, Finished, Available, Finished)"
          },
          "metadata": {}
        },
        {
          "output_type": "stream",
          "name": "stdout",
          "text": [
            "📌 Fetching `dim_ad` data...\n"
          ]
        }
      ],
      "execution_count": 7,
      "metadata": {}
    },
    {
      "cell_type": "code",
      "source": [
        "if data:\n",
        "    try:\n",
        "        # Convert Data into DataFrame\n",
        "        df = spark.createDataFrame(data)\n",
        "\n",
        "        # Add metadata columns\n",
        "        df = df.withColumn(\"load_date\", lit(datetime.datetime.now().isoformat())) \\\n",
        "               .withColumn(\"source\", lit(\"facebook_ads\"))\n",
        "\n",
        "        # Partitioning by Year of Ad Creation\n",
        "        df = df.withColumn(\"year\", year(col(\"ad_created_time\")))\n",
        "\n",
        "        # Save to ADLS\n",
        "        print(\"🚀 Saving `dim_ad` to Bronze Layer...\")\n",
        "        df.write.mode(\"overwrite\").partitionBy(\"year\").json(adls_path)\n",
        "\n",
        "        print(f\"✅ Successfully saved `dim_ad` data to {adls_path}\")\n",
        "\n",
        "    except Exception as e:\n",
        "        print(f\"❌ Error processing `dim_ad`: {e}\")\n",
        "\n",
        "else:\n",
        "    print(\"❌ No `dim_ad` data found, skipping save operation.\")"
      ],
      "outputs": [
        {
          "output_type": "display_data",
          "data": {
            "application/vnd.livy.statement-meta+json": {
              "spark_pool": "practice",
              "statement_id": 8,
              "statement_ids": [
                8
              ],
              "state": "finished",
              "livy_statement_state": "available",
              "spark_jobs": null,
              "session_id": "8",
              "normalized_state": "finished",
              "queued_time": "2025-03-02T15:30:39.1872492Z",
              "session_start_time": null,
              "execution_start_time": "2025-03-02T15:32:53.1209264Z",
              "execution_finish_time": "2025-03-02T15:33:05.8489109Z",
              "parent_msg_id": "1ae9a7a2-f799-4ae5-8a90-ad839f2e370e"
            },
            "text/plain": "StatementMeta(practice, 8, 8, Finished, Available, Finished)"
          },
          "metadata": {}
        },
        {
          "output_type": "stream",
          "name": "stdout",
          "text": [
            "🚀 Saving `dim_ad` to Bronze Layer...\n✅ Successfully saved `dim_ad` data to abfss://learning@learningstorage1093.dfs.core.windows.net/bronze/facebook_ads/dim_ad/historical/\n"
          ]
        }
      ],
      "execution_count": 8,
      "metadata": {}
    }
  ],
  "metadata": {
    "language_info": {
      "name": "python"
    },
    "kernelspec": {
      "name": "synapse_pyspark",
      "display_name": "python"
    },
    "description": null,
    "save_output": true,
    "synapse_widget": {
      "version": "0.1",
      "state": {}
    }
  },
  "nbformat": 4,
  "nbformat_minor": 2
}