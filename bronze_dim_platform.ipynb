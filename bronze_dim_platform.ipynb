{
  "cells": [
    {
      "cell_type": "code",
      "source": [
        "from pyspark.sql import SparkSession\n",
        "from pyspark.sql.functions import col, year, month, dayofmonth, lit\n",
        "import requests\n",
        "import json\n",
        "import datetime"
      ],
      "outputs": [
        {
          "output_type": "display_data",
          "data": {
            "application/vnd.livy.statement-meta+json": {
              "spark_pool": "practice",
              "statement_id": 2,
              "statement_ids": [
                2
              ],
              "state": "finished",
              "livy_statement_state": "available",
              "spark_jobs": null,
              "session_id": "12",
              "normalized_state": "finished",
              "queued_time": "2025-03-02T16:40:54.1291351Z",
              "session_start_time": "2025-03-02T16:40:54.1309876Z",
              "execution_start_time": "2025-03-02T16:41:57.3446571Z",
              "execution_finish_time": "2025-03-02T16:41:57.5121459Z",
              "parent_msg_id": "016eb49d-436b-44c6-8fea-7b4245421dbb"
            },
            "text/plain": "StatementMeta(practice, 12, 2, Finished, Available, Finished)"
          },
          "metadata": {}
        }
      ],
      "execution_count": 2,
      "metadata": {}
    },
    {
      "cell_type": "code",
      "source": [
        "# Initialize Spark Session\n",
        "spark = SparkSession.builder.appName(\"FacebookAdsBackfillDimPlatform\").getOrCreate()\n",
        "\n",
        "# Define Storage Account & Container\n",
        "storage_account_name = \"learningstorage1093\"\n",
        "container_name = \"learning\"\n",
        "stage = \"bronze\"\n",
        "adls_path = f\"abfss://{container_name}@{storage_account_name}.dfs.core.windows.net/{stage}/facebook_ads/dim_platform/\""
      ],
      "outputs": [
        {
          "output_type": "display_data",
          "data": {
            "application/vnd.livy.statement-meta+json": {
              "spark_pool": "practice",
              "statement_id": 3,
              "statement_ids": [
                3
              ],
              "state": "finished",
              "livy_statement_state": "available",
              "spark_jobs": null,
              "session_id": "12",
              "normalized_state": "finished",
              "queued_time": "2025-03-02T16:40:54.1774465Z",
              "session_start_time": null,
              "execution_start_time": "2025-03-02T16:41:57.6069714Z",
              "execution_finish_time": "2025-03-02T16:41:57.7656777Z",
              "parent_msg_id": "cf151bf3-8c23-4a1e-b406-10b715cb1055"
            },
            "text/plain": "StatementMeta(practice, 12, 3, Finished, Available, Finished)"
          },
          "metadata": {}
        }
      ],
      "execution_count": 3,
      "metadata": {}
    },
    {
      "cell_type": "code",
      "source": [
        "# Facebook Ads API Config\n",
        "API_KEY = \"5baaf652028536e79b8ac9dfc72569ec781c\"\n",
        "BASE_URL = \"https://connectors.windsor.ai/facebook\"\n",
        "ACCOUNT_ID = \"2977132755882180\"\n",
        "# Selecting Table Fields for `dim_platform`\n",
        "FIELDS = \"platform_position,publisher_platform,device_platform\""
      ],
      "outputs": [
        {
          "output_type": "display_data",
          "data": {
            "application/vnd.livy.statement-meta+json": {
              "spark_pool": "practice",
              "statement_id": 4,
              "statement_ids": [
                4
              ],
              "state": "finished",
              "livy_statement_state": "available",
              "spark_jobs": null,
              "session_id": "12",
              "normalized_state": "finished",
              "queued_time": "2025-03-02T16:40:54.2273563Z",
              "session_start_time": null,
              "execution_start_time": "2025-03-02T16:41:57.861301Z",
              "execution_finish_time": "2025-03-02T16:41:58.0452057Z",
              "parent_msg_id": "5153d7da-f708-42cc-842c-7a1cf4a61e97"
            },
            "text/plain": "StatementMeta(practice, 12, 4, Finished, Available, Finished)"
          },
          "metadata": {}
        }
      ],
      "execution_count": 4,
      "metadata": {}
    },
    {
      "cell_type": "code",
      "source": [
        "# Define the Start and End Date for Historical Backfill\n",
        "start_date = datetime.date(2023, 1, 1) \n",
        "end_date = datetime.date.today() - datetime.timedelta(days=1)    "
      ],
      "outputs": [
        {
          "output_type": "display_data",
          "data": {
            "application/vnd.livy.statement-meta+json": {
              "spark_pool": "practice",
              "statement_id": 5,
              "statement_ids": [
                5
              ],
              "state": "finished",
              "livy_statement_state": "available",
              "spark_jobs": null,
              "session_id": "12",
              "normalized_state": "finished",
              "queued_time": "2025-03-02T16:40:54.2778213Z",
              "session_start_time": null,
              "execution_start_time": "2025-03-02T16:41:58.1566544Z",
              "execution_finish_time": "2025-03-02T16:41:58.3259702Z",
              "parent_msg_id": "27019615-034d-429a-92f3-90adddf7450c"
            },
            "text/plain": "StatementMeta(practice, 12, 5, Finished, Available, Finished)"
          },
          "metadata": {}
        }
      ],
      "execution_count": 5,
      "metadata": {}
    },
    {
      "cell_type": "code",
      "source": [
        "def fetch_facebook_ads_dim_platform():\n",
        "    \"\"\"Fetches Facebook Ads `dim_platform` data for the given date range.\"\"\"\n",
        "    params = {\n",
        "        \"api_key\": API_KEY,\n",
        "        \"date_from\": start_date,\n",
        "        \"date_to\": end_date,\n",
        "        \"fields\": FIELDS\n",
        "    }\n",
        "    \n",
        "    response = requests.get(BASE_URL, params=params)\n",
        "\n",
        "    # Ensure response is valid JSON and contains 'data'\n",
        "    if response.status_code == 200:\n",
        "        try:\n",
        "            json_data = response.json()  # Convert response to JSON\n",
        "            if \"data\" in json_data:  # Extract 'data' key\n",
        "                return json_data[\"data\"]\n",
        "            else:\n",
        "                print(f\"No 'data' key found in response for dim_platform\")\n",
        "                return []\n",
        "        except json.JSONDecodeError as e:\n",
        "            print(f\"JSON parsing error: {e}\")\n",
        "            return []\n",
        "    else:\n",
        "        print(f\"Error fetching dim_platform data: {response.text}\")\n",
        "        return []"
      ],
      "outputs": [
        {
          "output_type": "display_data",
          "data": {
            "application/vnd.livy.statement-meta+json": {
              "spark_pool": "practice",
              "statement_id": 6,
              "statement_ids": [
                6
              ],
              "state": "finished",
              "livy_statement_state": "available",
              "spark_jobs": null,
              "session_id": "12",
              "normalized_state": "finished",
              "queued_time": "2025-03-02T16:40:54.3591426Z",
              "session_start_time": null,
              "execution_start_time": "2025-03-02T16:41:58.4316784Z",
              "execution_finish_time": "2025-03-02T16:41:58.606479Z",
              "parent_msg_id": "3986949d-e9f0-43d7-8c6f-74e379f2402e"
            },
            "text/plain": "StatementMeta(practice, 12, 6, Finished, Available, Finished)"
          },
          "metadata": {}
        }
      ],
      "execution_count": 6,
      "metadata": {}
    },
    {
      "cell_type": "code",
      "source": [
        "# Fetch data\n",
        "print(\"📌 Fetching `dim_platform` data...\")\n",
        "data = fetch_facebook_ads_dim_platform()"
      ],
      "outputs": [
        {
          "output_type": "display_data",
          "data": {
            "application/vnd.livy.statement-meta+json": {
              "spark_pool": "practice",
              "statement_id": 7,
              "statement_ids": [
                7
              ],
              "state": "finished",
              "livy_statement_state": "available",
              "spark_jobs": null,
              "session_id": "12",
              "normalized_state": "finished",
              "queued_time": "2025-03-02T16:40:54.3922882Z",
              "session_start_time": null,
              "execution_start_time": "2025-03-02T16:41:58.7085542Z",
              "execution_finish_time": "2025-03-02T16:42:44.4101415Z",
              "parent_msg_id": "7eddc0cb-8a25-4898-82bf-6800d0624a37"
            },
            "text/plain": "StatementMeta(practice, 12, 7, Finished, Available, Finished)"
          },
          "metadata": {}
        },
        {
          "output_type": "stream",
          "name": "stdout",
          "text": [
            "📌 Fetching `dim_platform` data...\n"
          ]
        }
      ],
      "execution_count": 7,
      "metadata": {}
    },
    {
      "cell_type": "code",
      "source": [
        "if data:\n",
        "    try:\n",
        "        # Convert Data into DataFrame\n",
        "        df = spark.createDataFrame(data)\n",
        "\n",
        "        # Add metadata columns\n",
        "        df = df.withColumn(\"load_date\", lit(datetime.datetime.now().isoformat())) \\\n",
        "               .withColumn(\"source\", lit(\"facebook_ads\"))\n",
        "\n",
        "        # Save to ADLS\n",
        "        print(\"🚀 Saving `dim_platform` to Bronze Layer...\")\n",
        "        df.write.mode(\"overwrite\").json(adls_path)\n",
        "\n",
        "        print(f\"✅ Successfully saved `dim_platform` data to {adls_path}\")\n",
        "\n",
        "    except Exception as e:\n",
        "        print(f\"❌ Error processing `dim_platform`: {e}\")\n",
        "\n",
        "else:\n",
        "    print(\"❌ No `dim_platform` data found, skipping save operation.\")"
      ],
      "outputs": [
        {
          "output_type": "display_data",
          "data": {
            "application/vnd.livy.statement-meta+json": {
              "spark_pool": "practice",
              "statement_id": 8,
              "statement_ids": [
                8
              ],
              "state": "finished",
              "livy_statement_state": "available",
              "spark_jobs": null,
              "session_id": "12",
              "normalized_state": "finished",
              "queued_time": "2025-03-02T16:40:54.4432784Z",
              "session_start_time": null,
              "execution_start_time": "2025-03-02T16:42:44.5116633Z",
              "execution_finish_time": "2025-03-02T16:42:56.0603458Z",
              "parent_msg_id": "432b6201-0d44-4a65-bab5-52ff305fabf9"
            },
            "text/plain": "StatementMeta(practice, 12, 8, Finished, Available, Finished)"
          },
          "metadata": {}
        },
        {
          "output_type": "stream",
          "name": "stdout",
          "text": [
            "🚀 Saving `dim_platform` to Bronze Layer...\n✅ Successfully saved `dim_platform` data to abfss://learning@learningstorage1093.dfs.core.windows.net/bronze/facebook_ads/dim_platform/\n"
          ]
        }
      ],
      "execution_count": 8,
      "metadata": {}
    }
  ],
  "metadata": {
    "language_info": {
      "name": "python"
    },
    "kernelspec": {
      "name": "synapse_pyspark",
      "display_name": "python"
    },
    "description": null,
    "save_output": true,
    "synapse_widget": {
      "version": "0.1",
      "state": {}
    }
  },
  "nbformat": 4,
  "nbformat_minor": 2
}