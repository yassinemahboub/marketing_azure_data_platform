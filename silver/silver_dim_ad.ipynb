{
  "nbformat": 4,
  "nbformat_minor": 2,
  "metadata": {
    "language_info": {
      "name": "python"
    },
    "kernelspec": {
      "name": "synapse_pyspark",
      "display_name": "python"
    },
    "description": null,
    "save_output": true,
    "synapse_widget": {
      "version": "0.1",
      "state": {
        "3deaf0cc-a3d1-4a69-9a5b-03324b6088e9": {
          "type": "Synapse.DataFrame",
          "sync_state": {
            "table": {
              "rows": [
                {
                  "0": "2023-07-24T14:24:26+00:00",
                  "1": "23857169141750305",
                  "2": "Angle US - Visuel #7",
                  "3": "Passive Income 25+ - Angle US",
                  "4": "2025-03-02T15:32:53.977487",
                  "5": "facebook_ads",
                  "6": "2023"
                },
                {
                  "0": "2023-07-24T14:24:26+00:00",
                  "1": "23857169141760305",
                  "2": "Angle US - Visuel #4",
                  "3": "Passive Income 25+ - Angle US",
                  "4": "2025-03-02T15:32:53.977487",
                  "5": "facebook_ads",
                  "6": "2023"
                },
                {
                  "0": "2023-07-24T14:24:26+00:00",
                  "1": "23857169141770305",
                  "2": "Angle US - Visuel #1",
                  "3": "Business 25+ - Angle US",
                  "4": "2025-03-02T15:32:53.977487",
                  "5": "facebook_ads",
                  "6": "2023"
                },
                {
                  "0": "2023-07-24T14:24:31+00:00",
                  "1": "23857169141790305",
                  "2": "Angle US - Visuel #7",
                  "3": "Business 25+ - Angle US",
                  "4": "2025-03-02T15:32:53.977487",
                  "5": "facebook_ads",
                  "6": "2023"
                },
                {
                  "0": "2023-07-24T14:24:31+00:00",
                  "1": "23857169141800305",
                  "2": "Angle US - Visuel #10",
                  "3": "Passive Income 25+ - Angle US",
                  "4": "2025-03-02T15:32:53.977487",
                  "5": "facebook_ads",
                  "6": "2023"
                },
                {
                  "0": "2023-07-24T14:24:31+00:00",
                  "1": "23857169141810305",
                  "2": "Angle US - Visuel #1",
                  "3": "Passive Income 25+ - Angle US",
                  "4": "2025-03-02T15:32:53.977487",
                  "5": "facebook_ads",
                  "6": "2023"
                },
                {
                  "0": "2023-07-24T14:24:31+00:00",
                  "1": "23857169141820305",
                  "2": "Angle US - Visuel #4",
                  "3": "Business 25+ - Angle US",
                  "4": "2025-03-02T15:32:53.977487",
                  "5": "facebook_ads",
                  "6": "2023"
                },
                {
                  "0": "2023-07-24T14:24:26+00:00",
                  "1": "23857169141840305",
                  "2": "Angle US - Visuel #10",
                  "3": "Business 25+ - Angle US",
                  "4": "2025-03-02T15:32:53.977487",
                  "5": "facebook_ads",
                  "6": "2023"
                },
                {
                  "0": "2023-07-24T14:25:47+00:00",
                  "1": "23857169171260305",
                  "2": "Angle US - Visuel #1",
                  "3": "Wealth 25+ - Angle US",
                  "4": "2025-03-02T15:32:53.977487",
                  "5": "facebook_ads",
                  "6": "2023"
                },
                {
                  "0": "2023-07-24T14:26:00+00:00",
                  "1": "23857169171270305",
                  "2": "Angle US - Visuel #4",
                  "3": "Investment 25+ - Angle US",
                  "4": "2025-03-02T15:32:53.977487",
                  "5": "facebook_ads",
                  "6": "2023"
                },
                {
                  "0": "2023-07-24T14:25:49+00:00",
                  "1": "23857169171300305",
                  "2": "Angle US - Visuel #10",
                  "3": "Wealth 25+ - Angle US",
                  "4": "2025-03-02T15:32:53.977487",
                  "5": "facebook_ads",
                  "6": "2023"
                },
                {
                  "0": "2023-07-24T14:26:00+00:00",
                  "1": "23857169171310305",
                  "2": "Angle US - Visuel #10",
                  "3": "Investment 25+ - Angle US",
                  "4": "2025-03-02T15:32:53.977487",
                  "5": "facebook_ads",
                  "6": "2023"
                },
                {
                  "0": "2023-07-24T14:25:57+00:00",
                  "1": "23857169171320305",
                  "2": "Angle US - Visuel #7",
                  "3": "Investment 25+ - Angle US",
                  "4": "2025-03-02T15:32:53.977487",
                  "5": "facebook_ads",
                  "6": "2023"
                },
                {
                  "0": "2023-07-24T14:25:47+00:00",
                  "1": "23857169171330305",
                  "2": "Angle US - Visuel #7",
                  "3": "Wealth 25+ - Angle US",
                  "4": "2025-03-02T15:32:53.977487",
                  "5": "facebook_ads",
                  "6": "2023"
                },
                {
                  "0": "2023-07-24T14:25:49+00:00",
                  "1": "23857169171340305",
                  "2": "Angle US - Visuel #4",
                  "3": "Wealth 25+ - Angle US",
                  "4": "2025-03-02T15:32:53.977487",
                  "5": "facebook_ads",
                  "6": "2023"
                },
                {
                  "0": "2023-07-24T14:25:57+00:00",
                  "1": "23857169171350305",
                  "2": "Angle US - Visuel #1",
                  "3": "Investment 25+ - Angle US",
                  "4": "2025-03-02T15:32:53.977487",
                  "5": "facebook_ads",
                  "6": "2023"
                },
                {
                  "0": "2023-07-31T15:10:45+00:00",
                  "1": "23857464564430695",
                  "2": "CR Papier BH Tu aimes",
                  "3": "FRANCE - Ecriture créative - Papier - B2",
                  "4": "2025-03-02T15:32:53.977487",
                  "5": "facebook_ads",
                  "6": "2023"
                },
                {
                  "0": "2023-07-31T15:10:45+00:00",
                  "1": "23857464789280695",
                  "2": "CR8 BH Tu aimes",
                  "3": "FRANCE - Ecriture créative - CR8 B2",
                  "4": "2025-03-02T15:32:53.977487",
                  "5": "facebook_ads",
                  "6": "2023"
                },
                {
                  "0": "2023-08-03T07:44:29+00:00",
                  "1": "23857549488660695",
                  "2": "Vidéo Piège - Copy Bon Salaire",
                  "3": "FRANCE - Investissements Open 25 - 45 - Piège",
                  "4": "2025-03-02T15:32:53.977487",
                  "5": "facebook_ads",
                  "6": "2023"
                },
                {
                  "0": "2023-08-03T07:46:58+00:00",
                  "1": "23857549974870695",
                  "2": "IMG Chien - BH Piège",
                  "3": "FRANCE - Investissements Open - IMG Chien - BH Piège",
                  "4": "2025-03-02T15:32:53.977487",
                  "5": "facebook_ads",
                  "6": "2023"
                },
                {
                  "0": "2023-08-07T21:15:56+00:00",
                  "1": "23857513381030305",
                  "2": "Angle Comparatif - Visuel #8",
                  "3": "Wealth 25+ - Angle Comparatif",
                  "4": "2025-03-02T15:32:53.977487",
                  "5": "facebook_ads",
                  "6": "2023"
                },
                {
                  "0": "2023-08-07T21:15:50+00:00",
                  "1": "23857513509120305",
                  "2": "Angle Comparatif - Visuel #11",
                  "3": "Wealth 25+ - Angle Comparatif",
                  "4": "2025-03-02T15:32:53.977487",
                  "5": "facebook_ads",
                  "6": "2023"
                },
                {
                  "0": "2023-08-07T21:15:56+00:00",
                  "1": "23857513509130305",
                  "2": "Angle Comparatif - Visuel #2",
                  "3": "Wealth 25+ - Angle Comparatif",
                  "4": "2025-03-02T15:32:53.977487",
                  "5": "facebook_ads",
                  "6": "2023"
                },
                {
                  "0": "2023-08-07T21:15:50+00:00",
                  "1": "23857513509140305",
                  "2": "Angle Comparatif - Visuel #5",
                  "3": "Wealth 25+ - Angle Comparatif",
                  "4": "2025-03-02T15:32:53.977487",
                  "5": "facebook_ads",
                  "6": "2023"
                },
                {
                  "0": "2023-08-07T21:15:39+00:00",
                  "1": "23857513521510305",
                  "2": "Angle Comparatif - Visuel #8 - Copy",
                  "3": "Business 25+ - Angle Comparatif",
                  "4": "2025-03-02T15:32:53.977487",
                  "5": "facebook_ads",
                  "6": "2023"
                },
                {
                  "0": "2023-08-07T21:15:39+00:00",
                  "1": "23857513521520305",
                  "2": "Angle Comparatif - Visuel #11 - Copy",
                  "3": "Business 25+ - Angle Comparatif",
                  "4": "2025-03-02T15:32:53.977487",
                  "5": "facebook_ads",
                  "6": "2023"
                },
                {
                  "0": "2023-08-07T21:15:44+00:00",
                  "1": "23857513521530305",
                  "2": "Angle Comparatif - Visuel #2 - Copy",
                  "3": "Business 25+ - Angle Comparatif",
                  "4": "2025-03-02T15:32:53.977487",
                  "5": "facebook_ads",
                  "6": "2023"
                },
                {
                  "0": "2023-08-07T21:15:44+00:00",
                  "1": "23857513521540305",
                  "2": "Angle Comparatif - Visuel #5 - Copy",
                  "3": "Business 25+ - Angle Comparatif",
                  "4": "2025-03-02T15:32:53.977487",
                  "5": "facebook_ads",
                  "6": "2023"
                },
                {
                  "0": "2023-08-07T21:15:29+00:00",
                  "1": "23857513521550305",
                  "2": "Angle Comparatif - Visuel #8 - Copy",
                  "3": "Investment 25+ - Angle Comparatif",
                  "4": "2025-03-02T15:32:53.977487",
                  "5": "facebook_ads",
                  "6": "2023"
                },
                {
                  "0": "2023-08-07T21:15:33+00:00",
                  "1": "23857513521560305",
                  "2": "Angle Comparatif - Visuel #11 - Copy",
                  "3": "Investment 25+ - Angle Comparatif",
                  "4": "2025-03-02T15:32:53.977487",
                  "5": "facebook_ads",
                  "6": "2023"
                },
                {
                  "0": "2023-08-07T21:15:29+00:00",
                  "1": "23857513521570305",
                  "2": "Angle Comparatif - Visuel #2 - Copy",
                  "3": "Investment 25+ - Angle Comparatif",
                  "4": "2025-03-02T15:32:53.977487",
                  "5": "facebook_ads",
                  "6": "2023"
                },
                {
                  "0": "2023-08-07T21:15:33+00:00",
                  "1": "23857513521580305",
                  "2": "Angle Comparatif - Visuel #5 - Copy",
                  "3": "Investment 25+ - Angle Comparatif",
                  "4": "2025-03-02T15:32:53.977487",
                  "5": "facebook_ads",
                  "6": "2023"
                },
                {
                  "0": "2023-08-07T21:15:39+00:00",
                  "1": "23857513521620305",
                  "2": "Angle Comparatif - Visuel #8 - Copy",
                  "3": "Passive Income 25+ - Angle Comparatif",
                  "4": "2025-03-02T15:32:53.977487",
                  "5": "facebook_ads",
                  "6": "2023"
                },
                {
                  "0": "2023-08-07T21:15:44+00:00",
                  "1": "23857513521630305",
                  "2": "Angle Comparatif - Visuel #11 - Copy",
                  "3": "Passive Income 25+ - Angle Comparatif",
                  "4": "2025-03-02T15:32:53.977487",
                  "5": "facebook_ads",
                  "6": "2023"
                },
                {
                  "0": "2023-08-07T21:15:39+00:00",
                  "1": "23857513521640305",
                  "2": "Angle Comparatif - Visuel #5 - Copy",
                  "3": "Passive Income 25+ - Angle Comparatif",
                  "4": "2025-03-02T15:32:53.977487",
                  "5": "facebook_ads",
                  "6": "2023"
                },
                {
                  "0": "2023-08-07T21:15:44+00:00",
                  "1": "23857513521650305",
                  "2": "Angle Comparatif - Visuel #2 - Copy",
                  "3": "Passive Income 25+ - Angle Comparatif",
                  "4": "2025-03-02T15:32:53.977487",
                  "5": "facebook_ads",
                  "6": "2023"
                },
                {
                  "0": "2023-08-07T21:15:33+00:00",
                  "1": "23857513521670305",
                  "2": "Angle Comparatif - Visuel #8 - Copy",
                  "3": "BROAD 25+ - Angle Comparatif",
                  "4": "2025-03-02T15:32:53.977487",
                  "5": "facebook_ads",
                  "6": "2023"
                },
                {
                  "0": "2023-08-07T21:15:33+00:00",
                  "1": "23857513521680305",
                  "2": "Angle Comparatif - Visuel #11 - Copy",
                  "3": "BROAD 25+ - Angle Comparatif",
                  "4": "2025-03-02T15:32:53.977487",
                  "5": "facebook_ads",
                  "6": "2023"
                },
                {
                  "0": "2023-08-07T21:15:29+00:00",
                  "1": "23857513521690305",
                  "2": "Angle Comparatif - Visuel #2 - Copy",
                  "3": "BROAD 25+ - Angle Comparatif",
                  "4": "2025-03-02T15:32:53.977487",
                  "5": "facebook_ads",
                  "6": "2023"
                },
                {
                  "0": "2023-08-07T21:15:29+00:00",
                  "1": "23857513521700305",
                  "2": "Angle Comparatif - Visuel #5 - Copy",
                  "3": "BROAD 25+ - Angle Comparatif",
                  "4": "2025-03-02T15:32:53.977487",
                  "5": "facebook_ads",
                  "6": "2023"
                },
                {
                  "0": "2023-08-07T21:28:12+00:00",
                  "1": "23857513570510305",
                  "2": "Angle Inflation Visuel #3",
                  "3": "Business 25+ - Angle Inflation",
                  "4": "2025-03-02T15:32:53.977487",
                  "5": "facebook_ads",
                  "6": "2023"
                },
                {
                  "0": "2023-08-07T21:28:12+00:00",
                  "1": "23857513726460305",
                  "2": "Angle Inflation Visuel #12",
                  "3": "Business 25+ - Angle Inflation",
                  "4": "2025-03-02T15:32:53.977487",
                  "5": "facebook_ads",
                  "6": "2023"
                },
                {
                  "0": "2023-08-07T21:28:09+00:00",
                  "1": "23857513726470305",
                  "2": "Angle Inflation Visuel #9",
                  "3": "Business 25+ - Angle Inflation",
                  "4": "2025-03-02T15:32:53.977487",
                  "5": "facebook_ads",
                  "6": "2023"
                },
                {
                  "0": "2023-08-07T21:28:09+00:00",
                  "1": "23857513726480305",
                  "2": "Angle Inflation Visuel #6",
                  "3": "Business 25+ - Angle Inflation",
                  "4": "2025-03-02T15:32:53.977487",
                  "5": "facebook_ads",
                  "6": "2023"
                },
                {
                  "0": "2023-08-07T21:28:19+00:00",
                  "1": "23857513761450305",
                  "2": "Angle Inflation Visuel #3 - Copy",
                  "3": "BROAD 25+ - Angle Inflation",
                  "4": "2025-03-02T15:32:53.977487",
                  "5": "facebook_ads",
                  "6": "2023"
                },
                {
                  "0": "2023-08-07T21:28:23+00:00",
                  "1": "23857513761460305",
                  "2": "Angle Inflation Visuel #12 - Copy",
                  "3": "BROAD 25+ - Angle Inflation",
                  "4": "2025-03-02T15:32:53.977487",
                  "5": "facebook_ads",
                  "6": "2023"
                },
                {
                  "0": "2023-08-07T21:28:23+00:00",
                  "1": "23857513761470305",
                  "2": "Angle Inflation Visuel #9 - Copy",
                  "3": "BROAD 25+ - Angle Inflation",
                  "4": "2025-03-02T15:32:53.977487",
                  "5": "facebook_ads",
                  "6": "2023"
                },
                {
                  "0": "2023-08-07T21:28:19+00:00",
                  "1": "23857513761480305",
                  "2": "Angle Inflation Visuel #6 - Copy",
                  "3": "BROAD 25+ - Angle Inflation",
                  "4": "2025-03-02T15:32:53.977487",
                  "5": "facebook_ads",
                  "6": "2023"
                },
                {
                  "0": "2023-08-07T21:28:12+00:00",
                  "1": "23857513761680305",
                  "2": "Angle Inflation Visuel #3 - Copy",
                  "3": "Wealth 25+ - Angle Inflation",
                  "4": "2025-03-02T15:32:53.977487",
                  "5": "facebook_ads",
                  "6": "2023"
                },
                {
                  "0": "2023-08-07T21:28:09+00:00",
                  "1": "23857513761690305",
                  "2": "Angle Inflation Visuel #12 - Copy",
                  "3": "Wealth 25+ - Angle Inflation",
                  "4": "2025-03-02T15:32:53.977487",
                  "5": "facebook_ads",
                  "6": "2023"
                },
                {
                  "0": "2023-08-07T21:28:12+00:00",
                  "1": "23857513761700305",
                  "2": "Angle Inflation Visuel #9 - Copy",
                  "3": "Wealth 25+ - Angle Inflation",
                  "4": "2025-03-02T15:32:53.977487",
                  "5": "facebook_ads",
                  "6": "2023"
                },
                {
                  "0": "2023-08-07T21:28:09+00:00",
                  "1": "23857513761710305",
                  "2": "Angle Inflation Visuel #6 - Copy",
                  "3": "Wealth 25+ - Angle Inflation",
                  "4": "2025-03-02T15:32:53.977487",
                  "5": "facebook_ads",
                  "6": "2023"
                },
                {
                  "0": "2023-08-07T21:27:59+00:00",
                  "1": "23857513761790305",
                  "2": "Angle Inflation Visuel #3 - Copy",
                  "3": "Investment 25+ - Angle Inflation",
                  "4": "2025-03-02T15:32:53.977487",
                  "5": "facebook_ads",
                  "6": "2023"
                },
                {
                  "0": "2023-08-07T21:27:59+00:00",
                  "1": "23857513761800305",
                  "2": "Angle Inflation Visuel #12 - Copy",
                  "3": "Investment 25+ - Angle Inflation",
                  "4": "2025-03-02T15:32:53.977487",
                  "5": "facebook_ads",
                  "6": "2023"
                },
                {
                  "0": "2023-08-07T21:28:04+00:00",
                  "1": "23857513761810305",
                  "2": "Angle Inflation Visuel #9 - Copy",
                  "3": "Investment 25+ - Angle Inflation",
                  "4": "2025-03-02T15:32:53.977487",
                  "5": "facebook_ads",
                  "6": "2023"
                },
                {
                  "0": "2023-08-07T21:28:04+00:00",
                  "1": "23857513761820305",
                  "2": "Angle Inflation Visuel #6 - Copy",
                  "3": "Investment 25+ - Angle Inflation",
                  "4": "2025-03-02T15:32:53.977487",
                  "5": "facebook_ads",
                  "6": "2023"
                },
                {
                  "0": "2023-08-07T21:27:59+00:00",
                  "1": "23857513761840305",
                  "2": "Angle Inflation Visuel #3 - Copy",
                  "3": "Passive Income 25+ - Angle Inflation",
                  "4": "2025-03-02T15:32:53.977487",
                  "5": "facebook_ads",
                  "6": "2023"
                },
                {
                  "0": "2023-08-07T21:27:59+00:00",
                  "1": "23857513761850305",
                  "2": "Angle Inflation Visuel #12 - Copy",
                  "3": "Passive Income 25+ - Angle Inflation",
                  "4": "2025-03-02T15:32:53.977487",
                  "5": "facebook_ads",
                  "6": "2023"
                },
                {
                  "0": "2023-08-07T21:28:04+00:00",
                  "1": "23857513761860305",
                  "2": "Angle Inflation Visuel #9 - Copy",
                  "3": "Passive Income 25+ - Angle Inflation",
                  "4": "2025-03-02T15:32:53.977487",
                  "5": "facebook_ads",
                  "6": "2023"
                },
                {
                  "0": "2023-08-07T21:28:04+00:00",
                  "1": "23857513761870305",
                  "2": "Angle Inflation Visuel #6 - Copy",
                  "3": "Passive Income 25+ - Angle Inflation",
                  "4": "2025-03-02T15:32:53.977487",
                  "5": "facebook_ads",
                  "6": "2023"
                },
                {
                  "0": "2023-08-07T21:37:06+00:00",
                  "1": "23857513930560305",
                  "2": "Angle Comparatif - Video #1",
                  "3": "BROAD 25+ - Angle Comparatif + Videos",
                  "4": "2025-03-02T15:32:53.977487",
                  "5": "facebook_ads",
                  "6": "2023"
                },
                {
                  "0": "2023-08-07T21:37:06+00:00",
                  "1": "23857513930570305",
                  "2": "Angle Comparatif - Video #2",
                  "3": "BROAD 25+ - Angle Comparatif + Videos",
                  "4": "2025-03-02T15:32:53.977487",
                  "5": "facebook_ads",
                  "6": "2023"
                },
                {
                  "0": "2023-08-07T21:37:15+00:00",
                  "1": "23857513930580305",
                  "2": "Angle Comparatif - Video #3",
                  "3": "BROAD 25+ - Angle Comparatif + Videos",
                  "4": "2025-03-02T15:32:53.977487",
                  "5": "facebook_ads",
                  "6": "2023"
                },
                {
                  "0": "2023-08-07T21:39:34+00:00",
                  "1": "23857514061830305",
                  "2": "Angle Inflation Video #1",
                  "3": "BROAD 25+ - Angle Inflation Videos",
                  "4": "2025-03-02T15:32:53.977487",
                  "5": "facebook_ads",
                  "6": "2023"
                },
                {
                  "0": "2023-08-07T21:39:26+00:00",
                  "1": "23857514078760305",
                  "2": "Angle Inflation Video #2",
                  "3": "BROAD 25+ - Angle Inflation Videos",
                  "4": "2025-03-02T15:32:53.977487",
                  "5": "facebook_ads",
                  "6": "2023"
                },
                {
                  "0": "2023-08-07T21:39:26+00:00",
                  "1": "23857514078770305",
                  "2": "Angle Inflation Video #3",
                  "3": "BROAD 25+ - Angle Inflation Videos",
                  "4": "2025-03-02T15:32:53.977487",
                  "5": "facebook_ads",
                  "6": "2023"
                },
                {
                  "0": "2023-08-13T09:41:10+00:00",
                  "1": "23857755875360695",
                  "2": "CR Papier BH Compétence",
                  "3": "FRANCE - Stratégies Marketing 25-45 - Papier",
                  "4": "2025-03-02T15:32:53.977487",
                  "5": "facebook_ads",
                  "6": "2023"
                },
                {
                  "0": "2023-08-13T09:47:48+00:00",
                  "1": "23857755955290695",
                  "2": "VidéoPB BH Compétence",
                  "3": "FRANCE - Ecriture créative - VidéoPB",
                  "4": "2025-03-02T15:32:53.977487",
                  "5": "facebook_ads",
                  "6": "2023"
                },
                {
                  "0": "2023-08-13T09:52:56+00:00",
                  "1": "23857756018970695",
                  "2": "CR Papier BH Tu aimes",
                  "3": "FRANCE - Lecture Large - Papier",
                  "4": "2025-03-02T15:32:53.977487",
                  "5": "facebook_ads",
                  "6": "2023"
                },
                {
                  "0": "2023-08-21T11:08:27+00:00",
                  "1": "23857933429520695",
                  "2": "CR Papier BH Compétence",
                  "3": "FRANCE - Investissements Open - Papier",
                  "4": "2025-03-02T15:32:53.977487",
                  "5": "facebook_ads",
                  "6": "2023"
                },
                {
                  "0": "2023-08-21T11:41:20+00:00",
                  "1": "23857933501160695",
                  "2": "Hamster 1",
                  "3": "FRANCE - Stratégies Marketing - Hamster1",
                  "4": "2025-03-02T15:32:53.977487",
                  "5": "facebook_ads",
                  "6": "2023"
                },
                {
                  "0": "2023-08-21T11:43:05+00:00",
                  "1": "23857934328150695",
                  "2": "Hamster  2",
                  "3": "FRANCE - Investissements Open - Hamster2",
                  "4": "2025-03-02T15:32:53.977487",
                  "5": "facebook_ads",
                  "6": "2023"
                },
                {
                  "0": "2023-08-24T14:37:01+00:00",
                  "1": "23858027369790695",
                  "2": "MJ2 - Fin de l'été",
                  "3": "FRANCE - Stratégies Marketing - MJ2",
                  "4": "2025-03-02T15:32:53.977487",
                  "5": "facebook_ads",
                  "6": "2023"
                },
                {
                  "0": "2023-08-24T14:48:12+00:00",
                  "1": "23858028313890695",
                  "2": "MJ1",
                  "3": "FRANCE - Lecture Large - MJ1",
                  "4": "2025-03-02T15:32:53.977487",
                  "5": "facebook_ads",
                  "6": "2023"
                },
                {
                  "0": "2023-08-31T11:12:28+00:00",
                  "1": "23858193772330695",
                  "2": "Image GB 2 - Compétence",
                  "3": "FRANCE - Stratégies Marketing 25-45 - BH Fin de l'été",
                  "4": "2025-03-02T15:32:53.977487",
                  "5": "facebook_ads",
                  "6": "2023"
                },
                {
                  "0": "2023-08-31T11:17:38+00:00",
                  "1": "23858193931300695",
                  "2": "VidéoPB BH Compétence",
                  "3": "FRANCE - Lecture Large - Vidéo PB",
                  "4": "2025-03-02T15:32:53.977487",
                  "5": "facebook_ads",
                  "6": "2023"
                },
                {
                  "0": "2023-08-31T11:31:37+00:00",
                  "1": "23858194350050695",
                  "2": "Image GB 2 - HE Question",
                  "3": "FRANCE - Stratégies Marketing 25-45 - HE Question",
                  "4": "2025-03-02T15:32:53.977487",
                  "5": "facebook_ads",
                  "6": "2023"
                },
                {
                  "0": "2023-08-31T11:31:37+00:00",
                  "1": "23858194652550695",
                  "2": "Image GB 2 - HE Compétence 2023",
                  "3": "FRANCE - Stratégies Marketing 25-45 - HE Compétence 2023",
                  "4": "2025-03-02T15:32:53.977487",
                  "5": "facebook_ads",
                  "6": "2023"
                },
                {
                  "0": "2023-09-06T07:51:30+00:00",
                  "1": "23858541061720695",
                  "2": "CR Papier BH Compétence",
                  "3": "FRANCE - Investissements Open 25 - 45 - Papier",
                  "4": "2025-03-02T15:32:53.977487",
                  "5": "facebook_ads",
                  "6": "2023"
                },
                {
                  "0": "2023-09-06T07:56:34+00:00",
                  "1": "23858541149190695",
                  "2": "CR Papier HE Ne pas louper",
                  "3": "FRANCE - Ecriture créative - Papier HE Ne pas louper",
                  "4": "2025-03-02T15:32:53.977487",
                  "5": "facebook_ads",
                  "6": "2023"
                },
                {
                  "0": "2023-09-14T12:10:44+00:00",
                  "1": "23858997740530695",
                  "2": "CR Papier HE ne pas louper",
                  "3": "FRANCE - Investissements Open - Papier HE Ne pas louper",
                  "4": "2025-03-02T15:32:53.977487",
                  "5": "facebook_ads",
                  "6": "2023"
                },
                {
                  "0": "2023-09-19T17:37:14+00:00",
                  "1": "23859214175670695",
                  "2": "CR Papier BH Compétence",
                  "3": "FRANCE - Broad - Papier",
                  "4": "2025-03-02T15:32:53.977487",
                  "5": "facebook_ads",
                  "6": "2023"
                },
                {
                  "0": "2023-09-20T09:18:45+00:00",
                  "1": "23859245373140695",
                  "2": "Résultats + Hey + Pas réservé",
                  "3": "25% Viewers VSL 30D - Résultats élèves - Pas réservé",
                  "4": "2025-03-02T15:32:53.977487",
                  "5": "facebook_ads",
                  "6": "2023"
                },
                {
                  "0": "2023-09-20T09:20:28+00:00",
                  "1": "23859245702780695",
                  "2": "Résultats + Hey + Pas réservé",
                  "3": "Page Application 90D - Résultats + Hey + Pas réservé",
                  "4": "2025-03-02T15:32:53.977487",
                  "5": "facebook_ads",
                  "6": "2023"
                },
                {
                  "0": "2023-09-21T15:17:56+00:00",
                  "1": "23859299963630695",
                  "2": "Vidéo Piège - HE Compétence 2023",
                  "3": "FRANCE - Investissements Open - CR Piege HE Comp2023",
                  "4": "2025-03-02T15:32:53.977487",
                  "5": "facebook_ads",
                  "6": "2023"
                },
                {
                  "0": "2023-09-25T16:40:56+00:00",
                  "1": "23859523395130695",
                  "2": "CR Papier HE 2023 BH Entourage",
                  "3": "FRANCE - Ecriture créative - Papier HE 2023 BH entourage",
                  "4": "2025-03-02T15:32:53.977487",
                  "5": "facebook_ads",
                  "6": "2023"
                },
                {
                  "0": "2023-09-25T16:51:05+00:00",
                  "1": "23859523739670695",
                  "2": "CR IMG tu aimes HE 2023",
                  "3": "FRANCE - Ecriture créative - CR Img tu aime HE 2023",
                  "4": "2025-03-02T15:32:53.977487",
                  "5": "facebook_ads",
                  "6": "2023"
                },
                {
                  "0": "2023-09-25T17:05:29+00:00",
                  "1": "23859524171030695",
                  "2": "CR IMG tu aimes HE 2023 BH Beau poste",
                  "3": "FRANCE - Ecriture créative - CR écrire libre HE 2023",
                  "4": "2025-03-02T15:32:53.977487",
                  "5": "facebook_ads",
                  "6": "2023"
                },
                {
                  "0": "2023-10-05T12:23:19+00:00",
                  "1": "23862241848090695",
                  "2": "CR AvAp 1 HE 2023",
                  "3": "FRANCE - Investissements Open 25 - 45 - CR AvAp 1 HE 2023",
                  "4": "2025-03-02T15:32:53.977487",
                  "5": "facebook_ads",
                  "6": "2023"
                },
                {
                  "0": "2023-10-05T12:23:17+00:00",
                  "1": "23862241978580695",
                  "2": "CR AvAp 1 HE 2023",
                  "3": "FRANCE - Stratégies Marketing 25-45 - CR AvAp 1 HE 2023",
                  "4": "2025-03-02T15:32:53.977487",
                  "5": "facebook_ads",
                  "6": "2023"
                },
                {
                  "0": "2023-10-05T12:23:17+00:00",
                  "1": "23862241978600695",
                  "2": "CR AvAp 1 HE 2023",
                  "3": "FRANCE - Ecriture créative - CR AvAp 1 HE 2023",
                  "4": "2025-03-02T15:32:53.977487",
                  "5": "facebook_ads",
                  "6": "2023"
                },
                {
                  "0": "2023-10-05T12:46:27+00:00",
                  "1": "23862242629790695",
                  "2": "Image GB 2 - Compétence",
                  "3": "ALLFR - Stratégies Marketing 25-45 - Compétence",
                  "4": "2025-03-02T15:32:53.977487",
                  "5": "facebook_ads",
                  "6": "2023"
                },
                {
                  "0": "2023-10-05T12:46:27+00:00",
                  "1": "23862242629870695",
                  "2": "CR Papier BH Compétence",
                  "3": "ALLFR - Ecriture créative - Papier",
                  "4": "2025-03-02T15:32:53.977487",
                  "5": "facebook_ads",
                  "6": "2023"
                },
                {
                  "0": "2023-10-05T12:49:31+00:00",
                  "1": "23862242859680695",
                  "2": "CR AvAp 1 HE 2023",
                  "3": "ALLFR - Ecriture créative - CR AvAp 1 HE 2023",
                  "4": "2025-03-02T15:32:53.977487",
                  "5": "facebook_ads",
                  "6": "2023"
                },
                {
                  "0": "2023-10-05T12:49:28+00:00",
                  "1": "23862242859690695",
                  "2": "CR AvAp 1 HE 2023",
                  "3": "ALLFR - Investissements Open - CR AvAp 1 HE 2023",
                  "4": "2025-03-02T15:32:53.977487",
                  "5": "facebook_ads",
                  "6": "2023"
                },
                {
                  "0": "2023-10-05T12:49:28+00:00",
                  "1": "23862242859780695",
                  "2": "CR AvAp 1 HE 2023",
                  "3": "ALLFR - Stratégies Marketing 25-45 - CR AvAp 1 HE 2023",
                  "4": "2025-03-02T15:32:53.977487",
                  "5": "facebook_ads",
                  "6": "2023"
                },
                {
                  "0": "2023-10-09T13:02:31+00:00",
                  "1": "23862401588620695",
                  "2": "CR Papier BH Compétence",
                  "3": "ALLFR - Investissements Open - CR Papier BH Compétence",
                  "4": "2025-03-02T15:32:53.977487",
                  "5": "facebook_ads",
                  "6": "2023"
                },
                {
                  "0": "2023-10-09T13:02:31+00:00",
                  "1": "23862401588680695",
                  "2": "CR Papier BH Compétence",
                  "3": "ALLFR - Stratégies Marketing - CR Papier BH Compétence",
                  "4": "2025-03-02T15:32:53.977487",
                  "5": "facebook_ads",
                  "6": "2023"
                },
                {
                  "0": "2025-01-26T09:42:10+00:00",
                  "1": "120215859959570696",
                  "2": "#1 - Medecin - Copie",
                  "3": "BROAD C 25-40 - 3W",
                  "4": "2025-03-02T15:32:53.977487",
                  "5": "facebook_ads",
                  "6": "2025"
                },
                {
                  "0": "2025-01-27T14:07:36+00:00",
                  "1": "120215909195600696",
                  "2": "#1 - l'IA - Copie",
                  "3": "LLA 5% C 28-40 - IA #3",
                  "4": "2025-03-02T15:32:53.977487",
                  "5": "facebook_ads",
                  "6": "2025"
                },
                {
                  "0": "2025-01-27T14:08:25+00:00",
                  "1": "120215909213050696",
                  "2": "#1 - Medecin",
                  "3": "BROAD 28-40 - Medecin #3",
                  "4": "2025-03-02T15:32:53.977487",
                  "5": "facebook_ads",
                  "6": "2025"
                },
                {
                  "0": "2025-01-27T14:10:46+00:00",
                  "1": "120215909227840696",
                  "2": "#1 - Medecin",
                  "3": "BROAD 28-40 - Medecin #2",
                  "4": "2025-03-02T15:32:53.977487",
                  "5": "facebook_ads",
                  "6": "2025"
                },
                {
                  "0": "2025-01-27T14:10:46+00:00",
                  "1": "120215909228140696",
                  "2": "#3 - Espagne",
                  "3": "Entrepreneuriat 28-40 - Espagne #2",
                  "4": "2025-03-02T15:32:53.977487",
                  "5": "facebook_ads",
                  "6": "2025"
                },
                {
                  "0": "2025-01-27T17:08:39+00:00",
                  "1": "120215911719560696",
                  "2": "New Leads Ad",
                  "3": "New Leads Ad Set",
                  "4": "2025-03-02T15:32:53.977487",
                  "5": "facebook_ads",
                  "6": "2025"
                },
                {
                  "0": "2025-01-31T04:40:34+00:00",
                  "1": "120216057066240696",
                  "2": "PUB 2 - VID 2 (AC 2) - Copy 2",
                  "3": "CompleteRegistration - 10 jours (AC)",
                  "4": "2025-03-02T15:32:53.977487",
                  "5": "facebook_ads",
                  "6": "2025"
                },
                {
                  "0": "2025-01-31T04:46:28+00:00",
                  "1": "120216058251530696",
                  "2": "PUB 2 - VID 2 (AC 2) - Copy 2",
                  "3": "CompleteRegistration - 10 jours (AC)",
                  "4": "2025-03-02T15:32:53.977487",
                  "5": "facebook_ads",
                  "6": "2025"
                },
                {
                  "0": "2025-01-31T04:51:27+00:00",
                  "1": "120216058326130696",
                  "2": "PUB 2 - VID 2 (AC 2) - Copy 3",
                  "3": "CompleteRegistration - 10 jours (AC)",
                  "4": "2025-03-02T15:32:53.977487",
                  "5": "facebook_ads",
                  "6": "2025"
                },
                {
                  "0": "2025-01-31T04:57:34+00:00",
                  "1": "120216058371550696",
                  "2": "Lise",
                  "3": "CompleteRegistration - 10 jours (AC)",
                  "4": "2025-03-02T15:32:53.977487",
                  "5": "facebook_ads",
                  "6": "2025"
                },
                {
                  "0": "2025-01-31T04:57:25+00:00",
                  "1": "120216058382530696",
                  "2": "Philipe",
                  "3": "CompleteRegistration - 10 jours (AC)",
                  "4": "2025-03-02T15:32:53.977487",
                  "5": "facebook_ads",
                  "6": "2025"
                },
                {
                  "0": "2025-02-11T21:55:09+00:00",
                  "1": "120216511057890696",
                  "2": "#1 - Medecin",
                  "3": "BROAD 28-40 - Medecin #3",
                  "4": "2025-03-02T15:32:53.977487",
                  "5": "facebook_ads",
                  "6": "2025"
                },
                {
                  "0": "2025-02-10T06:30:22+00:00",
                  "1": "120216417182270696",
                  "2": "New Leads Ad",
                  "3": "New Leads Ad Set",
                  "4": "2025-03-02T15:32:53.977487",
                  "5": "facebook_ads",
                  "6": "2025"
                },
                {
                  "0": "2025-02-21T20:40:13+00:00",
                  "1": "120217241076990306",
                  "2": "Ad #1 - Votre cerveau vaut de l'or",
                  "3": "BROAD 30-39",
                  "4": "2025-03-02T15:32:53.977487",
                  "5": "facebook_ads",
                  "6": "2025"
                },
                {
                  "0": "2025-02-22T00:52:25+00:00",
                  "1": "120217258959960306",
                  "2": "Ad #1 - Votre cerveau vaut de l'or",
                  "3": "BROAD 30-39",
                  "4": "2025-03-02T15:32:53.977487",
                  "5": "facebook_ads",
                  "6": "2025"
                },
                {
                  "0": "2025-02-22T07:49:17+00:00",
                  "1": "120217293362340306",
                  "2": "Ad #1 - Votre cerveau vaut de l'or",
                  "3": "BROAD 30-39",
                  "4": "2025-03-02T15:32:53.977487",
                  "5": "facebook_ads",
                  "6": "2025"
                },
                {
                  "0": "2025-02-22T08:13:43+00:00",
                  "1": "120217295667620306",
                  "2": "Ad #1 - Votre cerveau vaut de l'or",
                  "3": "BROAD 30-39",
                  "4": "2025-03-02T15:32:53.977487",
                  "5": "facebook_ads",
                  "6": "2025"
                },
                {
                  "0": "2025-02-22T06:25:16+00:00",
                  "1": "120217187605090696",
                  "2": "vidéo ad 1 - T3",
                  "3": "Broad - VidéoAd1 [est ce que t'aime écrire?]",
                  "4": "2025-03-02T15:32:53.977487",
                  "5": "facebook_ads",
                  "6": "2025"
                },
                {
                  "0": "2025-02-22T06:25:16+00:00",
                  "1": "120217187605100696",
                  "2": "vidéo ad 1 - T2",
                  "3": "Broad - VidéoAd1 [est ce que t'aime écrire?]",
                  "4": "2025-03-02T15:32:53.977487",
                  "5": "facebook_ads",
                  "6": "2025"
                },
                {
                  "0": "2025-02-22T06:25:16+00:00",
                  "1": "120217187605110696",
                  "2": "vidéo ad 2 - T3",
                  "3": "Broad - VidéoAd2 [est ce que t'aime écrire? BIS]",
                  "4": "2025-03-02T15:32:53.977487",
                  "5": "facebook_ads",
                  "6": "2025"
                },
                {
                  "0": "2025-02-22T06:25:16+00:00",
                  "1": "120217187605120696",
                  "2": "vidéo ad 1 - T1",
                  "3": "Broad - VidéoAd1 [est ce que t'aime écrire?]",
                  "4": "2025-03-02T15:32:53.977487",
                  "5": "facebook_ads",
                  "6": "2025"
                },
                {
                  "0": "2025-02-22T06:25:16+00:00",
                  "1": "120217187605130696",
                  "2": "vidéo ad 4 - T3",
                  "3": "Broad - VidéoAd4 [Salut moi c'est Benoit]",
                  "4": "2025-03-02T15:32:53.977487",
                  "5": "facebook_ads",
                  "6": "2025"
                },
                {
                  "0": "2025-02-22T06:25:16+00:00",
                  "1": "120217187605140696",
                  "2": "vidéo ad 3 - T2",
                  "3": "Broad - VidéoAd3 [Hey..Bonne nouvelle!]",
                  "4": "2025-03-02T15:32:53.977487",
                  "5": "facebook_ads",
                  "6": "2025"
                },
                {
                  "0": "2025-02-22T06:25:16+00:00",
                  "1": "120217187605210696",
                  "2": "vidéo ad 2 - T1",
                  "3": "Broad - VidéoAd2 [est ce que t'aime écrire? BIS]",
                  "4": "2025-03-02T15:32:53.977487",
                  "5": "facebook_ads",
                  "6": "2025"
                },
                {
                  "0": "2025-02-22T06:25:16+00:00",
                  "1": "120217187605220696",
                  "2": "vidéo ad 2 - T2",
                  "3": "Broad - VidéoAd2 [est ce que t'aime écrire? BIS]",
                  "4": "2025-03-02T15:32:53.977487",
                  "5": "facebook_ads",
                  "6": "2025"
                },
                {
                  "0": "2025-02-22T06:25:16+00:00",
                  "1": "120217187605230696",
                  "2": "vidéo ad 8 - T1",
                  "3": "Broad - VidéoAd8 [cest pas une plage paradisiaque]",
                  "4": "2025-03-02T15:32:53.977487",
                  "5": "facebook_ads",
                  "6": "2025"
                },
                {
                  "0": "2025-02-22T06:25:16+00:00",
                  "1": "120217187605240696",
                  "2": "vidéo ad 3 - T3",
                  "3": "Broad - VidéoAd3 [Hey..Bonne nouvelle!]",
                  "4": "2025-03-02T15:32:53.977487",
                  "5": "facebook_ads",
                  "6": "2025"
                },
                {
                  "0": "2025-02-22T06:25:16+00:00",
                  "1": "120217187605250696",
                  "2": "vidéo ad 4 - T1",
                  "3": "Broad - VidéoAd4 [Salut moi c'est Benoit]",
                  "4": "2025-03-02T15:32:53.977487",
                  "5": "facebook_ads",
                  "6": "2025"
                },
                {
                  "0": "2025-02-22T06:25:16+00:00",
                  "1": "120217187605260696",
                  "2": "vidéo ad 5 - T3",
                  "3": "Broad - VidéoAd5 [toctoc combien de personnes ?]",
                  "4": "2025-03-02T15:32:53.977487",
                  "5": "facebook_ads",
                  "6": "2025"
                },
                {
                  "0": "2025-02-22T06:25:16+00:00",
                  "1": "120217187605270696",
                  "2": "vidéo ad 5- T2",
                  "3": "Broad - VidéoAd5 [toctoc combien de personnes ?]",
                  "4": "2025-03-02T15:32:53.977487",
                  "5": "facebook_ads",
                  "6": "2025"
                },
                {
                  "0": "2025-02-22T06:25:16+00:00",
                  "1": "120217187605280696",
                  "2": "vidéo ad 6 - T1",
                  "3": "Broad - VidéoAd6 [Comment je gagne ma vie]",
                  "4": "2025-03-02T15:32:53.977487",
                  "5": "facebook_ads",
                  "6": "2025"
                },
                {
                  "0": "2025-02-22T06:25:16+00:00",
                  "1": "120217187605290696",
                  "2": "vidéo ad 7 - T1",
                  "3": "Broad - VidéoAd7 [est ce que tu savais]",
                  "4": "2025-03-02T15:32:53.977487",
                  "5": "facebook_ads",
                  "6": "2025"
                },
                {
                  "0": "2025-02-22T06:25:16+00:00",
                  "1": "120217187605310696",
                  "2": "images vague 1 dynamic",
                  "3": "Broad - Dynamic images",
                  "4": "2025-03-02T15:32:53.977487",
                  "5": "facebook_ads",
                  "6": "2025"
                },
                {
                  "0": "2025-02-22T06:25:16+00:00",
                  "1": "120217187605320696",
                  "2": "vidéo ad 3 - T1",
                  "3": "Broad - VidéoAd3 [Hey..Bonne nouvelle!]",
                  "4": "2025-03-02T15:32:53.977487",
                  "5": "facebook_ads",
                  "6": "2025"
                },
                {
                  "0": "2025-02-22T06:25:16+00:00",
                  "1": "120217187605330696",
                  "2": "vidéo ad 7 - T3",
                  "3": "Broad - VidéoAd7 [est ce que tu savais]",
                  "4": "2025-03-02T15:32:53.977487",
                  "5": "facebook_ads",
                  "6": "2025"
                },
                {
                  "0": "2025-02-22T06:25:16+00:00",
                  "1": "120217187605340696",
                  "2": "vidéo ad 9 - T1",
                  "3": "Broad - VidéoAd9 [STOP, tu savais ?]",
                  "4": "2025-03-02T15:32:53.977487",
                  "5": "facebook_ads",
                  "6": "2025"
                },
                {
                  "0": "2025-02-22T06:25:16+00:00",
                  "1": "120217187605350696",
                  "2": "vidéo ad 5 - T1",
                  "3": "Broad - VidéoAd5 [toctoc combien de personnes ?]",
                  "4": "2025-03-02T15:32:53.977487",
                  "5": "facebook_ads",
                  "6": "2025"
                },
                {
                  "0": "2025-02-22T06:25:16+00:00",
                  "1": "120217187605360696",
                  "2": "vidéo ad 4- T2",
                  "3": "Broad - VidéoAd4 [Salut moi c'est Benoit]",
                  "4": "2025-03-02T15:32:53.977487",
                  "5": "facebook_ads",
                  "6": "2025"
                },
                {
                  "0": "2025-02-22T06:25:16+00:00",
                  "1": "120217187605370696",
                  "2": "vidéo ad 6 - T3",
                  "3": "Broad - VidéoAd6 [Comment je gagne ma vie]",
                  "4": "2025-03-02T15:32:53.977487",
                  "5": "facebook_ads",
                  "6": "2025"
                },
                {
                  "0": "2025-02-22T06:25:16+00:00",
                  "1": "120217187605380696",
                  "2": "vidéo ad 6 - T2",
                  "3": "Broad - VidéoAd6 [Comment je gagne ma vie]",
                  "4": "2025-03-02T15:32:53.977487",
                  "5": "facebook_ads",
                  "6": "2025"
                },
                {
                  "0": "2025-02-22T06:25:16+00:00",
                  "1": "120217187605390696",
                  "2": "vidéo ad 9 - T2",
                  "3": "Broad - VidéoAd9 [STOP, tu savais ?]",
                  "4": "2025-03-02T15:32:53.977487",
                  "5": "facebook_ads",
                  "6": "2025"
                },
                {
                  "0": "2025-02-22T06:25:16+00:00",
                  "1": "120217187605400696",
                  "2": "vidéo ad 7 - T2",
                  "3": "Broad - VidéoAd7 [est ce que tu savais]",
                  "4": "2025-03-02T15:32:53.977487",
                  "5": "facebook_ads",
                  "6": "2025"
                },
                {
                  "0": "2025-02-22T06:25:16+00:00",
                  "1": "120217187605420696",
                  "2": "vidéo ad 9 - T3",
                  "3": "Broad - VidéoAd9 [STOP, tu savais ?]",
                  "4": "2025-03-02T15:32:53.977487",
                  "5": "facebook_ads",
                  "6": "2025"
                },
                {
                  "0": "2025-02-22T06:25:16+00:00",
                  "1": "120217187605440696",
                  "2": "vidéo ad 8 - T2",
                  "3": "Broad - VidéoAd8 [cest pas une plage paradisiaque]",
                  "4": "2025-03-02T15:32:53.977487",
                  "5": "facebook_ads",
                  "6": "2025"
                },
                {
                  "0": "2025-02-22T06:25:16+00:00",
                  "1": "120217187605460696",
                  "2": "vidéo ad 8 - T3",
                  "3": "Broad - VidéoAd8 [cest pas une plage paradisiaque]",
                  "4": "2025-03-02T15:32:53.977487",
                  "5": "facebook_ads",
                  "6": "2025"
                },
                {
                  "0": "2025-02-24T10:15:44+00:00",
                  "1": "120217452512160696",
                  "2": "vidéo ad 7 - T3",
                  "3": "Business - VidéoAd7 [est ce que tu savais] - Copie",
                  "4": "2025-03-02T15:32:53.977487",
                  "5": "facebook_ads",
                  "6": "2025"
                },
                {
                  "0": "2025-02-24T10:15:44+00:00",
                  "1": "120217452512180696",
                  "2": "vidéo ad 1 - T2",
                  "3": "Business - VidéoAd1 [est ce que t'aime écrire?] - Copie",
                  "4": "2025-03-02T15:32:53.977487",
                  "5": "facebook_ads",
                  "6": "2025"
                },
                {
                  "0": "2025-02-24T10:15:44+00:00",
                  "1": "120217452512200696",
                  "2": "vidéo ad 7 - T2",
                  "3": "Business - VidéoAd7 [est ce que tu savais] - Copie",
                  "4": "2025-03-02T15:32:53.977487",
                  "5": "facebook_ads",
                  "6": "2025"
                },
                {
                  "0": "2025-02-24T10:15:44+00:00",
                  "1": "120217452512220696",
                  "2": "vidéo ad 7 - T2",
                  "3": "Entrepreneuriat - VidéoAd7 [est ce que tu savais] - Copie",
                  "4": "2025-03-02T15:32:53.977487",
                  "5": "facebook_ads",
                  "6": "2025"
                },
                {
                  "0": "2025-02-24T10:15:44+00:00",
                  "1": "120217452512230696",
                  "2": "vidéo ad 1 - T2",
                  "3": "Entrepreneuriat - VidéoAd1 [est ce que t'aime écrire?] - Copie",
                  "4": "2025-03-02T15:32:53.977487",
                  "5": "facebook_ads",
                  "6": "2025"
                },
                {
                  "0": "2025-02-24T10:15:44+00:00",
                  "1": "120217452512240696",
                  "2": "vidéo ad 1 - T3",
                  "3": "Entrepreneuriat - VidéoAd1 [est ce que t'aime écrire?] - Copie",
                  "4": "2025-03-02T15:32:53.977487",
                  "5": "facebook_ads",
                  "6": "2025"
                },
                {
                  "0": "2025-02-24T10:15:44+00:00",
                  "1": "120217452512260696",
                  "2": "vidéo ad 7 - T3",
                  "3": "Entrepreneuriat - VidéoAd7 [est ce que tu savais] - Copie",
                  "4": "2025-03-02T15:32:53.977487",
                  "5": "facebook_ads",
                  "6": "2025"
                },
                {
                  "0": "2025-02-24T10:15:44+00:00",
                  "1": "120217452512270696",
                  "2": "vidéo ad 7 - T1",
                  "3": "Business - VidéoAd7 [est ce que tu savais] - Copie",
                  "4": "2025-03-02T15:32:53.977487",
                  "5": "facebook_ads",
                  "6": "2025"
                },
                {
                  "0": "2025-02-24T10:15:44+00:00",
                  "1": "120217452512280696",
                  "2": "vidéo ad 7 - T1",
                  "3": "Entrepreneuriat - VidéoAd7 [est ce que tu savais] - Copie",
                  "4": "2025-03-02T15:32:53.977487",
                  "5": "facebook_ads",
                  "6": "2025"
                },
                {
                  "0": "2025-02-24T10:18:09+00:00",
                  "1": "120217452582330696",
                  "2": "vidéo ad 1 - T3",
                  "3": "Money - VidéoAd7 [est ce que tu savais]",
                  "4": "2025-03-02T15:32:53.977487",
                  "5": "facebook_ads",
                  "6": "2025"
                },
                {
                  "0": "2025-02-24T10:18:09+00:00",
                  "1": "120217452582340696",
                  "2": "vidéo ad 1 - T1",
                  "3": "Money - VidéoAd7 [est ce que tu savais]",
                  "4": "2025-03-02T15:32:53.977487",
                  "5": "facebook_ads",
                  "6": "2025"
                },
                {
                  "0": "2025-02-24T10:18:09+00:00",
                  "1": "120217452582350696",
                  "2": "vidéo ad 7 - T3",
                  "3": "Money - VidéoAd7 [est ce que tu savais] - Copie",
                  "4": "2025-03-02T15:32:53.977487",
                  "5": "facebook_ads",
                  "6": "2025"
                },
                {
                  "0": "2025-02-24T10:18:09+00:00",
                  "1": "120217452582370696",
                  "2": "vidéo ad 7 - T1",
                  "3": "Money - VidéoAd7 [est ce que tu savais] - Copie",
                  "4": "2025-03-02T15:32:53.977487",
                  "5": "facebook_ads",
                  "6": "2025"
                },
                {
                  "0": "2025-02-24T10:18:09+00:00",
                  "1": "120217452582380696",
                  "2": "vidéo ad 1 - T2",
                  "3": "Money - VidéoAd7 [est ce que tu savais]",
                  "4": "2025-03-02T15:32:53.977487",
                  "5": "facebook_ads",
                  "6": "2025"
                },
                {
                  "0": "2025-02-24T10:18:09+00:00",
                  "1": "120217452582390696",
                  "2": "vidéo ad 7 - T2",
                  "3": "Money - VidéoAd7 [est ce que tu savais] - Copie",
                  "4": "2025-03-02T15:32:53.977487",
                  "5": "facebook_ads",
                  "6": "2025"
                },
                {
                  "0": "2025-02-24T10:15:44+00:00",
                  "1": "120217452512290696",
                  "2": "vidéo ad 1 - T3",
                  "3": "Business - VidéoAd1 [est ce que t'aime écrire?] - Copie",
                  "4": "2025-03-02T15:32:53.977487",
                  "5": "facebook_ads",
                  "6": "2025"
                },
                {
                  "0": "2025-02-27T23:49:58+00:00",
                  "1": "120217897115090306",
                  "2": "Ad #1 - V2",
                  "3": "BROAD 30-39 - ad #6 entrepreneurs",
                  "4": "2025-03-02T15:32:53.977487",
                  "5": "facebook_ads",
                  "6": "2025"
                },
                {
                  "0": "2025-02-27T23:49:58+00:00",
                  "1": "120217897320500306",
                  "2": "Ad #1 - V2",
                  "3": "Maths 30-39 - ad #6 entrepreneurs",
                  "4": "2025-03-02T15:32:53.977487",
                  "5": "facebook_ads",
                  "6": "2025"
                },
                {
                  "0": "2025-02-27T23:49:58+00:00",
                  "1": "120217897320510306",
                  "2": "Ad #1 - V2",
                  "3": "Science 30-39 - ad #6 entrepreneurs",
                  "4": "2025-03-02T15:32:53.977487",
                  "5": "facebook_ads",
                  "6": "2025"
                },
                {
                  "0": "2025-02-27T23:49:58+00:00",
                  "1": "120217897320560306",
                  "2": "Ad #1 - V2",
                  "3": "Ingénieurie 30-39 - ad #6 entrepreneurs",
                  "4": "2025-03-02T15:32:53.977487",
                  "5": "facebook_ads",
                  "6": "2025"
                },
                {
                  "0": "2025-02-27T23:49:58+00:00",
                  "1": "120217897320570306",
                  "2": "Ad #1 - V2",
                  "3": "Entrepreneuriat 30-39 - ad #6 entrepreneurs",
                  "4": "2025-03-02T15:32:53.977487",
                  "5": "facebook_ads",
                  "6": "2025"
                },
                {
                  "0": "2025-02-28T00:03:50+00:00",
                  "1": "120217898298920306",
                  "2": "Ad #2 - Tu as toujours su",
                  "3": "Ingénieurie 30-39 - ad #6 entrepreneurs",
                  "4": "2025-03-02T15:32:53.977487",
                  "5": "facebook_ads",
                  "6": "2025"
                },
                {
                  "0": "2025-02-28T00:03:50+00:00",
                  "1": "120217899162320306",
                  "2": "Ad #2 - Tu as toujours su - Copie",
                  "3": "Entrepreneuriat 30-39 - ad #6 entrepreneurs",
                  "4": "2025-03-02T15:32:53.977487",
                  "5": "facebook_ads",
                  "6": "2025"
                },
                {
                  "0": "2025-02-28T00:03:50+00:00",
                  "1": "120217899162330306",
                  "2": "Ad #2 - Tu as toujours su - Copie",
                  "3": "Science 30-39 - ad #6 entrepreneurs",
                  "4": "2025-03-02T15:32:53.977487",
                  "5": "facebook_ads",
                  "6": "2025"
                },
                {
                  "0": "2025-02-28T00:03:50+00:00",
                  "1": "120217899162350306",
                  "2": "Ad #2 - Tu as toujours su - Copie",
                  "3": "Maths 30-39 - ad #6 entrepreneurs",
                  "4": "2025-03-02T15:32:53.977487",
                  "5": "facebook_ads",
                  "6": "2025"
                },
                {
                  "0": "2025-02-28T00:03:50+00:00",
                  "1": "120217899162370306",
                  "2": "Ad #2 - Tu as toujours su - Copie",
                  "3": "BROAD 30-39 - ad #6 entrepreneurs",
                  "4": "2025-03-02T15:32:53.977487",
                  "5": "facebook_ads",
                  "6": "2025"
                },
                {
                  "0": "2025-02-28T00:14:06+00:00",
                  "1": "120217899229880306",
                  "2": "Ad #3 - frustration",
                  "3": "Ingénieurie 30-39 - ad #6 entrepreneurs",
                  "4": "2025-03-02T15:32:53.977487",
                  "5": "facebook_ads",
                  "6": "2025"
                },
                {
                  "0": "2025-02-28T00:24:38+00:00",
                  "1": "120217899677230306",
                  "2": "Ad #4 Tribu",
                  "3": "Ingénieurie 30-39 - ad #6 entrepreneurs",
                  "4": "2025-03-02T15:32:53.977487",
                  "5": "facebook_ads",
                  "6": "2025"
                },
                {
                  "0": "2025-02-28T00:17:03+00:00",
                  "1": "120217899686260306",
                  "2": "Ad #3 - frustration - Copie",
                  "3": "Science 30-39 - ad #6 entrepreneurs",
                  "4": "2025-03-02T15:32:53.977487",
                  "5": "facebook_ads",
                  "6": "2025"
                },
                {
                  "0": "2025-02-28T00:17:03+00:00",
                  "1": "120217899686270306",
                  "2": "Ad #3 - frustration - Copie",
                  "3": "Maths 30-39 - ad #6 entrepreneurs",
                  "4": "2025-03-02T15:32:53.977487",
                  "5": "facebook_ads",
                  "6": "2025"
                },
                {
                  "0": "2025-02-28T00:17:03+00:00",
                  "1": "120217899686290306",
                  "2": "Ad #3 - frustration - Copie",
                  "3": "Entrepreneuriat 30-39 - ad #6 entrepreneurs",
                  "4": "2025-03-02T15:32:53.977487",
                  "5": "facebook_ads",
                  "6": "2025"
                },
                {
                  "0": "2025-02-28T00:17:03+00:00",
                  "1": "120217899686310306",
                  "2": "Ad #3 - frustration - Copie",
                  "3": "BROAD 30-39 - ad #6 entrepreneurs",
                  "4": "2025-03-02T15:32:53.977487",
                  "5": "facebook_ads",
                  "6": "2025"
                },
                {
                  "0": "2025-02-28T00:24:38+00:00",
                  "1": "120217899942700306",
                  "2": "Ad #4 Tribu - Copie",
                  "3": "Entrepreneuriat 30-39 - ad #6 entrepreneurs",
                  "4": "2025-03-02T15:32:53.977487",
                  "5": "facebook_ads",
                  "6": "2025"
                },
                {
                  "0": "2025-02-28T00:24:38+00:00",
                  "1": "120217899942710306",
                  "2": "Ad #4 Tribu - Copie",
                  "3": "Maths 30-39 - ad #6 entrepreneurs",
                  "4": "2025-03-02T15:32:53.977487",
                  "5": "facebook_ads",
                  "6": "2025"
                },
                {
                  "0": "2025-02-28T00:24:38+00:00",
                  "1": "120217899942740306",
                  "2": "Ad #4 Tribu - Copie",
                  "3": "Science 30-39 - ad #6 entrepreneurs",
                  "4": "2025-03-02T15:32:53.977487",
                  "5": "facebook_ads",
                  "6": "2025"
                },
                {
                  "0": "2025-02-28T00:24:38+00:00",
                  "1": "120217899942760306",
                  "2": "Ad #4 Tribu - Copie",
                  "3": "BROAD 30-39 - ad #6 entrepreneurs",
                  "4": "2025-03-02T15:32:53.977487",
                  "5": "facebook_ads",
                  "6": "2025"
                },
                {
                  "0": "2025-03-01T13:34:51+00:00",
                  "1": "120218033684500306",
                  "2": "Ad #5 - Monétiser",
                  "3": "Ingénieurie 30-39 - ad #6 entrepreneurs",
                  "4": "2025-03-02T15:32:53.977487",
                  "5": "facebook_ads",
                  "6": "2025"
                },
                {
                  "0": "2025-03-01T13:34:51+00:00",
                  "1": "120218034452220306",
                  "2": "Ad #5 - Monétiser - Copie",
                  "3": "Entrepreneuriat 30-39 - ad #6 entrepreneurs",
                  "4": "2025-03-02T15:32:53.977487",
                  "5": "facebook_ads",
                  "6": "2025"
                },
                {
                  "0": "2025-03-01T13:34:51+00:00",
                  "1": "120218034452230306",
                  "2": "Ad #5 - Monétiser - Copie",
                  "3": "Maths 30-39 - ad #6 entrepreneurs",
                  "4": "2025-03-02T15:32:53.977487",
                  "5": "facebook_ads",
                  "6": "2025"
                },
                {
                  "0": "2025-03-01T13:34:51+00:00",
                  "1": "120218034452240306",
                  "2": "Ad #5 - Monétiser - Copie",
                  "3": "Science 30-39 - ad #6 entrepreneurs",
                  "4": "2025-03-02T15:32:53.977487",
                  "5": "facebook_ads",
                  "6": "2025"
                },
                {
                  "0": "2025-03-01T13:34:51+00:00",
                  "1": "120218034452790306",
                  "2": "Ad #5 - Monétiser - Copie",
                  "3": "BROAD 30-39 - ad #6 entrepreneurs",
                  "4": "2025-03-02T15:32:53.977487",
                  "5": "facebook_ads",
                  "6": "2025"
                },
                {
                  "0": "2025-03-01T13:41:02+00:00",
                  "1": "120218034502750306",
                  "2": "Ad #6 - se lancer",
                  "3": "Ingénieurie 30-39 - ad #6 entrepreneurs",
                  "4": "2025-03-02T15:32:53.977487",
                  "5": "facebook_ads",
                  "6": "2025"
                },
                {
                  "0": "2025-03-01T13:41:02+00:00",
                  "1": "120218034757130306",
                  "2": "Ad #6 - se lancer - Copie",
                  "3": "Entrepreneuriat 30-39 - ad #6 entrepreneurs",
                  "4": "2025-03-02T15:32:53.977487",
                  "5": "facebook_ads",
                  "6": "2025"
                },
                {
                  "0": "2025-03-01T13:41:02+00:00",
                  "1": "120218034757140306",
                  "2": "Ad #6 - se lancer - Copie",
                  "3": "Maths 30-39 - ad #6 entrepreneurs",
                  "4": "2025-03-02T15:32:53.977487",
                  "5": "facebook_ads",
                  "6": "2025"
                },
                {
                  "0": "2025-03-01T13:41:02+00:00",
                  "1": "120218034757150306",
                  "2": "Ad #6 - se lancer - Copie",
                  "3": "Science 30-39 - ad #6 entrepreneurs",
                  "4": "2025-03-02T15:32:53.977487",
                  "5": "facebook_ads",
                  "6": "2025"
                },
                {
                  "0": "2025-03-01T13:41:02+00:00",
                  "1": "120218034757170306",
                  "2": "Ad #6 - se lancer - Copie",
                  "3": "BROAD 30-39 - ad #6 entrepreneurs",
                  "4": "2025-03-02T15:32:53.977487",
                  "5": "facebook_ads",
                  "6": "2025"
                },
                {
                  "0": "2025-03-01T19:36:35+00:00",
                  "1": "120218052398170306",
                  "2": "Ad #4 Tribu - Copie",
                  "3": "Maths 30-39 - ad #4 tribu",
                  "4": "2025-03-02T15:32:53.977487",
                  "5": "facebook_ads",
                  "6": "2025"
                },
                {
                  "0": "2025-03-01T19:36:35+00:00",
                  "1": "120218052398250306",
                  "2": "Ad #4 Tribu - Copie",
                  "3": "BROAD 30-39 - ad #4 tribu",
                  "4": "2025-03-02T15:32:53.977487",
                  "5": "facebook_ads",
                  "6": "2025"
                },
                {
                  "0": "2025-03-01T19:36:35+00:00",
                  "1": "120218052398300306",
                  "2": "Ad #4 Tribu - Copie",
                  "3": "Science 30-39 - ad #4 tribu",
                  "4": "2025-03-02T15:32:53.977487",
                  "5": "facebook_ads",
                  "6": "2025"
                },
                {
                  "0": "2025-03-01T19:37:29+00:00",
                  "1": "120218052448400306",
                  "2": "Ad #5 - Monétiser - Copie",
                  "3": "BROAD 30-39 - ad #5 monétiser",
                  "4": "2025-03-02T15:32:53.977487",
                  "5": "facebook_ads",
                  "6": "2025"
                },
                {
                  "0": "2025-03-01T19:37:29+00:00",
                  "1": "120218052448500306",
                  "2": "Ad #5 - Monétiser - Copie",
                  "3": "Maths 30-39 - ad #5 monétiser",
                  "4": "2025-03-02T15:32:53.977487",
                  "5": "facebook_ads",
                  "6": "2025"
                },
                {
                  "0": "2025-03-01T19:37:29+00:00",
                  "1": "120218052448540306",
                  "2": "Ad #5 - Monétiser",
                  "3": "Ingénieurie 30-39 - ad #5 monétiser",
                  "4": "2025-03-02T15:32:53.977487",
                  "5": "facebook_ads",
                  "6": "2025"
                },
                {
                  "0": "2025-02-24T10:15:44+00:00",
                  "1": "120217452512300696",
                  "2": "vidéo ad 1 - T1",
                  "3": "Entrepreneuriat - VidéoAd1 [est ce que t'aime écrire?] - Copie",
                  "4": "2025-03-02T15:32:53.977487",
                  "5": "facebook_ads",
                  "6": "2025"
                },
                {
                  "0": "2024-01-22T21:08:46+00:00",
                  "1": "120205127996930696",
                  "2": "vidéo ad 5- T2 - Copie",
                  "3": "Ecriture - winners vague #1 janvier 24",
                  "4": "2025-03-02T15:32:53.977487",
                  "5": "facebook_ads",
                  "6": "2024"
                },
                {
                  "0": "2024-01-22T21:08:43+00:00",
                  "1": "120205127996940696",
                  "2": "vidéo ad 6 - T1 - Copie",
                  "3": "Ecriture - winners vague #1 janvier 24",
                  "4": "2025-03-02T15:32:53.977487",
                  "5": "facebook_ads",
                  "6": "2024"
                },
                {
                  "0": "2024-01-22T21:08:42+00:00",
                  "1": "120205127996950696",
                  "2": "vidéo ad 4- T2 - Copie",
                  "3": "Ecriture - winners vague #1 janvier 24",
                  "4": "2025-03-02T15:32:53.977487",
                  "5": "facebook_ads",
                  "6": "2024"
                },
                {
                  "0": "2024-01-22T21:08:46+00:00",
                  "1": "120205128014090696",
                  "2": "image win",
                  "3": "Ecriture - winners vague #1 janvier 24",
                  "4": "2025-03-02T15:32:53.977487",
                  "5": "facebook_ads",
                  "6": "2024"
                },
                {
                  "0": "2024-01-22T21:09:30+00:00",
                  "1": "120205128037500696",
                  "2": "vidéo ad 5- T2 - Copie",
                  "3": "Télétravail - winners vague #1 janvier 24",
                  "4": "2025-03-02T15:32:53.977487",
                  "5": "facebook_ads",
                  "6": "2024"
                },
                {
                  "0": "2024-01-22T21:09:24+00:00",
                  "1": "120205128037510696",
                  "2": "image win",
                  "3": "Télétravail - winners vague #1 janvier 24",
                  "4": "2025-03-02T15:32:53.977487",
                  "5": "facebook_ads",
                  "6": "2024"
                },
                {
                  "0": "2024-01-22T21:09:24+00:00",
                  "1": "120205128037530696",
                  "2": "vidéo ad 4- T2 - Copie",
                  "3": "Télétravail - winners vague #1 janvier 24",
                  "4": "2025-03-02T15:32:53.977487",
                  "5": "facebook_ads",
                  "6": "2024"
                },
                {
                  "0": "2024-01-22T21:09:30+00:00",
                  "1": "120205128037540696",
                  "2": "vidéo ad 6 - T1 - Copie",
                  "3": "Télétravail - winners vague #1 janvier 24",
                  "4": "2025-03-02T15:32:53.977487",
                  "5": "facebook_ads",
                  "6": "2024"
                },
                {
                  "0": "2024-01-22T21:10:22+00:00",
                  "1": "120205128052580696",
                  "2": "vidéo ad 6 - T1 - Copie",
                  "3": "Storytelling - winners vague #1 janvier 24",
                  "4": "2025-03-02T15:32:53.977487",
                  "5": "facebook_ads",
                  "6": "2024"
                },
                {
                  "0": "2024-01-22T21:10:15+00:00",
                  "1": "120205128052600696",
                  "2": "vidéo ad 4- T2 - Copie",
                  "3": "Storytelling - winners vague #1 janvier 24",
                  "4": "2025-03-02T15:32:53.977487",
                  "5": "facebook_ads",
                  "6": "2024"
                },
                {
                  "0": "2024-01-22T21:10:15+00:00",
                  "1": "120205128052610696",
                  "2": "vidéo ad 5- T2 - Copie",
                  "3": "Storytelling - winners vague #1 janvier 24",
                  "4": "2025-03-02T15:32:53.977487",
                  "5": "facebook_ads",
                  "6": "2024"
                },
                {
                  "0": "2024-01-22T21:10:21+00:00",
                  "1": "120205128052620696",
                  "2": "image win",
                  "3": "Storytelling - winners vague #1 janvier 24",
                  "4": "2025-03-02T15:32:53.977487",
                  "5": "facebook_ads",
                  "6": "2024"
                },
                {
                  "0": "2024-01-22T21:11:42+00:00",
                  "1": "120205128069190696",
                  "2": "vidéo ad 6 - T1 - Copie",
                  "3": "Travail à domicile - winners vague #1 janvier 24",
                  "4": "2025-03-02T15:32:53.977487",
                  "5": "facebook_ads",
                  "6": "2024"
                },
                {
                  "0": "2024-01-22T21:11:42+00:00",
                  "1": "120205128069210696",
                  "2": "vidéo ad 4- T2 - Copie",
                  "3": "Travail à domicile - winners vague #1 janvier 24",
                  "4": "2025-03-02T15:32:53.977487",
                  "5": "facebook_ads",
                  "6": "2024"
                },
                {
                  "0": "2024-01-22T21:11:36+00:00",
                  "1": "120205128069220696",
                  "2": "vidéo ad 5- T2 - Copie",
                  "3": "Travail à domicile - winners vague #1 janvier 24",
                  "4": "2025-03-02T15:32:53.977487",
                  "5": "facebook_ads",
                  "6": "2024"
                },
                {
                  "0": "2024-01-22T21:11:36+00:00",
                  "1": "120205128069230696",
                  "2": "image win",
                  "3": "Travail à domicile - winners vague #1 janvier 24",
                  "4": "2025-03-02T15:32:53.977487",
                  "5": "facebook_ads",
                  "6": "2024"
                },
                {
                  "0": "2024-01-22T21:12:33+00:00",
                  "1": "120205128086660696",
                  "2": "vidéo ad 6 - T1 - Copie",
                  "3": "Concepteur rédacteur - winners vague #1 janvier 24",
                  "4": "2025-03-02T15:32:53.977487",
                  "5": "facebook_ads",
                  "6": "2024"
                },
                {
                  "0": "2024-01-22T21:12:27+00:00",
                  "1": "120205128086680696",
                  "2": "image win",
                  "3": "Concepteur rédacteur - winners vague #1 janvier 24",
                  "4": "2025-03-02T15:32:53.977487",
                  "5": "facebook_ads",
                  "6": "2024"
                },
                {
                  "0": "2024-01-22T21:12:27+00:00",
                  "1": "120205128086690696",
                  "2": "vidéo ad 4- T2 - Copie",
                  "3": "Concepteur rédacteur - winners vague #1 janvier 24",
                  "4": "2025-03-02T15:32:53.977487",
                  "5": "facebook_ads",
                  "6": "2024"
                },
                {
                  "0": "2024-01-22T21:12:33+00:00",
                  "1": "120205128086700696",
                  "2": "vidéo ad 5- T2 - Copie",
                  "3": "Concepteur rédacteur - winners vague #1 janvier 24",
                  "4": "2025-03-02T15:32:53.977487",
                  "5": "facebook_ads",
                  "6": "2024"
                },
                {
                  "0": "2024-01-29T21:32:35+00:00",
                  "1": "120205421324160696",
                  "2": "vidéo ad 7 - T2",
                  "3": "Broad - VidéoAd7 [est ce que tu savais]",
                  "4": "2025-03-02T15:32:53.977487",
                  "5": "facebook_ads",
                  "6": "2024"
                },
                {
                  "0": "2024-01-29T21:32:35+00:00",
                  "1": "120205421324170696",
                  "2": "vidéo ad 7 - T3",
                  "3": "Broad - VidéoAd7 [est ce que tu savais]",
                  "4": "2025-03-02T15:32:53.977487",
                  "5": "facebook_ads",
                  "6": "2024"
                },
                {
                  "0": "2024-01-29T21:32:42+00:00",
                  "1": "120205421324180696",
                  "2": "vidéo ad 7 - T1",
                  "3": "Broad - VidéoAd7 [est ce que tu savais]",
                  "4": "2025-03-02T15:32:53.977487",
                  "5": "facebook_ads",
                  "6": "2024"
                },
                {
                  "0": "2024-01-29T21:34:03+00:00",
                  "1": "120205422508470696",
                  "2": "vidéo ad 8 - T2",
                  "3": "Broad - VidéoAd8 [cest pas une plage paradisiaque]",
                  "4": "2025-03-02T15:32:53.977487",
                  "5": "facebook_ads",
                  "6": "2024"
                },
                {
                  "0": "2024-01-29T21:34:09+00:00",
                  "1": "120205422508490696",
                  "2": "vidéo ad 8 - T1",
                  "3": "Broad - VidéoAd8 [cest pas une plage paradisiaque]",
                  "4": "2025-03-02T15:32:53.977487",
                  "5": "facebook_ads",
                  "6": "2024"
                },
                {
                  "0": "2024-01-29T21:34:03+00:00",
                  "1": "120205422508500696",
                  "2": "vidéo ad 8 - T3",
                  "3": "Broad - VidéoAd8 [cest pas une plage paradisiaque]",
                  "4": "2025-03-02T15:32:53.977487",
                  "5": "facebook_ads",
                  "6": "2024"
                },
                {
                  "0": "2024-01-29T21:40:40+00:00",
                  "1": "120205422819750696",
                  "2": "vidéo ad 9 - T3",
                  "3": "Broad - VidéoAd9 [STOP, tu savais ?]",
                  "4": "2025-03-02T15:32:53.977487",
                  "5": "facebook_ads",
                  "6": "2024"
                },
                {
                  "0": "2024-01-29T21:40:40+00:00",
                  "1": "120205422819760696",
                  "2": "vidéo ad 9 - T2",
                  "3": "Broad - VidéoAd9 [STOP, tu savais ?]",
                  "4": "2025-03-02T15:32:53.977487",
                  "5": "facebook_ads",
                  "6": "2024"
                },
                {
                  "0": "2024-01-29T21:40:46+00:00",
                  "1": "120205422819770696",
                  "2": "vidéo ad 9 - T1",
                  "3": "Broad - VidéoAd9 [STOP, tu savais ?]",
                  "4": "2025-03-02T15:32:53.977487",
                  "5": "facebook_ads",
                  "6": "2024"
                },
                {
                  "0": "2024-02-03T23:44:25+00:00",
                  "1": "120205754954040696",
                  "2": "vidéo ad 1 - T2 - Copie",
                  "3": "Ecriture - wave #2 février",
                  "4": "2025-03-02T15:32:53.977487",
                  "5": "facebook_ads",
                  "6": "2024"
                },
                {
                  "0": "2024-02-03T23:44:26+00:00",
                  "1": "120205754954050696",
                  "2": "vidéo ad 3 - T1 - Copie",
                  "3": "Ecriture - wave #2 février",
                  "4": "2025-03-02T15:32:53.977487",
                  "5": "facebook_ads",
                  "6": "2024"
                },
                {
                  "0": "2024-02-03T23:44:28+00:00",
                  "1": "120205754954060696",
                  "2": "vidéo ad 4- T2 - Copie",
                  "3": "Ecriture - wave #2 février",
                  "4": "2025-03-02T15:32:53.977487",
                  "5": "facebook_ads",
                  "6": "2024"
                },
                {
                  "0": "2024-02-03T23:51:45+00:00",
                  "1": "120205754991860696",
                  "2": "vidéo ad 5- T2 - Copie",
                  "3": "strorytel + postes writers - winners vague #1 février",
                  "4": "2025-03-02T15:32:53.977487",
                  "5": "facebook_ads",
                  "6": "2024"
                },
                {
                  "0": "2024-02-03T23:51:37+00:00",
                  "1": "120205754991880696",
                  "2": "vidéo ad 6 - T1 - Copie",
                  "3": "strorytel + postes writers - winners vague #1 février",
                  "4": "2025-03-02T15:32:53.977487",
                  "5": "facebook_ads",
                  "6": "2024"
                },
                {
                  "0": "2024-02-03T23:51:37+00:00",
                  "1": "120205754991890696",
                  "2": "vidéo ad 4- T2 - Copie",
                  "3": "strorytel + postes writers - winners vague #1 février",
                  "4": "2025-03-02T15:32:53.977487",
                  "5": "facebook_ads",
                  "6": "2024"
                },
                {
                  "0": "2024-02-03T23:51:45+00:00",
                  "1": "120205754991900696",
                  "2": "image win",
                  "3": "strorytel + postes writers - winners vague #1 février",
                  "4": "2025-03-02T15:32:53.977487",
                  "5": "facebook_ads",
                  "6": "2024"
                },
                {
                  "0": "2024-02-03T23:46:39+00:00",
                  "1": "120205754998550696",
                  "2": "vidéo ad 5- T2 - Copie",
                  "3": "Ecriture créative - winners vague #1 fevrier",
                  "4": "2025-03-02T15:32:53.977487",
                  "5": "facebook_ads",
                  "6": "2024"
                },
                {
                  "0": "2024-02-03T23:46:32+00:00",
                  "1": "120205754998570696",
                  "2": "vidéo ad 6 - T1 - Copie",
                  "3": "Ecriture créative - winners vague #1 fevrier",
                  "4": "2025-03-02T15:32:53.977487",
                  "5": "facebook_ads",
                  "6": "2024"
                },
                {
                  "0": "2024-02-03T23:46:32+00:00",
                  "1": "120205754998580696",
                  "2": "vidéo ad 4- T2 - Copie",
                  "3": "Ecriture créative - winners vague #1 fevrier",
                  "4": "2025-03-02T15:32:53.977487",
                  "5": "facebook_ads",
                  "6": "2024"
                },
                {
                  "0": "2024-02-03T23:46:39+00:00",
                  "1": "120205754998590696",
                  "2": "image win",
                  "3": "Ecriture créative - winners vague #1 fevrier",
                  "4": "2025-03-02T15:32:53.977487",
                  "5": "facebook_ads",
                  "6": "2024"
                },
                {
                  "0": "2024-02-07T22:30:23+00:00",
                  "1": "120205919352590696",
                  "2": "vidéo ad 4- T2 - Copie",
                  "3": "LLA CLIENTS 1% - wave #2 février",
                  "4": "2025-03-02T15:32:53.977487",
                  "5": "facebook_ads",
                  "6": "2024"
                },
                {
                  "0": "2024-02-07T22:30:16+00:00",
                  "1": "120205919352610696",
                  "2": "vidéo ad 1 - T2 - Copie",
                  "3": "LLA CLIENTS 1% - wave #2 février",
                  "4": "2025-03-02T15:32:53.977487",
                  "5": "facebook_ads",
                  "6": "2024"
                },
                {
                  "0": "2024-02-07T22:30:16+00:00",
                  "1": "120205919352620696",
                  "2": "vidéo ad 3 - T1 - Copie",
                  "3": "LLA CLIENTS 1% - wave #2 février",
                  "4": "2025-03-02T15:32:53.977487",
                  "5": "facebook_ads",
                  "6": "2024"
                },
                {
                  "0": "2024-02-07T22:32:15+00:00",
                  "1": "120205919734210696",
                  "2": "vidéo ad 4- T2 - Copie",
                  "3": "LLA CLIENTS 3% - wave #2 février",
                  "4": "2025-03-02T15:32:53.977487",
                  "5": "facebook_ads",
                  "6": "2024"
                },
                {
                  "0": "2024-02-07T22:32:16+00:00",
                  "1": "120205919734230696",
                  "2": "vidéo ad 3 - T1 - Copie",
                  "3": "LLA CLIENTS 3% - wave #2 février",
                  "4": "2025-03-02T15:32:53.977487",
                  "5": "facebook_ads",
                  "6": "2024"
                },
                {
                  "0": "2024-02-07T22:32:24+00:00",
                  "1": "120205919734240696",
                  "2": "vidéo ad 1 - T2 - Copie",
                  "3": "LLA CLIENTS 3% - wave #2 février",
                  "4": "2025-03-02T15:32:53.977487",
                  "5": "facebook_ads",
                  "6": "2024"
                },
                {
                  "0": "2024-02-07T22:38:00+00:00",
                  "1": "120205919758170696",
                  "2": "vidéo ad 4- T2 - Copie",
                  "3": "quali (ville) - wave #2 février",
                  "4": "2025-03-02T15:32:53.977487",
                  "5": "facebook_ads",
                  "6": "2024"
                },
                {
                  "0": "2024-02-07T22:37:59+00:00",
                  "1": "120205919758180696",
                  "2": "vidéo ad 1 - T2 - Copie",
                  "3": "quali (ville) - wave #2 février",
                  "4": "2025-03-02T15:32:53.977487",
                  "5": "facebook_ads",
                  "6": "2024"
                },
                {
                  "0": "2024-02-07T22:38:07+00:00",
                  "1": "120205919758190696",
                  "2": "vidéo ad 3 - T1 - Copie",
                  "3": "quali (ville) - wave #2 février",
                  "4": "2025-03-02T15:32:53.977487",
                  "5": "facebook_ads",
                  "6": "2024"
                },
                {
                  "0": "2024-02-12T14:56:08+00:00",
                  "1": "120206101552790696",
                  "2": "vidéo ad 7 - T2",
                  "3": "Broad - VidéoAd7 [est ce que tu savais] - Copie",
                  "4": "2025-03-02T15:32:53.977487",
                  "5": "facebook_ads",
                  "6": "2024"
                },
                {
                  "0": "2024-02-12T14:57:38+00:00",
                  "1": "120206101552840696",
                  "2": "vidéo ad 1 - T3",
                  "3": "Broad - VidéoAd1 [est ce que t'aime écrire?] - Copie",
                  "4": "2025-03-02T15:32:53.977487",
                  "5": "facebook_ads",
                  "6": "2024"
                },
                {
                  "0": "2024-02-12T14:57:36+00:00",
                  "1": "120206101552850696",
                  "2": "vidéo ad 1 - T1",
                  "3": "Broad - VidéoAd1 [est ce que t'aime écrire?] - Copie",
                  "4": "2025-03-02T15:32:53.977487",
                  "5": "facebook_ads",
                  "6": "2024"
                },
                {
                  "0": "2024-02-12T14:57:33+00:00",
                  "1": "120206101552860696",
                  "2": "vidéo ad 3 - T2",
                  "3": "Broad - VidéoAd3 [Hey..Bonne nouvelle!] - Copie",
                  "4": "2025-03-02T15:32:53.977487",
                  "5": "facebook_ads",
                  "6": "2024"
                },
                {
                  "0": "2024-02-12T14:57:36+00:00",
                  "1": "120206101552870696",
                  "2": "vidéo ad 1 - T2",
                  "3": "Broad - VidéoAd1 [est ce que t'aime écrire?] - Copie",
                  "4": "2025-03-02T15:32:53.977487",
                  "5": "facebook_ads",
                  "6": "2024"
                },
                {
                  "0": "2024-02-12T14:57:30+00:00",
                  "1": "120206101552880696",
                  "2": "vidéo ad 3 - T1",
                  "3": "Broad - VidéoAd3 [Hey..Bonne nouvelle!] - Copie",
                  "4": "2025-03-02T15:32:53.977487",
                  "5": "facebook_ads",
                  "6": "2024"
                },
                {
                  "0": "2024-02-12T14:57:30+00:00",
                  "1": "120206101552890696",
                  "2": "vidéo ad 3 - T3",
                  "3": "Broad - VidéoAd3 [Hey..Bonne nouvelle!] - Copie",
                  "4": "2025-03-02T15:32:53.977487",
                  "5": "facebook_ads",
                  "6": "2024"
                },
                {
                  "0": "2024-02-12T14:57:31+00:00",
                  "1": "120206101552900696",
                  "2": "vidéo ad 6 - T3",
                  "3": "Broad - VidéoAd6 [Comment je gagne ma vie] - Copie",
                  "4": "2025-03-02T15:32:53.977487",
                  "5": "facebook_ads",
                  "6": "2024"
                },
                {
                  "0": "2024-02-12T14:57:31+00:00",
                  "1": "120206101552910696",
                  "2": "vidéo ad 6 - T1",
                  "3": "Broad - VidéoAd6 [Comment je gagne ma vie] - Copie",
                  "4": "2025-03-02T15:32:53.977487",
                  "5": "facebook_ads",
                  "6": "2024"
                },
                {
                  "0": "2024-02-12T14:57:33+00:00",
                  "1": "120206101552920696",
                  "2": "vidéo ad 6 - T2",
                  "3": "Broad - VidéoAd6 [Comment je gagne ma vie] - Copie",
                  "4": "2025-03-02T15:32:53.977487",
                  "5": "facebook_ads",
                  "6": "2024"
                },
                {
                  "0": "2024-02-12T14:56:05+00:00",
                  "1": "120206101552930696",
                  "2": "vidéo ad 7 - T1",
                  "3": "Broad - VidéoAd7 [est ce que tu savais] - Copie",
                  "4": "2025-03-02T15:32:53.977487",
                  "5": "facebook_ads",
                  "6": "2024"
                },
                {
                  "0": "2024-02-12T14:56:05+00:00",
                  "1": "120206101552940696",
                  "2": "vidéo ad 7 - T3",
                  "3": "Broad - VidéoAd7 [est ce que tu savais] - Copie",
                  "4": "2025-03-02T15:32:53.977487",
                  "5": "facebook_ads",
                  "6": "2024"
                },
                {
                  "0": "2024-02-28T14:58:12+00:00",
                  "1": "120206927391210306",
                  "2": "Ad #1 - Julien, expert comptable - Copy",
                  "3": "Business M35-54",
                  "4": "2025-03-02T15:32:53.977487",
                  "5": "facebook_ads",
                  "6": "2024"
                },
                {
                  "0": "2024-02-28T14:58:12+00:00",
                  "1": "120206927391220306",
                  "2": "Ad #3 - Marges Faibles / Fortes - Copy",
                  "3": "Business M35-54",
                  "4": "2025-03-02T15:32:53.977487",
                  "5": "facebook_ads",
                  "6": "2024"
                },
                {
                  "0": "2024-02-28T14:58:19+00:00",
                  "1": "120206927391230306",
                  "2": "Ad #2 - ChatGPT",
                  "3": "Business M35-54",
                  "4": "2025-03-02T15:32:53.977487",
                  "5": "facebook_ads",
                  "6": "2024"
                },
                {
                  "0": "2024-02-28T14:58:49+00:00",
                  "1": "120206927820110306",
                  "2": "Ad #3 - Marges Faibles / Fortes - Copy 2",
                  "3": "BROAD M35-54+",
                  "4": "2025-03-02T15:32:53.977487",
                  "5": "facebook_ads",
                  "6": "2024"
                },
                {
                  "0": "2024-02-28T14:58:43+00:00",
                  "1": "120206927820120306",
                  "2": "Ad #2 - ChatGPT - Copy",
                  "3": "BROAD M35-54+",
                  "4": "2025-03-02T15:32:53.977487",
                  "5": "facebook_ads",
                  "6": "2024"
                },
                {
                  "0": "2024-02-28T14:58:43+00:00",
                  "1": "120206927820130306",
                  "2": "Ad #1 - Julien, expert comptable - Copy 2",
                  "3": "BROAD M35-54+",
                  "4": "2025-03-02T15:32:53.977487",
                  "5": "facebook_ads",
                  "6": "2024"
                },
                {
                  "0": "2024-02-28T14:58:43+00:00",
                  "1": "120206927820140306",
                  "2": "Ad #1 - Julien, expert comptable - Copy 2",
                  "3": "Comptabilité M35-54+",
                  "4": "2025-03-02T15:32:53.977487",
                  "5": "facebook_ads",
                  "6": "2024"
                },
                {
                  "0": "2024-02-28T14:58:43+00:00",
                  "1": "120206927820150306",
                  "2": "Ad #2 - ChatGPT - Copy",
                  "3": "Comptabilité M35-54+",
                  "4": "2025-03-02T15:32:53.977487",
                  "5": "facebook_ads",
                  "6": "2024"
                },
                {
                  "0": "2024-02-28T14:58:49+00:00",
                  "1": "120206927820160306",
                  "2": "Ad #3 - Marges Faibles / Fortes - Copy 2",
                  "3": "Comptabilité M35-54+",
                  "4": "2025-03-02T15:32:53.977487",
                  "5": "facebook_ads",
                  "6": "2024"
                },
                {
                  "0": "2024-02-28T15:17:57+00:00",
                  "1": "120206927882350306",
                  "2": "Hook #2 Experts-Comptables : Le manque de clients vous empêche de développer votre cabinet ? Il existe une solution rapide et efficace.",
                  "3": "BROAD M35-54+ Videos",
                  "4": "2025-03-02T15:32:53.977487",
                  "5": "facebook_ads",
                  "6": "2024"
                },
                {
                  "0": "2024-02-28T15:17:54+00:00",
                  "1": "120206928430060306",
                  "2": "Hook #1 Pas besoin de passer des heures - Copy",
                  "3": "BROAD M35-54+ Videos",
                  "4": "2025-03-02T15:32:53.977487",
                  "5": "facebook_ads",
                  "6": "2024"
                },
                {
                  "0": "2024-02-28T15:17:59+00:00",
                  "1": "120206928501800306",
                  "2": "Hook #5 3 à 5 nouveaux clients chaque semaine en automatique pour votre cabinet comptable. C’est une réalité possible si vous savez comment faire.",
                  "3": "BROAD M35-54+ Videos",
                  "4": "2025-03-02T15:32:53.977487",
                  "5": "facebook_ads",
                  "6": "2024"
                },
                {
                  "0": "2024-02-28T15:17:57+00:00",
                  "1": "120206928501810306",
                  "2": "Hook #4 Moins d’1h. C’est le temps passé par les experts-comptables malins chaque semaine pour trouver de nouveaux clients.",
                  "3": "BROAD M35-54+ Videos",
                  "4": "2025-03-02T15:32:53.977487",
                  "5": "facebook_ads",
                  "6": "2024"
                },
                {
                  "0": "2024-02-28T15:17:54+00:00",
                  "1": "120206928501820306",
                  "2": "Hook #3 Si vous êtes expert-comptable et que vous ne savez pas comment obtenir plus de clients, alors j’ai quelque chose à vous partager.",
                  "3": "BROAD M35-54+ Videos",
                  "4": "2025-03-02T15:32:53.977487",
                  "5": "facebook_ads",
                  "6": "2024"
                },
                {
                  "0": "2024-02-27T22:03:09+00:00",
                  "1": "120206791403450696",
                  "2": "vidéo ad 7 - T2 - Copie",
                  "3": "Broad",
                  "4": "2025-03-02T15:32:53.977487",
                  "5": "facebook_ads",
                  "6": "2024"
                },
                {
                  "0": "2024-02-27T22:03:16+00:00",
                  "1": "120206791403460696",
                  "2": "vidéo ad 1 - T2 - Copie",
                  "3": "Broad",
                  "4": "2025-03-02T15:32:53.977487",
                  "5": "facebook_ads",
                  "6": "2024"
                },
                {
                  "0": "2024-02-27T22:03:09+00:00",
                  "1": "120206791641950696",
                  "2": "image 1 newgasp",
                  "3": "Broad",
                  "4": "2025-03-02T15:32:53.977487",
                  "5": "facebook_ads",
                  "6": "2024"
                },
                {
                  "0": "2024-02-27T22:03:16+00:00",
                  "1": "120206791709390696",
                  "2": "image 1 newgasp - Copie",
                  "3": "Broad",
                  "4": "2025-03-02T15:32:53.977487",
                  "5": "facebook_ads",
                  "6": "2024"
                },
                {
                  "0": "2024-02-27T22:04:05+00:00",
                  "1": "120206791787650696",
                  "2": "vidéo ad 7 - T2 - Copie",
                  "3": "Stacking",
                  "4": "2025-03-02T15:32:53.977487",
                  "5": "facebook_ads",
                  "6": "2024"
                },
                {
                  "0": "2024-02-27T22:04:00+00:00",
                  "1": "120206791787670696",
                  "2": "image 1 newgasp - Copie",
                  "3": "Stacking",
                  "4": "2025-03-02T15:32:53.977487",
                  "5": "facebook_ads",
                  "6": "2024"
                },
                {
                  "0": "2024-02-27T22:04:00+00:00",
                  "1": "120206791787680696",
                  "2": "image 1 newgasp",
                  "3": "Stacking",
                  "4": "2025-03-02T15:32:53.977487",
                  "5": "facebook_ads",
                  "6": "2024"
                },
                {
                  "0": "2024-02-27T22:04:05+00:00",
                  "1": "120206791787690696",
                  "2": "vidéo ad 1 - T2 - Copie",
                  "3": "Stacking",
                  "4": "2025-03-02T15:32:53.977487",
                  "5": "facebook_ads",
                  "6": "2024"
                },
                {
                  "0": "2024-02-27T22:04:47+00:00",
                  "1": "120206791816250696",
                  "2": "vidéo ad 7 - T2 - Copie",
                  "3": "LLA3% C",
                  "4": "2025-03-02T15:32:53.977487",
                  "5": "facebook_ads",
                  "6": "2024"
                },
                {
                  "0": "2024-02-27T22:04:53+00:00",
                  "1": "120206791816270696",
                  "2": "image 1 newgasp",
                  "3": "LLA3% C",
                  "4": "2025-03-02T15:32:53.977487",
                  "5": "facebook_ads",
                  "6": "2024"
                },
                {
                  "0": "2024-02-27T22:04:53+00:00",
                  "1": "120206791816280696",
                  "2": "vidéo ad 1 - T2 - Copie",
                  "3": "LLA3% C",
                  "4": "2025-03-02T15:32:53.977487",
                  "5": "facebook_ads",
                  "6": "2024"
                },
                {
                  "0": "2024-02-27T22:04:47+00:00",
                  "1": "120206791816290696",
                  "2": "image 1 newgasp - Copie",
                  "3": "LLA3% C",
                  "4": "2025-03-02T15:32:53.977487",
                  "5": "facebook_ads",
                  "6": "2024"
                },
                {
                  "0": "2024-02-29T14:24:25+00:00",
                  "1": "120206978901750306",
                  "2": "Ad #4 - Aimant à clients",
                  "3": "Business M35-54",
                  "4": "2025-03-02T15:32:53.977487",
                  "5": "facebook_ads",
                  "6": "2024"
                },
                {
                  "0": "2024-02-29T14:27:48+00:00",
                  "1": "120206979109690306",
                  "2": "Ad #4b - Aimant à clients",
                  "3": "Business M35-54",
                  "4": "2025-03-02T15:32:53.977487",
                  "5": "facebook_ads",
                  "6": "2024"
                },
                {
                  "0": "2024-02-29T14:37:48+00:00",
                  "1": "120206979582440306",
                  "2": "Ad #4c - Aimant à clients",
                  "3": "Business M35-54",
                  "4": "2025-03-02T15:32:53.977487",
                  "5": "facebook_ads",
                  "6": "2024"
                },
                {
                  "0": "2024-02-29T14:48:58+00:00",
                  "1": "120206979767230306",
                  "2": "Ad #3c",
                  "3": "BROAD M35-54",
                  "4": "2025-03-02T15:32:53.977487",
                  "5": "facebook_ads",
                  "6": "2024"
                },
                {
                  "0": "2024-02-29T14:48:58+00:00",
                  "1": "120206979799240306",
                  "2": "Ad #3b - Marges Faibles / Fortes - Copy",
                  "3": "BROAD M35-54",
                  "4": "2025-03-02T15:32:53.977487",
                  "5": "facebook_ads",
                  "6": "2024"
                },
                {
                  "0": "2024-03-01T22:09:14+00:00",
                  "1": "120207044706410306",
                  "2": "Ad #2 - ChatGPT",
                  "3": "Comptabilité 34+",
                  "4": "2025-03-02T15:32:53.977487",
                  "5": "facebook_ads",
                  "6": "2024"
                },
                {
                  "0": "2024-05-13T19:52:17+00:00",
                  "1": "6603324407851",
                  "2": "1",
                  "3": "all60days_looker_tier1",
                  "4": "2025-03-02T15:32:53.977487",
                  "5": "facebook_ads",
                  "6": "2024"
                },
                {
                  "0": "2024-05-13T19:52:17+00:00",
                  "1": "6603327456651",
                  "2": "3",
                  "3": "all60days_looker_tier1",
                  "4": "2025-03-02T15:32:53.977487",
                  "5": "facebook_ads",
                  "6": "2024"
                },
                {
                  "0": "2024-05-13T19:52:13+00:00",
                  "1": "6603327456851",
                  "2": "4",
                  "3": "all60days_looker_tier1",
                  "4": "2025-03-02T15:32:53.977487",
                  "5": "facebook_ads",
                  "6": "2024"
                },
                {
                  "0": "2024-05-13T19:52:13+00:00",
                  "1": "6603327457051",
                  "2": "2",
                  "3": "all60days_looker_tier1",
                  "4": "2025-03-02T15:32:53.977487",
                  "5": "facebook_ads",
                  "6": "2024"
                },
                {
                  "0": "2024-05-13T19:52:17+00:00",
                  "1": "6603328426851",
                  "2": "1",
                  "3": "all60days_looker_tier2",
                  "4": "2025-03-02T15:32:53.977487",
                  "5": "facebook_ads",
                  "6": "2024"
                },
                {
                  "0": "2023-03-25T18:59:26+00:00",
                  "1": "23853855127520695",
                  "2": "Take the risk",
                  "3": "FRANCO - Secteurs pro - 25-54",
                  "4": "2025-03-02T15:32:53.977487",
                  "5": "facebook_ads",
                  "6": "2023"
                },
                {
                  "0": "2023-03-25T18:59:22+00:00",
                  "1": "23853855127530695",
                  "2": "Se reconvertir & quitter",
                  "3": "FRANCO - Secteurs pro - 25-54",
                  "4": "2025-03-02T15:32:53.977487",
                  "5": "facebook_ads",
                  "6": "2023"
                },
                {
                  "0": "2023-04-03T09:07:03+00:00",
                  "1": "23853962387900695",
                  "2": "Se reconvertir & quitter",
                  "3": "FRANCO - Secteurs pro - 25-54",
                  "4": "2025-03-02T15:32:53.977487",
                  "5": "facebook_ads",
                  "6": "2023"
                },
                {
                  "0": "2023-04-03T09:07:00+00:00",
                  "1": "23853962387920695",
                  "2": "Apprend à écrire des textes",
                  "3": "FRANCO - Secteurs pro - 25-54",
                  "4": "2025-03-02T15:32:53.977487",
                  "5": "facebook_ads",
                  "6": "2023"
                },
                {
                  "0": "2023-04-03T09:07:00+00:00",
                  "1": "23853963118120695",
                  "2": "Apprend à écrire des textes - Copy Age",
                  "3": "FRANCO - Secteurs pro - 25-54",
                  "4": "2025-03-02T15:32:53.977487",
                  "5": "facebook_ads",
                  "6": "2023"
                },
                {
                  "0": "2023-04-03T09:08:20+00:00",
                  "1": "23853963379590695",
                  "2": "Se reconvertir & quitter",
                  "3": "FRANCO - Développement pro - 25-54",
                  "4": "2025-03-02T15:32:53.977487",
                  "5": "facebook_ads",
                  "6": "2023"
                },
                {
                  "0": "2023-04-03T09:08:20+00:00",
                  "1": "23853963379600695",
                  "2": "Apprend à écrire des textes",
                  "3": "FRANCO - Développement pro - 25-54",
                  "4": "2025-03-02T15:32:53.977487",
                  "5": "facebook_ads",
                  "6": "2023"
                },
                {
                  "0": "2023-04-03T09:08:13+00:00",
                  "1": "23853963379610695",
                  "2": "Apprend à écrire des textes - Copy Age",
                  "3": "FRANCO - Développement pro - 25-54",
                  "4": "2025-03-02T15:32:53.977487",
                  "5": "facebook_ads",
                  "6": "2023"
                },
                {
                  "0": "2023-05-02T21:42:41+00:00",
                  "1": "23854242427010305",
                  "2": "Investissement rentable",
                  "3": "Investment 25+ Investisseurs",
                  "4": "2025-03-02T15:32:53.977487",
                  "5": "facebook_ads",
                  "6": "2023"
                },
                {
                  "0": "2023-05-12T08:45:47+00:00",
                  "1": "23854393659620305",
                  "2": "Investissement rentable",
                  "3": "BROAD 25+ Investisseurs",
                  "4": "2025-03-02T15:32:53.977487",
                  "5": "facebook_ads",
                  "6": "2023"
                },
                {
                  "0": "2023-05-12T08:47:22+00:00",
                  "1": "23854393688450305",
                  "2": "Investissement rentable",
                  "3": "Passive Income 25+ Investisseurs",
                  "4": "2025-03-02T15:32:53.977487",
                  "5": "facebook_ads",
                  "6": "2023"
                },
                {
                  "0": "2023-05-12T08:48:13+00:00",
                  "1": "23854393705890305",
                  "2": "Investissement rentable",
                  "3": "Business Opportunity 25+ Investisseurs",
                  "4": "2025-03-02T15:32:53.977487",
                  "5": "facebook_ads",
                  "6": "2023"
                },
                {
                  "0": "2023-06-01T16:07:57+00:00",
                  "1": "23855004662490695",
                  "2": "Image GB 1",
                  "3": "FRANCE - Investissements Open 25 - 45",
                  "4": "2025-03-02T15:32:53.977487",
                  "5": "facebook_ads",
                  "6": "2023"
                },
                {
                  "0": "2023-06-01T16:07:57+00:00",
                  "1": "23855005219680695",
                  "2": "Image GB 2",
                  "3": "FRANCE - Investissements Open 25 - 45",
                  "4": "2025-03-02T15:32:53.977487",
                  "5": "facebook_ads",
                  "6": "2023"
                },
                {
                  "0": "2023-06-01T16:07:51+00:00",
                  "1": "23855005497040695",
                  "2": "Vidéo Joseph Clavier",
                  "3": "FRANCE - Investissements Open 25 - 45",
                  "4": "2025-03-02T15:32:53.977487",
                  "5": "facebook_ads",
                  "6": "2023"
                },
                {
                  "0": "2023-06-01T16:07:51+00:00",
                  "1": "23855005521260695",
                  "2": "Vidéo Benoit Montagne 1",
                  "3": "FRANCE - Investissements Open 25 - 45",
                  "4": "2025-03-02T15:32:53.977487",
                  "5": "facebook_ads",
                  "6": "2023"
                },
                {
                  "0": "2023-06-01T16:07:59+00:00",
                  "1": "23855005530780695",
                  "2": "Podcast Hamida",
                  "3": "FRANCE - Investissements Open 25 - 45",
                  "4": "2025-03-02T15:32:53.977487",
                  "5": "facebook_ads",
                  "6": "2023"
                },
                {
                  "0": "2023-06-01T16:08:09+00:00",
                  "1": "23855005690910695",
                  "2": "Image GB 1",
                  "3": "FRANCE - Stratégies Marketing 25-45",
                  "4": "2025-03-02T15:32:53.977487",
                  "5": "facebook_ads",
                  "6": "2023"
                },
                {
                  "0": "2023-06-01T16:08:09+00:00",
                  "1": "23855005690930695",
                  "2": "Podcast Hamida",
                  "3": "FRANCE - Stratégies Marketing 25-45",
                  "4": "2025-03-02T15:32:53.977487",
                  "5": "facebook_ads",
                  "6": "2023"
                },
                {
                  "0": "2023-06-01T16:08:02+00:00",
                  "1": "23855005690940695",
                  "2": "Image GB 2",
                  "3": "FRANCE - Stratégies Marketing 25-45",
                  "4": "2025-03-02T15:32:53.977487",
                  "5": "facebook_ads",
                  "6": "2023"
                },
                {
                  "0": "2023-06-01T16:08:11+00:00",
                  "1": "23855005690950695",
                  "2": "Vidéo Joseph Clavier",
                  "3": "FRANCE - Stratégies Marketing 25-45",
                  "4": "2025-03-02T15:32:53.977487",
                  "5": "facebook_ads",
                  "6": "2023"
                },
                {
                  "0": "2023-06-01T16:08:02+00:00",
                  "1": "23855005690960695",
                  "2": "Vidéo Benoit Montagne 1",
                  "3": "FRANCE - Stratégies Marketing 25-45",
                  "4": "2025-03-02T15:32:53.977487",
                  "5": "facebook_ads",
                  "6": "2023"
                },
                {
                  "0": "2023-06-01T16:07:59+00:00",
                  "1": "23855005724340695",
                  "2": "Image GB 1",
                  "3": "FRANCE - Secteurs pro 25 - 45",
                  "4": "2025-03-02T15:32:53.977487",
                  "5": "facebook_ads",
                  "6": "2023"
                },
                {
                  "0": "2023-06-01T16:07:57+00:00",
                  "1": "23855005724350695",
                  "2": "Image GB 2",
                  "3": "FRANCE - Secteurs pro 25 - 45",
                  "4": "2025-03-02T15:32:53.977487",
                  "5": "facebook_ads",
                  "6": "2023"
                },
                {
                  "0": "2023-06-01T16:07:51+00:00",
                  "1": "23855005724360695",
                  "2": "Vidéo Benoit Montagne 1",
                  "3": "FRANCE - Secteurs pro 25 - 45",
                  "4": "2025-03-02T15:32:53.977487",
                  "5": "facebook_ads",
                  "6": "2023"
                },
                {
                  "0": "2023-06-01T16:07:57+00:00",
                  "1": "23855005724370695",
                  "2": "Podcast Hamida",
                  "3": "FRANCE - Secteurs pro 25 - 45",
                  "4": "2025-03-02T15:32:53.977487",
                  "5": "facebook_ads",
                  "6": "2023"
                },
                {
                  "0": "2023-06-01T16:07:51+00:00",
                  "1": "23855005724380695",
                  "2": "Vidéo Joseph Clavier",
                  "3": "FRANCE - Secteurs pro 25 - 45",
                  "4": "2025-03-02T15:32:53.977487",
                  "5": "facebook_ads",
                  "6": "2023"
                },
                {
                  "0": "2023-06-08T15:09:39+00:00",
                  "1": "23855151076610695",
                  "2": "Image GB 2 H2",
                  "3": "FRANCE - Secteurs pro - 25 - 45 - GB2 R2",
                  "4": "2025-03-02T15:32:53.977487",
                  "5": "facebook_ads",
                  "6": "2023"
                },
                {
                  "0": "2023-06-12T09:54:24+00:00",
                  "1": "23855221782930695",
                  "2": "Vidéo Joseph Clavier",
                  "3": "FRANCE - Investissements Open - Joseph Clavier",
                  "4": "2025-03-02T15:32:53.977487",
                  "5": "facebook_ads",
                  "6": "2023"
                },
                {
                  "0": "2023-06-15T13:30:57+00:00",
                  "1": "23855331105590695",
                  "2": "Image Libre",
                  "3": "FRANCE - Secteurs pro - IMG Libre",
                  "4": "2025-03-02T15:32:53.977487",
                  "5": "facebook_ads",
                  "6": "2023"
                },
                {
                  "0": "2023-06-15T13:48:36+00:00",
                  "1": "23855332517120695",
                  "2": "Pas de porsche",
                  "3": "FRANCE - Stratégies Marketing - pas de porsche",
                  "4": "2025-03-02T15:32:53.977487",
                  "5": "facebook_ads",
                  "6": "2023"
                },
                {
                  "0": "2023-06-15T13:50:48+00:00",
                  "1": "23855332595560695",
                  "2": "Image GB 2",
                  "3": "FRANCE - Formation en ligne",
                  "4": "2025-03-02T15:32:53.977487",
                  "5": "facebook_ads",
                  "6": "2023"
                },
                {
                  "0": "2023-06-18T21:06:47+00:00",
                  "1": "23855343739830305",
                  "2": "Imgs",
                  "3": "Wealth 30+",
                  "4": "2025-03-02T15:32:53.977487",
                  "5": "facebook_ads",
                  "6": "2023"
                },
                {
                  "0": "2023-06-18T21:06:52+00:00",
                  "1": "23855344622240305",
                  "2": "Imgs",
                  "3": "BROAD 30+",
                  "4": "2025-03-02T15:32:53.977487",
                  "5": "facebook_ads",
                  "6": "2023"
                },
                {
                  "0": "2023-06-18T21:06:47+00:00",
                  "1": "23855344622290305",
                  "2": "Imgs",
                  "3": "Financial Services 30+",
                  "4": "2025-03-02T15:32:53.977487",
                  "5": "facebook_ads",
                  "6": "2023"
                },
                {
                  "0": "2023-06-18T21:06:42+00:00",
                  "1": "23855344622300305",
                  "2": "Imgs",
                  "3": "Business 30+",
                  "4": "2025-03-02T15:32:53.977487",
                  "5": "facebook_ads",
                  "6": "2023"
                },
                {
                  "0": "2023-06-18T21:06:42+00:00",
                  "1": "23855344622310305",
                  "2": "Imgs",
                  "3": "Exchange 30+",
                  "4": "2025-03-02T15:32:53.977487",
                  "5": "facebook_ads",
                  "6": "2023"
                },
                {
                  "0": "2023-06-18T21:11:25+00:00",
                  "1": "23855344826340305",
                  "2": "Hook 1",
                  "3": "BROAD 30+",
                  "4": "2025-03-02T15:32:53.977487",
                  "5": "facebook_ads",
                  "6": "2023"
                },
                {
                  "0": "2023-06-18T21:11:25+00:00",
                  "1": "23855344854150305",
                  "2": "Hook 1 - Copy",
                  "3": "Wealth 30+",
                  "4": "2025-03-02T15:32:53.977487",
                  "5": "facebook_ads",
                  "6": "2023"
                },
                {
                  "0": "2023-06-18T21:11:25+00:00",
                  "1": "23855344854170305",
                  "2": "Hook 1 - Copy",
                  "3": "Exchange 30+",
                  "4": "2025-03-02T15:32:53.977487",
                  "5": "facebook_ads",
                  "6": "2023"
                },
                {
                  "0": "2023-06-18T21:11:25+00:00",
                  "1": "23855344854190305",
                  "2": "Hook 1 - Copy",
                  "3": "Financial Services 30+",
                  "4": "2025-03-02T15:32:53.977487",
                  "5": "facebook_ads",
                  "6": "2023"
                },
                {
                  "0": "2023-06-18T21:11:25+00:00",
                  "1": "23855344854220305",
                  "2": "Hook 1 - Copy",
                  "3": "Business 30+",
                  "4": "2025-03-02T15:32:53.977487",
                  "5": "facebook_ads",
                  "6": "2023"
                },
                {
                  "0": "2023-06-18T21:20:08+00:00",
                  "1": "23855344905070305",
                  "2": "Hook 2",
                  "3": "BROAD 30+",
                  "4": "2025-03-02T15:32:53.977487",
                  "5": "facebook_ads",
                  "6": "2023"
                },
                {
                  "0": "2023-06-18T21:20:08+00:00",
                  "1": "23855345572080305",
                  "2": "Hook 2 - Copy",
                  "3": "Exchange 30+",
                  "4": "2025-03-02T15:32:53.977487",
                  "5": "facebook_ads",
                  "6": "2023"
                },
                {
                  "0": "2023-06-18T21:20:08+00:00",
                  "1": "23855345572090305",
                  "2": "Hook 2 - Copy",
                  "3": "Financial Services 30+",
                  "4": "2025-03-02T15:32:53.977487",
                  "5": "facebook_ads",
                  "6": "2023"
                },
                {
                  "0": "2023-06-18T21:20:08+00:00",
                  "1": "23855345572110305",
                  "2": "Hook 2 - Copy",
                  "3": "Business 30+",
                  "4": "2025-03-02T15:32:53.977487",
                  "5": "facebook_ads",
                  "6": "2023"
                },
                {
                  "0": "2023-06-18T21:20:08+00:00",
                  "1": "23855345572120305",
                  "2": "Hook 2 - Copy",
                  "3": "Wealth 30+",
                  "4": "2025-03-02T15:32:53.977487",
                  "5": "facebook_ads",
                  "6": "2023"
                },
                {
                  "0": "2023-06-18T21:32:44+00:00",
                  "1": "23855345654170305",
                  "2": "Hook 3",
                  "3": "BROAD 30+",
                  "4": "2025-03-02T15:32:53.977487",
                  "5": "facebook_ads",
                  "6": "2023"
                },
                {
                  "0": "2023-06-18T21:32:44+00:00",
                  "1": "23855346010720305",
                  "2": "Hook 3 - Copy",
                  "3": "Financial Services 30+",
                  "4": "2025-03-02T15:32:53.977487",
                  "5": "facebook_ads",
                  "6": "2023"
                },
                {
                  "0": "2023-06-18T21:32:44+00:00",
                  "1": "23855346010730305",
                  "2": "Hook 3 - Copy",
                  "3": "Wealth 30+",
                  "4": "2025-03-02T15:32:53.977487",
                  "5": "facebook_ads",
                  "6": "2023"
                },
                {
                  "0": "2023-06-18T21:32:44+00:00",
                  "1": "23855346010740305",
                  "2": "Hook 3 - Copy",
                  "3": "Business 30+",
                  "4": "2025-03-02T15:32:53.977487",
                  "5": "facebook_ads",
                  "6": "2023"
                },
                {
                  "0": "2023-06-18T21:32:44+00:00",
                  "1": "23855346010750305",
                  "2": "Hook 3 - Copy",
                  "3": "Exchange 30+",
                  "4": "2025-03-02T15:32:53.977487",
                  "5": "facebook_ads",
                  "6": "2023"
                },
                {
                  "0": "2023-06-18T21:43:16+00:00",
                  "1": "23855346061560305",
                  "2": "Hook 5",
                  "3": "BROAD 30+",
                  "4": "2025-03-02T15:32:53.977487",
                  "5": "facebook_ads",
                  "6": "2023"
                },
                {
                  "0": "2023-06-18T21:43:02+00:00",
                  "1": "23855346249920305",
                  "2": "Hook 5 - Copy",
                  "3": "Wealth 30+",
                  "4": "2025-03-02T15:32:53.977487",
                  "5": "facebook_ads",
                  "6": "2023"
                },
                {
                  "0": "2023-06-18T21:43:02+00:00",
                  "1": "23855346249930305",
                  "2": "Hook 5 - Copy",
                  "3": "Financial Services 30+",
                  "4": "2025-03-02T15:32:53.977487",
                  "5": "facebook_ads",
                  "6": "2023"
                },
                {
                  "0": "2023-06-18T21:43:02+00:00",
                  "1": "23855346249940305",
                  "2": "Hook 5 - Copy",
                  "3": "Exchange 30+",
                  "4": "2025-03-02T15:32:53.977487",
                  "5": "facebook_ads",
                  "6": "2023"
                },
                {
                  "0": "2023-06-18T21:43:02+00:00",
                  "1": "23855346249950305",
                  "2": "Hook 5 - Copy",
                  "3": "Business 30+",
                  "4": "2025-03-02T15:32:53.977487",
                  "5": "facebook_ads",
                  "6": "2023"
                },
                {
                  "0": "2023-06-18T21:57:09+00:00",
                  "1": "23855346266340305",
                  "2": "Hook 4",
                  "3": "BROAD 30+",
                  "4": "2025-03-02T15:32:53.977487",
                  "5": "facebook_ads",
                  "6": "2023"
                },
                {
                  "0": "2023-06-18T21:57:09+00:00",
                  "1": "23855346459030305",
                  "2": "Hook 4 - Copy",
                  "3": "Wealth 30+",
                  "4": "2025-03-02T15:32:53.977487",
                  "5": "facebook_ads",
                  "6": "2023"
                },
                {
                  "0": "2023-06-18T21:57:09+00:00",
                  "1": "23855346459040305",
                  "2": "Hook 4 - Copy",
                  "3": "Exchange 30+",
                  "4": "2025-03-02T15:32:53.977487",
                  "5": "facebook_ads",
                  "6": "2023"
                },
                {
                  "0": "2023-06-18T21:57:09+00:00",
                  "1": "23855346459050305",
                  "2": "Hook 4 - Copy",
                  "3": "Business 30+",
                  "4": "2025-03-02T15:32:53.977487",
                  "5": "facebook_ads",
                  "6": "2023"
                },
                {
                  "0": "2023-06-18T21:57:09+00:00",
                  "1": "23855346459080305",
                  "2": "Hook 4 - Copy",
                  "3": "Financial Services 30+",
                  "4": "2025-03-02T15:32:53.977487",
                  "5": "facebook_ads",
                  "6": "2023"
                },
                {
                  "0": "2023-06-08T14:55:44+00:00",
                  "1": "23855150968810695",
                  "2": "Image GB 2",
                  "3": "FRANCE - Secteurs pro 2 - 25 - 45",
                  "4": "2025-03-02T15:32:53.977487",
                  "5": "facebook_ads",
                  "6": "2023"
                },
                {
                  "0": "2023-06-19T17:16:02+00:00",
                  "1": "23855479122650695",
                  "2": "Image Libre",
                  "3": "FRANCE - Formation en ligne - Img Libre",
                  "4": "2025-03-02T15:32:53.977487",
                  "5": "facebook_ads",
                  "6": "2023"
                },
                {
                  "0": "2023-06-19T17:20:10+00:00",
                  "1": "23855479184350695",
                  "2": "Vidéo Joseph Clavier",
                  "3": "FRANCE - Secteurs pro 25 - 45 - Joseph clavier",
                  "4": "2025-03-02T15:32:53.977487",
                  "5": "facebook_ads",
                  "6": "2023"
                },
                {
                  "0": "2023-06-21T08:59:34+00:00",
                  "1": "23855617333700695",
                  "2": "Podcast Hamida",
                  "3": "FRANCE - Investissements Open 25 - 45 - Podcast Hamida",
                  "4": "2025-03-02T15:32:53.977487",
                  "5": "facebook_ads",
                  "6": "2023"
                },
                {
                  "0": "2023-06-22T13:36:30+00:00",
                  "1": "23855693423080695",
                  "2": "Image GB 2 - Compétence",
                  "3": "FRANCE - Stratégies Marketing 25-45 - Compétence",
                  "4": "2025-03-02T15:32:53.977487",
                  "5": "facebook_ads",
                  "6": "2023"
                },
                {
                  "0": "2023-06-22T13:39:05+00:00",
                  "1": "23855693547290695",
                  "2": "Image GB 2 - Compétence",
                  "3": "FRANCE - Secteurs pro 25 - 45 - Compétence",
                  "4": "2025-03-02T15:32:53.977487",
                  "5": "facebook_ads",
                  "6": "2023"
                },
                {
                  "0": "2023-06-26T09:02:02+00:00",
                  "1": "23855818061720695",
                  "2": "Image GB 2 - Compétence",
                  "3": "FRANCE - Investissements Open 25 - 45 - Compétence",
                  "4": "2025-03-02T15:32:53.977487",
                  "5": "facebook_ads",
                  "6": "2023"
                },
                {
                  "0": "2023-06-26T09:05:11+00:00",
                  "1": "23855818115340695",
                  "2": "Image GB 2",
                  "3": "FRANCE - LAL VC 2% - GB2",
                  "4": "2025-03-02T15:32:53.977487",
                  "5": "facebook_ads",
                  "6": "2023"
                },
                {
                  "0": "2023-06-29T13:00:56+00:00",
                  "1": "23856009653850695",
                  "2": "Image GB 2 - Compétence",
                  "3": "FRANCE - Investissements Open 25 - 45 - Compétence",
                  "4": "2025-03-02T15:32:53.977487",
                  "5": "facebook_ads",
                  "6": "2023"
                },
                {
                  "0": "2023-06-29T13:29:28+00:00",
                  "1": "23856009851260695",
                  "2": "CR4 BH Riche",
                  "3": "FRANCE - Secteurs pro - CR4 BH Riche",
                  "4": "2025-03-02T15:32:53.977487",
                  "5": "facebook_ads",
                  "6": "2023"
                },
                {
                  "0": "2023-06-29T13:31:04+00:00",
                  "1": "23856009897790695",
                  "2": "CR4 BH Riche",
                  "3": "FRANCE - Stratégies Marketing  -  CR4 BH Riche",
                  "4": "2025-03-02T15:32:53.977487",
                  "5": "facebook_ads",
                  "6": "2023"
                },
                {
                  "0": "2023-06-29T13:31:04+00:00",
                  "1": "23856009897810695",
                  "2": "CR4 BH Riche",
                  "3": "FRANCE - Investissements Open -  CR4 BH Riche",
                  "4": "2025-03-02T15:32:53.977487",
                  "5": "facebook_ads",
                  "6": "2023"
                },
                {
                  "0": "2023-06-29T13:50:33+00:00",
                  "1": "23856009923980695",
                  "2": "CR1a BH Riche",
                  "3": "FRANCE - Secteurs pro - CR1a BH Riche",
                  "4": "2025-03-02T15:32:53.977487",
                  "5": "facebook_ads",
                  "6": "2023"
                },
                {
                  "0": "2023-06-29T13:52:15+00:00",
                  "1": "23856010099840695",
                  "2": "CR5 BH Riche",
                  "3": "FRANCE - Secteurs pro - CR7 BH Riche",
                  "4": "2025-03-02T15:32:53.977487",
                  "5": "facebook_ads",
                  "6": "2023"
                },
                {
                  "0": "2023-06-29T13:53:31+00:00",
                  "1": "23856010120560695",
                  "2": "Image GB 2",
                  "3": "FRANCE - Broad",
                  "4": "2025-03-02T15:32:53.977487",
                  "5": "facebook_ads",
                  "6": "2023"
                },
                {
                  "0": "2023-07-04T14:26:24+00:00",
                  "1": "23856435712680695",
                  "2": "Image GB 2 - Compétence",
                  "3": "FRANCE - LAL VC 2% - GB2 - Compétence",
                  "4": "2025-03-02T15:32:53.977487",
                  "5": "facebook_ads",
                  "6": "2023"
                },
                {
                  "0": "2023-07-04T14:48:55+00:00",
                  "1": "23856436337160695",
                  "2": "Image GB 2 - Investi travail",
                  "3": "FRANCE - Secteurs pro 25 - 45 - CR1 BH Bosseurs",
                  "4": "2025-03-02T15:32:53.977487",
                  "5": "facebook_ads",
                  "6": "2023"
                },
                {
                  "0": "2023-07-09T15:08:22+00:00",
                  "1": "23856804330090695",
                  "2": "Vidéo Joseph Clavier",
                  "3": "FRANCE - Secteurs pro 25 - 45 - Joseh Clavier",
                  "4": "2025-03-02T15:32:53.977487",
                  "5": "facebook_ads",
                  "6": "2023"
                },
                {
                  "0": "2023-07-09T15:41:35+00:00",
                  "1": "23856804630620695",
                  "2": "CR7 BH Bosseurs",
                  "3": "FRANCE - Secteurs pro 25 - 45 - CR6 BH Bosseurs",
                  "4": "2025-03-02T15:32:53.977487",
                  "5": "facebook_ads",
                  "6": "2023"
                },
                {
                  "0": "2023-07-09T15:43:22+00:00",
                  "1": "23856804651060695",
                  "2": "CR6 BH Bosseurs",
                  "3": "FRANCE - Stratégies Marketing 25-45 - CR7 BH Bosseurs",
                  "4": "2025-03-02T15:32:53.977487",
                  "5": "facebook_ads",
                  "6": "2023"
                },
                {
                  "0": "2023-07-11T11:57:23+00:00",
                  "1": "23856928507960695",
                  "2": "CR6 BH Bosseurs",
                  "3": "FRANCE - Stratégies Marketing 25-45 - CR6 BH Bosseurs",
                  "4": "2025-03-02T15:32:53.977487",
                  "5": "facebook_ads",
                  "6": "2023"
                },
                {
                  "0": "2023-07-14T11:17:50+00:00",
                  "1": "23857024992920695",
                  "2": "Script Benoit",
                  "3": "Page Application 90D - Script Benoit",
                  "4": "2025-03-02T15:32:53.977487",
                  "5": "facebook_ads",
                  "6": "2023"
                },
                {
                  "0": "2023-07-14T11:17:54+00:00",
                  "1": "23857025625510695",
                  "2": "Mix Testi 1",
                  "3": "Page Application 90D - Mix Testi 1",
                  "4": "2025-03-02T15:32:53.977487",
                  "5": "facebook_ads",
                  "6": "2023"
                },
                {
                  "0": "2023-07-14T11:17:50+00:00",
                  "1": "23857025863180695",
                  "2": "Line Testi 1",
                  "3": "Page Application 90D - Line Testi 1",
                  "4": "2025-03-02T15:32:53.977487",
                  "5": "facebook_ads",
                  "6": "2023"
                },
                {
                  "0": "2023-07-14T11:17:52+00:00",
                  "1": "23857025978990695",
                  "2": "Script Benoit",
                  "3": "25% Viewers VSL 30D - Script Benoit",
                  "4": "2025-03-02T15:32:53.977487",
                  "5": "facebook_ads",
                  "6": "2023"
                },
                {
                  "0": "2023-07-14T11:17:54+00:00",
                  "1": "23857025979030695",
                  "2": "Line Testi 1",
                  "3": "25% Viewers VSL 30D - Line Testi 1",
                  "4": "2025-03-02T15:32:53.977487",
                  "5": "facebook_ads",
                  "6": "2023"
                },
                {
                  "0": "2023-07-17T12:22:28+00:00",
                  "1": "23857104076910695",
                  "2": "Line Testi 1",
                  "3": "25% Viewers VSL 30D - Line Testi 1",
                  "4": "2025-03-02T15:32:53.977487",
                  "5": "facebook_ads",
                  "6": "2023"
                },
                {
                  "0": "2023-07-17T12:22:28+00:00",
                  "1": "23857104076950695",
                  "2": "Script Benoit",
                  "3": "25% Viewers VSL 30D - Script Benoit",
                  "4": "2025-03-02T15:32:53.977487",
                  "5": "facebook_ads",
                  "6": "2023"
                },
                {
                  "0": "2023-07-17T12:22:30+00:00",
                  "1": "23857104076960695",
                  "2": "Mix Testi 1",
                  "3": "25% Viewers VSL 30D - Mix Testi 1",
                  "4": "2025-03-02T15:32:53.977487",
                  "5": "facebook_ads",
                  "6": "2023"
                },
                {
                  "0": "2023-07-20T18:20:15+00:00",
                  "1": "23857191594320695",
                  "2": "CR Piege BH Compétence",
                  "3": "FRANCE - Udemy & Co - Piege",
                  "4": "2025-03-02T15:32:53.977487",
                  "5": "facebook_ads",
                  "6": "2023"
                },
                {
                  "0": "2023-07-20T18:20:14+00:00",
                  "1": "23857191795640695",
                  "2": "CR1 - Compétence",
                  "3": "FRANCE - Udemy & Co - CR1 BH Compétence",
                  "4": "2025-03-02T15:32:53.977487",
                  "5": "facebook_ads",
                  "6": "2023"
                },
                {
                  "0": "2023-07-20T18:20:14+00:00",
                  "1": "23857191814730695",
                  "2": "CR Papier BH Compétence",
                  "3": "FRANCE - Ecriture créative - Papier",
                  "4": "2025-03-02T15:32:53.977487",
                  "5": "facebook_ads",
                  "6": "2023"
                },
                {
                  "0": "2023-07-24T14:22:46+00:00",
                  "1": "23857168614340305",
                  "2": "Angle US - Visuel #1",
                  "3": "BROAD 25+ - Angle US",
                  "4": "2025-03-02T15:32:53.977487",
                  "5": "facebook_ads",
                  "6": "2023"
                },
                {
                  "0": "2023-07-24T14:22:41+00:00",
                  "1": "23857169098100305",
                  "2": "Angle US - Visuel #10",
                  "3": "BROAD 25+ - Angle US",
                  "4": "2025-03-02T15:32:53.977487",
                  "5": "facebook_ads",
                  "6": "2023"
                },
                {
                  "0": "2023-07-24T14:22:41+00:00",
                  "1": "23857169098110305",
                  "2": "Angle US - Visuel #4",
                  "3": "BROAD 25+ - Angle US",
                  "4": "2025-03-02T15:32:53.977487",
                  "5": "facebook_ads",
                  "6": "2023"
                },
                {
                  "0": "2023-07-24T14:22:46+00:00",
                  "1": "23857169098120305",
                  "2": "Angle US - Visuel #7",
                  "3": "BROAD 25+ - Angle US",
                  "4": "2025-03-02T15:32:53.977487",
                  "5": "facebook_ads",
                  "6": "2023"
                },
                {
                  "0": "2024-05-13T19:52:13+00:00",
                  "1": "6603328427051",
                  "2": "2",
                  "3": "all60days_looker_tier2",
                  "4": "2025-03-02T15:32:53.977487",
                  "5": "facebook_ads",
                  "6": "2024"
                },
                {
                  "0": "2024-05-13T19:52:13+00:00",
                  "1": "6603328427251",
                  "2": "4",
                  "3": "all60days_looker_tier2",
                  "4": "2025-03-02T15:32:53.977487",
                  "5": "facebook_ads",
                  "6": "2024"
                },
                {
                  "0": "2024-05-13T19:52:16+00:00",
                  "1": "6603328427451",
                  "2": "3",
                  "3": "all60days_looker_tier2",
                  "4": "2025-03-02T15:32:53.977487",
                  "5": "facebook_ads",
                  "6": "2024"
                },
                {
                  "0": "2024-06-12T08:58:01+00:00",
                  "1": "120210503922960696",
                  "2": "PUB 1 - VID 1 (AC 1)",
                  "3": "BROAD - H/F - 18+",
                  "4": "2025-03-02T15:32:53.977487",
                  "5": "facebook_ads",
                  "6": "2024"
                },
                {
                  "0": "2024-06-12T08:55:58+00:00",
                  "1": "120210504625120696",
                  "2": "PUB 2 - VID 2 (AC 1)",
                  "3": "BROAD - H/F - 18+",
                  "4": "2025-03-02T15:32:53.977487",
                  "5": "facebook_ads",
                  "6": "2024"
                },
                {
                  "0": "2024-06-12T09:26:34+00:00",
                  "1": "120210505162390696",
                  "2": "PUB 2 - VID 3 (AC 2)",
                  "3": "BROAD - H/F - 18+",
                  "4": "2025-03-02T15:32:53.977487",
                  "5": "facebook_ads",
                  "6": "2024"
                },
                {
                  "0": "2024-06-12T09:26:34+00:00",
                  "1": "120210505162400696",
                  "2": "PUB 2 - VID 8 (AC 2)",
                  "3": "BROAD - H/F - 18+",
                  "4": "2025-03-02T15:32:53.977487",
                  "5": "facebook_ads",
                  "6": "2024"
                },
                {
                  "0": "2024-06-12T09:26:32+00:00",
                  "1": "120210505162410696",
                  "2": "PUB 1 - VID 1 (AC 2)",
                  "3": "BROAD - H/F - 18+",
                  "4": "2025-03-02T15:32:53.977487",
                  "5": "facebook_ads",
                  "6": "2024"
                },
                {
                  "0": "2024-06-12T09:26:32+00:00",
                  "1": "120210505162430696",
                  "2": "PUB 2 - VID 6 (AC 3)",
                  "3": "BROAD - H/F - 18+",
                  "4": "2025-03-02T15:32:53.977487",
                  "5": "facebook_ads",
                  "6": "2024"
                },
                {
                  "0": "2024-07-04T08:46:26+00:00",
                  "1": "120210923047080696",
                  "2": "PUB 3 - VID 9 (Parent)",
                  "3": "BROAD - H/F - 18+",
                  "4": "2025-03-02T15:32:53.977487",
                  "5": "facebook_ads",
                  "6": "2024"
                },
                {
                  "0": "2024-07-05T13:48:45+00:00",
                  "1": "120211246406970306",
                  "2": "#2",
                  "3": "Comptabilité 34+",
                  "4": "2025-03-02T15:32:53.977487",
                  "5": "facebook_ads",
                  "6": "2024"
                },
                {
                  "0": "2024-07-05T13:48:45+00:00",
                  "1": "120211246659080306",
                  "2": "#3",
                  "3": "Comptabilité 34+",
                  "4": "2025-03-02T15:32:53.977487",
                  "5": "facebook_ads",
                  "6": "2024"
                },
                {
                  "0": "2024-07-05T13:48:45+00:00",
                  "1": "120211246699380306",
                  "2": "#1",
                  "3": "Comptabilité 34+",
                  "4": "2025-03-02T15:32:53.977487",
                  "5": "facebook_ads",
                  "6": "2024"
                },
                {
                  "0": "2024-07-05T13:48:52+00:00",
                  "1": "120211247008720306",
                  "2": "#2 - Copy",
                  "3": "Risk Management M35-54",
                  "4": "2025-03-02T15:32:53.977487",
                  "5": "facebook_ads",
                  "6": "2024"
                },
                {
                  "0": "2024-07-05T13:48:52+00:00",
                  "1": "120211247008730306",
                  "2": "#1 - Copy",
                  "3": "Risk Management M35-54",
                  "4": "2025-03-02T15:32:53.977487",
                  "5": "facebook_ads",
                  "6": "2024"
                },
                {
                  "0": "2024-07-05T13:48:52+00:00",
                  "1": "120211247008740306",
                  "2": "#3 - Copy",
                  "3": "Risk Management M35-54",
                  "4": "2025-03-02T15:32:53.977487",
                  "5": "facebook_ads",
                  "6": "2024"
                },
                {
                  "0": "2024-07-05T13:48:52+00:00",
                  "1": "120211247013520306",
                  "2": "#2 - Copy",
                  "3": "BROAD M35-54 - Copy",
                  "4": "2025-03-02T15:32:53.977487",
                  "5": "facebook_ads",
                  "6": "2024"
                },
                {
                  "0": "2024-07-05T13:48:45+00:00",
                  "1": "120211247013540306",
                  "2": "#3 - Copy",
                  "3": "Finance M35-54 - Copy",
                  "4": "2025-03-02T15:32:53.977487",
                  "5": "facebook_ads",
                  "6": "2024"
                },
                {
                  "0": "2024-07-05T13:48:45+00:00",
                  "1": "120211247013550306",
                  "2": "#1 - Copy",
                  "3": "Business M35-54 - Copy",
                  "4": "2025-03-02T15:32:53.977487",
                  "5": "facebook_ads",
                  "6": "2024"
                },
                {
                  "0": "2024-07-05T13:48:45+00:00",
                  "1": "120211247013560306",
                  "2": "#3 - Copy",
                  "3": "Business M35-54 - Copy",
                  "4": "2025-03-02T15:32:53.977487",
                  "5": "facebook_ads",
                  "6": "2024"
                },
                {
                  "0": "2024-07-05T13:48:52+00:00",
                  "1": "120211247013570306",
                  "2": "#3 - Copy",
                  "3": "BROAD M35-54 - Copy",
                  "4": "2025-03-02T15:32:53.977487",
                  "5": "facebook_ads",
                  "6": "2024"
                },
                {
                  "0": "2024-07-05T13:48:52+00:00",
                  "1": "120211247013580306",
                  "2": "#1 - Copy",
                  "3": "BROAD M35-54 - Copy",
                  "4": "2025-03-02T15:32:53.977487",
                  "5": "facebook_ads",
                  "6": "2024"
                },
                {
                  "0": "2024-07-05T13:48:45+00:00",
                  "1": "120211247013590306",
                  "2": "#2 - Copy",
                  "3": "Finance M35-54 - Copy",
                  "4": "2025-03-02T15:32:53.977487",
                  "5": "facebook_ads",
                  "6": "2024"
                },
                {
                  "0": "2024-07-05T13:48:45+00:00",
                  "1": "120211247013600306",
                  "2": "#1 - Copy",
                  "3": "Finance M35-54 - Copy",
                  "4": "2025-03-02T15:32:53.977487",
                  "5": "facebook_ads",
                  "6": "2024"
                },
                {
                  "0": "2024-07-05T13:48:45+00:00",
                  "1": "120211247013610306",
                  "2": "#2 - Copy",
                  "3": "Business M35-54 - Copy",
                  "4": "2025-03-02T15:32:53.977487",
                  "5": "facebook_ads",
                  "6": "2024"
                },
                {
                  "0": "2024-07-05T13:52:43+00:00",
                  "1": "120211247718110306",
                  "2": "#4",
                  "3": "BROAD M35-54 - Copy",
                  "4": "2025-03-02T15:32:53.977487",
                  "5": "facebook_ads",
                  "6": "2024"
                },
                {
                  "0": "2024-07-05T13:52:43+00:00",
                  "1": "120211247718120306",
                  "2": "#5",
                  "3": "BROAD M35-54 - Copy",
                  "4": "2025-03-02T15:32:53.977487",
                  "5": "facebook_ads",
                  "6": "2024"
                },
                {
                  "0": "2024-07-05T13:52:43+00:00",
                  "1": "120211247718130306",
                  "2": "#6",
                  "3": "BROAD M35-54 - Copy",
                  "4": "2025-03-02T15:32:53.977487",
                  "5": "facebook_ads",
                  "6": "2024"
                },
                {
                  "0": "2024-07-05T13:52:43+00:00",
                  "1": "120211247774140306",
                  "2": "#5 - Copy",
                  "3": "Finance M35-54 - Copy",
                  "4": "2025-03-02T15:32:53.977487",
                  "5": "facebook_ads",
                  "6": "2024"
                },
                {
                  "0": "2024-07-05T13:52:43+00:00",
                  "1": "120211247774150306",
                  "2": "#4 - Copy",
                  "3": "Finance M35-54 - Copy",
                  "4": "2025-03-02T15:32:53.977487",
                  "5": "facebook_ads",
                  "6": "2024"
                },
                {
                  "0": "2024-07-05T13:52:43+00:00",
                  "1": "120211247774160306",
                  "2": "#6 - Copy",
                  "3": "Finance M35-54 - Copy",
                  "4": "2025-03-02T15:32:53.977487",
                  "5": "facebook_ads",
                  "6": "2024"
                },
                {
                  "0": "2024-07-05T13:52:43+00:00",
                  "1": "120211247774170306",
                  "2": "#5 - Copy",
                  "3": "Business M35-54 - Copy",
                  "4": "2025-03-02T15:32:53.977487",
                  "5": "facebook_ads",
                  "6": "2024"
                },
                {
                  "0": "2024-07-05T13:52:43+00:00",
                  "1": "120211247774180306",
                  "2": "#4 - Copy",
                  "3": "Business M35-54 - Copy",
                  "4": "2025-03-02T15:32:53.977487",
                  "5": "facebook_ads",
                  "6": "2024"
                },
                {
                  "0": "2024-07-05T13:52:43+00:00",
                  "1": "120211247774190306",
                  "2": "#6 - Copy",
                  "3": "Business M35-54 - Copy",
                  "4": "2025-03-02T15:32:53.977487",
                  "5": "facebook_ads",
                  "6": "2024"
                },
                {
                  "0": "2024-07-05T13:52:43+00:00",
                  "1": "120211247774300306",
                  "2": "#6 - Copy",
                  "3": "Comptabilité 34+",
                  "4": "2025-03-02T15:32:53.977487",
                  "5": "facebook_ads",
                  "6": "2024"
                },
                {
                  "0": "2024-07-05T13:52:43+00:00",
                  "1": "120211247774310306",
                  "2": "#4 - Copy",
                  "3": "Comptabilité 34+",
                  "4": "2025-03-02T15:32:53.977487",
                  "5": "facebook_ads",
                  "6": "2024"
                },
                {
                  "0": "2024-07-05T13:52:43+00:00",
                  "1": "120211247774320306",
                  "2": "#5 - Copy",
                  "3": "Comptabilité 34+",
                  "4": "2025-03-02T15:32:53.977487",
                  "5": "facebook_ads",
                  "6": "2024"
                },
                {
                  "0": "2024-07-05T13:52:43+00:00",
                  "1": "120211247775110306",
                  "2": "#4 - Copy",
                  "3": "Risk Management M35-54",
                  "4": "2025-03-02T15:32:53.977487",
                  "5": "facebook_ads",
                  "6": "2024"
                },
                {
                  "0": "2024-07-05T13:52:43+00:00",
                  "1": "120211247775120306",
                  "2": "#5 - Copy",
                  "3": "Risk Management M35-54",
                  "4": "2025-03-02T15:32:53.977487",
                  "5": "facebook_ads",
                  "6": "2024"
                },
                {
                  "0": "2024-07-05T13:52:43+00:00",
                  "1": "120211247775130306",
                  "2": "#6 - Copy",
                  "3": "Risk Management M35-54",
                  "4": "2025-03-02T15:32:53.977487",
                  "5": "facebook_ads",
                  "6": "2024"
                },
                {
                  "0": "2024-07-05T14:20:08+00:00",
                  "1": "120211248384190306",
                  "2": "#7",
                  "3": "BROAD M35-54 - Copy",
                  "4": "2025-03-02T15:32:53.977487",
                  "5": "facebook_ads",
                  "6": "2024"
                },
                {
                  "0": "2024-07-05T14:20:08+00:00",
                  "1": "120211248440170306",
                  "2": "#7 - Copy",
                  "3": "Finance M35-54 - Copy",
                  "4": "2025-03-02T15:32:53.977487",
                  "5": "facebook_ads",
                  "6": "2024"
                },
                {
                  "0": "2024-07-05T14:20:08+00:00",
                  "1": "120211248440180306",
                  "2": "#7 - Copy",
                  "3": "Risk Management M35-54",
                  "4": "2025-03-02T15:32:53.977487",
                  "5": "facebook_ads",
                  "6": "2024"
                },
                {
                  "0": "2024-07-05T14:20:08+00:00",
                  "1": "120211248440190306",
                  "2": "#7 - Copy",
                  "3": "Business M35-54 - Copy",
                  "4": "2025-03-02T15:32:53.977487",
                  "5": "facebook_ads",
                  "6": "2024"
                },
                {
                  "0": "2024-07-05T14:20:08+00:00",
                  "1": "120211248440230306",
                  "2": "#7 - Copy",
                  "3": "Comptabilité 34+",
                  "4": "2025-03-02T15:32:53.977487",
                  "5": "facebook_ads",
                  "6": "2024"
                },
                {
                  "0": "2024-07-05T14:48:03+00:00",
                  "1": "120211249143580306",
                  "2": "#8 - Copy",
                  "3": "BROAD M35-54 - Copy",
                  "4": "2025-03-02T15:32:53.977487",
                  "5": "facebook_ads",
                  "6": "2024"
                },
                {
                  "0": "2024-07-05T14:48:03+00:00",
                  "1": "120211249176950306",
                  "2": "#8 - Copy 2",
                  "3": "Finance M35-54 - Copy",
                  "4": "2025-03-02T15:32:53.977487",
                  "5": "facebook_ads",
                  "6": "2024"
                },
                {
                  "0": "2024-07-05T14:48:03+00:00",
                  "1": "120211249176960306",
                  "2": "#8 - Copy 2",
                  "3": "Business M35-54 - Copy",
                  "4": "2025-03-02T15:32:53.977487",
                  "5": "facebook_ads",
                  "6": "2024"
                },
                {
                  "0": "2024-07-05T14:48:03+00:00",
                  "1": "120211249177000306",
                  "2": "#8 - Copy 2",
                  "3": "Comptabilité 34+",
                  "4": "2025-03-02T15:32:53.977487",
                  "5": "facebook_ads",
                  "6": "2024"
                },
                {
                  "0": "2024-07-05T14:48:03+00:00",
                  "1": "120211249177030306",
                  "2": "#8 - Copy 2",
                  "3": "Risk Management M35-54",
                  "4": "2025-03-02T15:32:53.977487",
                  "5": "facebook_ads",
                  "6": "2024"
                },
                {
                  "0": "2024-07-08T14:10:07+00:00",
                  "1": "120211005112530696",
                  "2": "PUB 2 - VID 3 (AC 2)",
                  "3": "BROAD - H/F - 18+",
                  "4": "2025-03-02T15:32:53.977487",
                  "5": "facebook_ads",
                  "6": "2024"
                },
                {
                  "0": "2024-07-08T14:10:02+00:00",
                  "1": "120211005112550696",
                  "2": "PUB 3 - VID 9 (Témoignage)",
                  "3": "BROAD - H/F - 18+",
                  "4": "2025-03-02T15:32:53.977487",
                  "5": "facebook_ads",
                  "6": "2024"
                },
                {
                  "0": "2024-07-08T14:14:21+00:00",
                  "1": "120211005198460696",
                  "2": "PUB 4 - VID 10 (Femme)",
                  "3": "BROAD - H/F - 18+",
                  "4": "2025-03-02T15:32:53.977487",
                  "5": "facebook_ads",
                  "6": "2024"
                },
                {
                  "0": "2024-07-10T08:50:32+00:00",
                  "1": "120211036245630696",
                  "2": "PUB 5 - VID 11 (22%)",
                  "3": "BROAD - H/F - 18+",
                  "4": "2025-03-02T15:32:53.977487",
                  "5": "facebook_ads",
                  "6": "2024"
                },
                {
                  "0": "2024-07-15T08:29:27+00:00",
                  "1": "120211121827280696",
                  "2": "PUB 7 - VID 12 (Parents)",
                  "3": "BROAD - H/F - 18+",
                  "4": "2025-03-02T15:32:53.977487",
                  "5": "facebook_ads",
                  "6": "2024"
                },
                {
                  "0": "2024-07-16T08:07:15+00:00",
                  "1": "120211144020510696",
                  "2": "PUB 8 - VID 13 (Stop)",
                  "3": "BROAD - H/F - 18+",
                  "4": "2025-03-02T15:32:53.977487",
                  "5": "facebook_ads",
                  "6": "2024"
                },
                {
                  "0": "2024-07-17T11:33:27+00:00",
                  "1": "120211166586040696",
                  "2": "PUB 3 - VID 3 (AC 1)",
                  "3": "BROAD - H/F - 18+",
                  "4": "2025-03-02T15:32:53.977487",
                  "5": "facebook_ads",
                  "6": "2024"
                },
                {
                  "0": "2024-07-17T12:14:35+00:00",
                  "1": "120211167532780696",
                  "2": "PUB 4 - VID 4 (AC 1)",
                  "3": "BROAD - H/F - 18+",
                  "4": "2025-03-02T15:32:53.977487",
                  "5": "facebook_ads",
                  "6": "2024"
                },
                {
                  "0": "2024-07-17T15:40:04+00:00",
                  "1": "120211171024510696",
                  "2": "PUB 3 - VID 9 (Stop)",
                  "3": "BROAD - H/F - 18+",
                  "4": "2025-03-02T15:32:53.977487",
                  "5": "facebook_ads",
                  "6": "2024"
                },
                {
                  "0": "2024-07-21T12:09:05+00:00",
                  "1": "120211247472600696",
                  "2": "PUB 2 - VID 3 (AC 2)",
                  "3": "BROAD - H/F - 18+",
                  "4": "2025-03-02T15:32:53.977487",
                  "5": "facebook_ads",
                  "6": "2024"
                },
                {
                  "0": "2024-07-21T12:09:05+00:00",
                  "1": "120211247472630696",
                  "2": "PUB 3 - VID 9 (Stop)",
                  "3": "BROAD - H/F - 18+",
                  "4": "2025-03-02T15:32:53.977487",
                  "5": "facebook_ads",
                  "6": "2024"
                },
                {
                  "0": "2024-07-21T12:09:05+00:00",
                  "1": "120211247568830696",
                  "2": "PUB 4 - IMG 1 (AC 2)",
                  "3": "BROAD - H/F - 18+",
                  "4": "2025-03-02T15:32:53.977487",
                  "5": "facebook_ads",
                  "6": "2024"
                },
                {
                  "0": "2024-07-21T12:09:05+00:00",
                  "1": "120211247590310696",
                  "2": "PUB 5 - IMG 2 (AC 2)",
                  "3": "BROAD - H/F - 18+",
                  "4": "2025-03-02T15:32:53.977487",
                  "5": "facebook_ads",
                  "6": "2024"
                },
                {
                  "0": "2024-07-27T22:57:03+00:00",
                  "1": "120211654945980306",
                  "2": "#1",
                  "3": "BROAD #1",
                  "4": "2025-03-02T15:32:53.977487",
                  "5": "facebook_ads",
                  "6": "2024"
                },
                {
                  "0": "2024-07-27T22:57:09+00:00",
                  "1": "120211655445100306",
                  "2": "#5",
                  "3": "BROAD #5",
                  "4": "2025-03-02T15:32:53.977487",
                  "5": "facebook_ads",
                  "6": "2024"
                },
                {
                  "0": "2024-07-27T22:57:09+00:00",
                  "1": "120211655445150306",
                  "2": "#2",
                  "3": "BROAD #2",
                  "4": "2025-03-02T15:32:53.977487",
                  "5": "facebook_ads",
                  "6": "2024"
                },
                {
                  "0": "2024-07-27T22:57:03+00:00",
                  "1": "120211655445160306",
                  "2": "#3",
                  "3": "BROAD #3",
                  "4": "2025-03-02T15:32:53.977487",
                  "5": "facebook_ads",
                  "6": "2024"
                },
                {
                  "0": "2024-07-27T22:57:04+00:00",
                  "1": "120211655445170306",
                  "2": "#4",
                  "3": "BROAD #4",
                  "4": "2025-03-02T15:32:53.977487",
                  "5": "facebook_ads",
                  "6": "2024"
                },
                {
                  "0": "2024-07-30T19:05:04+00:00",
                  "1": "120211699793670306",
                  "2": "#4",
                  "3": "SS#1 - Page Admin + Typology + Engaged Shoppers",
                  "4": "2025-03-02T15:32:53.977487",
                  "5": "facebook_ads",
                  "6": "2024"
                },
                {
                  "0": "2024-07-30T19:05:11+00:00",
                  "1": "120211704226820306",
                  "2": "#3 - Copy",
                  "3": "SS#1 - Page Admin + Typology + Engaged Shoppers",
                  "4": "2025-03-02T15:32:53.977487",
                  "5": "facebook_ads",
                  "6": "2024"
                },
                {
                  "0": "2024-07-30T19:05:04+00:00",
                  "1": "120211704226840306",
                  "2": "#2 - Copy",
                  "3": "SS#1 - Page Admin + Typology + Engaged Shoppers",
                  "4": "2025-03-02T15:32:53.977487",
                  "5": "facebook_ads",
                  "6": "2024"
                },
                {
                  "0": "2024-07-30T19:08:11+00:00",
                  "1": "120211704258160306",
                  "2": "#1",
                  "3": "BROAD + M25+",
                  "4": "2025-03-02T15:32:53.977487",
                  "5": "facebook_ads",
                  "6": "2024"
                },
                {
                  "0": "2024-07-30T19:08:11+00:00",
                  "1": "120211704261850306",
                  "2": "#3 - Copy",
                  "3": "BROAD + M25+",
                  "4": "2025-03-02T15:32:53.977487",
                  "5": "facebook_ads",
                  "6": "2024"
                },
                {
                  "0": "2024-07-30T19:08:04+00:00",
                  "1": "120211704261860306",
                  "2": "#5 - Copy",
                  "3": "BROAD + M25+",
                  "4": "2025-03-02T15:32:53.977487",
                  "5": "facebook_ads",
                  "6": "2024"
                },
                {
                  "0": "2024-07-30T19:08:04+00:00",
                  "1": "120211704261870306",
                  "2": "#2 - Copy",
                  "3": "BROAD + M25+",
                  "4": "2025-03-02T15:32:53.977487",
                  "5": "facebook_ads",
                  "6": "2024"
                },
                {
                  "0": "2024-07-30T19:08:04+00:00",
                  "1": "120211704261880306",
                  "2": "#4 - Copy",
                  "3": "BROAD + M25+",
                  "4": "2025-03-02T15:32:53.977487",
                  "5": "facebook_ads",
                  "6": "2024"
                },
                {
                  "0": "2024-07-30T19:08:55+00:00",
                  "1": "120211704328400306",
                  "2": "#1",
                  "3": "BROAD + F25+",
                  "4": "2025-03-02T15:32:53.977487",
                  "5": "facebook_ads",
                  "6": "2024"
                },
                {
                  "0": "2024-07-30T19:08:51+00:00",
                  "1": "120211704328410306",
                  "2": "#2 - Copy",
                  "3": "BROAD + F25+",
                  "4": "2025-03-02T15:32:53.977487",
                  "5": "facebook_ads",
                  "6": "2024"
                },
                {
                  "0": "2024-07-30T19:08:51+00:00",
                  "1": "120211704328430306",
                  "2": "#4 - Copy",
                  "3": "BROAD + F25+",
                  "4": "2025-03-02T15:32:53.977487",
                  "5": "facebook_ads",
                  "6": "2024"
                },
                {
                  "0": "2024-07-30T19:08:51+00:00",
                  "1": "120211704328450306",
                  "2": "#5 - Copy",
                  "3": "BROAD + F25+",
                  "4": "2025-03-02T15:32:53.977487",
                  "5": "facebook_ads",
                  "6": "2024"
                },
                {
                  "0": "2024-08-13T15:18:04+00:00",
                  "1": "120211979240680306",
                  "2": "Ad #1 - Votre cerveau vaut de l'or",
                  "3": "BROAD W30+",
                  "4": "2025-03-02T15:32:53.977487",
                  "5": "facebook_ads",
                  "6": "2024"
                },
                {
                  "0": "2024-08-13T15:18:04+00:00",
                  "1": "120211981431360306",
                  "2": "Ad #1 - Votre cerveau vaut de l'or",
                  "3": "BROAD M+F30+",
                  "4": "2025-03-02T15:32:53.977487",
                  "5": "facebook_ads",
                  "6": "2024"
                },
                {
                  "0": "2024-08-13T15:18:07+00:00",
                  "1": "120211981444450306",
                  "2": "Ad #1 - Votre cerveau vaut de l'or",
                  "3": "Psychology M+F35+",
                  "4": "2025-03-02T15:32:53.977487",
                  "5": "facebook_ads",
                  "6": "2024"
                },
                {
                  "0": "2024-08-13T15:18:04+00:00",
                  "1": "120211981506380306",
                  "2": "Ad #1 - Votre cerveau vaut de l'or",
                  "3": "Health & Wellness M+F35+",
                  "4": "2025-03-02T15:32:53.977487",
                  "5": "facebook_ads",
                  "6": "2024"
                },
                {
                  "0": "2024-08-14T13:26:46+00:00",
                  "1": "120212004573790306",
                  "2": "Ad #1 - Votre cerveau vaut de l'or",
                  "3": "BROAD M30+",
                  "4": "2025-03-02T15:32:53.977487",
                  "5": "facebook_ads",
                  "6": "2024"
                },
                {
                  "0": "2024-08-14T20:15:35+00:00",
                  "1": "120212016083750306",
                  "2": "Ad #1 - Votre cerveau vaut de l'or",
                  "3": "Psychology M35+",
                  "4": "2025-03-02T15:32:53.977487",
                  "5": "facebook_ads",
                  "6": "2024"
                },
                {
                  "0": "2024-08-14T20:15:35+00:00",
                  "1": "120212016083760306",
                  "2": "Ad #1 - Votre cerveau vaut de l'or",
                  "3": "Health & Wellness M+35+",
                  "4": "2025-03-02T15:32:53.977487",
                  "5": "facebook_ads",
                  "6": "2024"
                },
                {
                  "0": "2024-08-14T20:16:22+00:00",
                  "1": "120212016114410306",
                  "2": "Ad #1 - Votre cerveau vaut de l'or",
                  "3": "BROAD M30+ - Copy",
                  "4": "2025-03-02T15:32:53.977487",
                  "5": "facebook_ads",
                  "6": "2024"
                },
                {
                  "0": "2024-08-15T06:52:37+00:00",
                  "1": "120212025350140306",
                  "2": "Ad #1 - Votre cerveau vaut de l'or",
                  "3": "Business M35+",
                  "4": "2025-03-02T15:32:53.977487",
                  "5": "facebook_ads",
                  "6": "2024"
                },
                {
                  "0": "2024-08-15T06:52:37+00:00",
                  "1": "120212025350180306",
                  "2": "Ad #1 - Votre cerveau vaut de l'or",
                  "3": "Sales M30+",
                  "4": "2025-03-02T15:32:53.977487",
                  "5": "facebook_ads",
                  "6": "2024"
                },
                {
                  "0": "2024-08-15T06:52:37+00:00",
                  "1": "120212025350190306",
                  "2": "Ad #1 - Votre cerveau vaut de l'or",
                  "3": "Digital Marketing M+35+",
                  "4": "2025-03-02T15:32:53.977487",
                  "5": "facebook_ads",
                  "6": "2024"
                },
                {
                  "0": "2024-08-22T17:59:51+00:00",
                  "1": "120212196152810306",
                  "2": "Ad #1 - Expertise - Copy",
                  "3": "Science",
                  "4": "2025-03-02T15:32:53.977487",
                  "5": "facebook_ads",
                  "6": "2024"
                },
                {
                  "0": "2024-08-22T17:59:51+00:00",
                  "1": "120212196623900306",
                  "2": "Ad #1 - Expertise - Copy 2",
                  "3": "BROAD",
                  "4": "2025-03-02T15:32:53.977487",
                  "5": "facebook_ads",
                  "6": "2024"
                },
                {
                  "0": "2024-08-22T17:59:51+00:00",
                  "1": "120212196623910306",
                  "2": "Ad #1 - Expertise - Copy 2",
                  "3": "Data Science 30+",
                  "4": "2025-03-02T15:32:53.977487",
                  "5": "facebook_ads",
                  "6": "2024"
                },
                {
                  "0": "2024-08-22T17:59:54+00:00",
                  "1": "120212196623920306",
                  "2": "Ad #1 - Expertise - Copy 2",
                  "3": "Engineering",
                  "4": "2025-03-02T15:32:53.977487",
                  "5": "facebook_ads",
                  "6": "2024"
                },
                {
                  "0": "2024-08-22T18:54:50+00:00",
                  "1": "120212197104240306",
                  "2": "Ad #1 - Votre cerveau vaut de l'or",
                  "3": "BROAD W30+",
                  "4": "2025-03-02T15:32:53.977487",
                  "5": "facebook_ads",
                  "6": "2024"
                },
                {
                  "0": "2024-08-22T18:54:50+00:00",
                  "1": "120212197104300306",
                  "2": "Ad #1 - Votre cerveau vaut de l'or",
                  "3": "Business M35+",
                  "4": "2025-03-02T15:32:53.977487",
                  "5": "facebook_ads",
                  "6": "2024"
                },
                {
                  "0": "2024-08-22T18:54:50+00:00",
                  "1": "120212197104370306",
                  "2": "Ad #1 - Votre cerveau vaut de l'or",
                  "3": "Sales M30+",
                  "4": "2025-03-02T15:32:53.977487",
                  "5": "facebook_ads",
                  "6": "2024"
                },
                {
                  "0": "2023-01-09T23:20:19+00:00",
                  "1": "23852996469580695",
                  "2": "Texte de vente - Webinaire",
                  "3": "Marketing Digital",
                  "4": "2025-03-02T15:32:53.977487",
                  "5": "facebook_ads",
                  "6": "2023"
                },
                {
                  "0": "2023-01-09T23:20:22+00:00",
                  "1": "23852996908690695",
                  "2": "Gagner sa vie + CTA - Webinaire",
                  "3": "Marketing Digital",
                  "4": "2025-03-02T15:32:53.977487",
                  "5": "facebook_ads",
                  "6": "2023"
                },
                {
                  "0": "2023-01-09T23:20:22+00:00",
                  "1": "23852997018830695",
                  "2": "Gagner sa vie - Webinaire",
                  "3": "Marketing Digital",
                  "4": "2025-03-02T15:32:53.977487",
                  "5": "facebook_ads",
                  "6": "2023"
                },
                {
                  "0": "2023-01-09T23:20:19+00:00",
                  "1": "23852997021500695",
                  "2": "Vivre + CTA - Webinaire",
                  "3": "Marketing Digital",
                  "4": "2025-03-02T15:32:53.977487",
                  "5": "facebook_ads",
                  "6": "2023"
                },
                {
                  "0": "2023-01-09T23:36:52+00:00",
                  "1": "23852997085110695",
                  "2": "Pas la lune - Petit Salarié",
                  "3": "Broad 18-40 - sources - refresh",
                  "4": "2025-03-02T15:32:53.977487",
                  "5": "facebook_ads",
                  "6": "2023"
                },
                {
                  "0": "2023-01-09T23:37:18+00:00",
                  "1": "23852997087630695",
                  "2": "Pas la lune - Petit Salarié",
                  "3": "CI Marketing Numérique - SCALE",
                  "4": "2025-03-02T15:32:53.977487",
                  "5": "facebook_ads",
                  "6": "2023"
                },
                {
                  "0": "2023-01-15T06:00:11+00:00",
                  "1": "23853046505530695",
                  "2": "Vivre + CTA - Webinaire",
                  "3": "Marketing Digital",
                  "4": "2025-03-02T15:32:53.977487",
                  "5": "facebook_ads",
                  "6": "2023"
                },
                {
                  "0": "2023-01-15T06:00:07+00:00",
                  "1": "23853046505550695",
                  "2": "Texte de vente - Webinaire",
                  "3": "Marketing Digital",
                  "4": "2025-03-02T15:32:53.977487",
                  "5": "facebook_ads",
                  "6": "2023"
                },
                {
                  "0": "2023-01-15T06:00:07+00:00",
                  "1": "23853046505560695",
                  "2": "Gagner sa vie + CTA - Webinaire",
                  "3": "Marketing Digital",
                  "4": "2025-03-02T15:32:53.977487",
                  "5": "facebook_ads",
                  "6": "2023"
                },
                {
                  "0": "2023-01-15T06:00:11+00:00",
                  "1": "23853046505570695",
                  "2": "Gagner sa vie - Webinaire",
                  "3": "Marketing Digital",
                  "4": "2025-03-02T15:32:53.977487",
                  "5": "facebook_ads",
                  "6": "2023"
                },
                {
                  "0": "2023-01-20T05:09:21+00:00",
                  "1": "23853096678870695",
                  "2": "Mix témoignages",
                  "3": "Leads Webi 30J",
                  "4": "2025-03-02T15:32:53.977487",
                  "5": "facebook_ads",
                  "6": "2023"
                },
                {
                  "0": "2023-01-21T07:31:37+00:00",
                  "1": "23853107450730695",
                  "2": "Gagner sa vie - Webinaire",
                  "3": "Marketing Digital",
                  "4": "2025-03-02T15:32:53.977487",
                  "5": "facebook_ads",
                  "6": "2023"
                },
                {
                  "0": "2023-01-21T07:31:36+00:00",
                  "1": "23853107450740695",
                  "2": "Texte de vente - Webinaire",
                  "3": "Marketing Digital",
                  "4": "2025-03-02T15:32:53.977487",
                  "5": "facebook_ads",
                  "6": "2023"
                },
                {
                  "0": "2023-01-21T07:31:37+00:00",
                  "1": "23853107450760695",
                  "2": "Gagner sa vie + CTA - Webinaire",
                  "3": "Marketing Digital",
                  "4": "2025-03-02T15:32:53.977487",
                  "5": "facebook_ads",
                  "6": "2023"
                },
                {
                  "0": "2023-01-21T07:31:36+00:00",
                  "1": "23853107450770695",
                  "2": "Vivre + CTA - Webinaire",
                  "3": "Marketing Digital",
                  "4": "2025-03-02T15:32:53.977487",
                  "5": "facebook_ads",
                  "6": "2023"
                },
                {
                  "0": "2023-01-21T07:31:39+00:00",
                  "1": "23853107456720695",
                  "2": "Gagner sa vie + CTA - Webinaire",
                  "3": "FRANCO - LLA Buyers 3%",
                  "4": "2025-03-02T15:32:53.977487",
                  "5": "facebook_ads",
                  "6": "2023"
                },
                {
                  "0": "2023-01-21T07:31:37+00:00",
                  "1": "23853107456740695",
                  "2": "Gagner sa vie - Webinaire",
                  "3": "FR - LLA Webi Leads 3%",
                  "4": "2025-03-02T15:32:53.977487",
                  "5": "facebook_ads",
                  "6": "2023"
                },
                {
                  "0": "2023-01-21T07:31:40+00:00",
                  "1": "23853107456760695",
                  "2": "Gagner sa vie - Webinaire",
                  "3": "FRANCO - LLA Buyers 3%",
                  "4": "2025-03-02T15:32:53.977487",
                  "5": "facebook_ads",
                  "6": "2023"
                },
                {
                  "0": "2023-01-21T07:31:40+00:00",
                  "1": "23853107456770695",
                  "2": "Vivre + CTA - Webinaire",
                  "3": "FRANCO - LLA Buyers 3%",
                  "4": "2025-03-02T15:32:53.977487",
                  "5": "facebook_ads",
                  "6": "2023"
                },
                {
                  "0": "2023-01-21T07:31:36+00:00",
                  "1": "23853107456780695",
                  "2": "Gagner sa vie + CTA - Webinaire",
                  "3": "FR - LLA Webi Leads 3%",
                  "4": "2025-03-02T15:32:53.977487",
                  "5": "facebook_ads",
                  "6": "2023"
                },
                {
                  "0": "2023-01-21T07:31:37+00:00",
                  "1": "23853107456790695",
                  "2": "Vivre + CTA - Webinaire",
                  "3": "FR - LLA Webi Leads 3%",
                  "4": "2025-03-02T15:32:53.977487",
                  "5": "facebook_ads",
                  "6": "2023"
                },
                {
                  "0": "2023-01-21T07:31:36+00:00",
                  "1": "23853107456800695",
                  "2": "Texte de vente - Webinaire",
                  "3": "FR - LLA Webi Leads 3%",
                  "4": "2025-03-02T15:32:53.977487",
                  "5": "facebook_ads",
                  "6": "2023"
                },
                {
                  "0": "2023-01-21T07:31:39+00:00",
                  "1": "23853107456810695",
                  "2": "Texte de vente - Webinaire",
                  "3": "FRANCO - LLA Buyers 3%",
                  "4": "2025-03-02T15:32:53.977487",
                  "5": "facebook_ads",
                  "6": "2023"
                },
                {
                  "0": "2023-01-30T05:00:04+00:00",
                  "1": "23853194890390695",
                  "2": "Vivre + CTA - Webi",
                  "3": "Marketing Digital",
                  "4": "2025-03-02T15:32:53.977487",
                  "5": "facebook_ads",
                  "6": "2023"
                },
                {
                  "0": "2023-01-30T05:00:05+00:00",
                  "1": "23853194890400695",
                  "2": "Gagner sa vie + CTA - Webi",
                  "3": "Marketing Digital",
                  "4": "2025-03-02T15:32:53.977487",
                  "5": "facebook_ads",
                  "6": "2023"
                },
                {
                  "0": "2023-01-30T05:00:04+00:00",
                  "1": "23853194890430695",
                  "2": "Texte de vente - Webi",
                  "3": "Marketing Digital",
                  "4": "2025-03-02T15:32:53.977487",
                  "5": "facebook_ads",
                  "6": "2023"
                },
                {
                  "0": "2023-01-30T04:59:58+00:00",
                  "1": "23853194890460695",
                  "2": "Vivre + CTA - Webi",
                  "3": "FRANCO - LLA Buyers 3%",
                  "4": "2025-03-02T15:32:53.977487",
                  "5": "facebook_ads",
                  "6": "2023"
                },
                {
                  "0": "2023-01-30T05:00:00+00:00",
                  "1": "23853194890480695",
                  "2": "Gagner sa vie + CTA - Webi",
                  "3": "FRANCO - LLA Buyers 3%",
                  "4": "2025-03-02T15:32:53.977487",
                  "5": "facebook_ads",
                  "6": "2023"
                },
                {
                  "0": "2023-01-30T04:59:58+00:00",
                  "1": "23853194890490695",
                  "2": "Texte de vente - Webi",
                  "3": "FRANCO - LLA Buyers 3%",
                  "4": "2025-03-02T15:32:53.977487",
                  "5": "facebook_ads",
                  "6": "2023"
                },
                {
                  "0": "2023-01-30T05:00:00+00:00",
                  "1": "23853194890510695",
                  "2": "Gagner sa vie - Webi",
                  "3": "FRANCO - LLA Buyers 3%",
                  "4": "2025-03-02T15:32:53.977487",
                  "5": "facebook_ads",
                  "6": "2023"
                },
                {
                  "0": "2023-01-30T05:00:05+00:00",
                  "1": "23853194890520695",
                  "2": "Gagner sa vie - Webi",
                  "3": "Marketing Digital",
                  "4": "2025-03-02T15:32:53.977487",
                  "5": "facebook_ads",
                  "6": "2023"
                },
                {
                  "0": "2023-02-13T02:40:50+00:00",
                  "1": "23853367507560695",
                  "2": "Même Drake - Copy Salarié - Head Tout Savoir No button - Copie 2",
                  "3": "LAL Buyers 3% NEW",
                  "4": "2025-03-02T15:32:53.977487",
                  "5": "facebook_ads",
                  "6": "2023"
                },
                {
                  "0": "2023-02-13T02:40:52+00:00",
                  "1": "23853367507570695",
                  "2": "Projet Freelance Dark - Textes de vente - v2 - Copie 2",
                  "3": "LAL Buyers 3% NEW",
                  "4": "2025-03-02T15:32:53.977487",
                  "5": "facebook_ads",
                  "6": "2023"
                },
                {
                  "0": "2023-02-13T02:40:52+00:00",
                  "1": "23853367507580695",
                  "2": "Pas la lune - Petit Salarié",
                  "3": "LAL Buyers 3% NEW",
                  "4": "2025-03-02T15:32:53.977487",
                  "5": "facebook_ads",
                  "6": "2023"
                },
                {
                  "0": "2023-02-13T03:00:52+00:00",
                  "1": "23853367585020695",
                  "2": "Di Caprio Toast - Petit Salarié",
                  "3": "LAL Buyers 3% NEW",
                  "4": "2025-03-02T15:32:53.977487",
                  "5": "facebook_ads",
                  "6": "2023"
                },
                {
                  "0": "2023-02-13T03:01:25+00:00",
                  "1": "23853367643350695",
                  "2": "Di Caprio Toast - Petit Salarié",
                  "3": "CI Marketing Numérique - SCALE",
                  "4": "2025-03-02T15:32:53.977487",
                  "5": "facebook_ads",
                  "6": "2023"
                },
                {
                  "0": "2023-02-13T03:01:25+00:00",
                  "1": "23853367643360695",
                  "2": "Di Caprio Toast - Petit Salarié",
                  "3": "Broad 18-40 - sources - refresh",
                  "4": "2025-03-02T15:32:53.977487",
                  "5": "facebook_ads",
                  "6": "2023"
                },
                {
                  "0": "2023-02-16T14:51:35+00:00",
                  "1": "23853084840860305",
                  "2": "Copy #1 + Visuel #1",
                  "3": "W35+",
                  "4": "2025-03-02T15:32:53.977487",
                  "5": "facebook_ads",
                  "6": "2023"
                },
                {
                  "0": "2023-02-20T19:56:47+00:00",
                  "1": "23853128904540305",
                  "2": "Investissement rentable",
                  "3": "BROAD 25+ Investisseurs",
                  "4": "2025-03-02T15:32:53.977487",
                  "5": "facebook_ads",
                  "6": "2023"
                },
                {
                  "0": "2023-02-21T14:26:04+00:00",
                  "1": "23853156984470305",
                  "2": "100% automatique",
                  "3": "W25+ - 100% automatique",
                  "4": "2025-03-02T15:32:53.977487",
                  "5": "facebook_ads",
                  "6": "2023"
                },
                {
                  "0": "2023-02-21T20:19:58+00:00",
                  "1": "23853157760930305",
                  "2": "Moins d'1h",
                  "3": "W25+ - Moins d'1h",
                  "4": "2025-03-02T15:32:53.977487",
                  "5": "facebook_ads",
                  "6": "2023"
                },
                {
                  "0": "2023-03-01T15:32:49+00:00",
                  "1": "23853567277330695",
                  "2": "Texte de vente - Webi",
                  "3": "FRANCO - Broad 18-35",
                  "4": "2025-03-02T15:32:53.977487",
                  "5": "facebook_ads",
                  "6": "2023"
                },
                {
                  "0": "2023-03-01T15:32:49+00:00",
                  "1": "23853567554810695",
                  "2": "Gagner sa vie en écrivant",
                  "3": "FRANCO - Broad 18-35",
                  "4": "2025-03-02T15:32:53.977487",
                  "5": "facebook_ads",
                  "6": "2023"
                },
                {
                  "0": "2023-03-01T15:32:42+00:00",
                  "1": "23853567596520695",
                  "2": "1 compétence, 1 ordinateur, 1 client",
                  "3": "FRANCO - Broad 18-35",
                  "4": "2025-03-02T15:32:53.977487",
                  "5": "facebook_ads",
                  "6": "2023"
                },
                {
                  "0": "2023-03-01T15:32:42+00:00",
                  "1": "23853568675120695",
                  "2": "Mon projet 2023",
                  "3": "FRANCO - Broad 18-35",
                  "4": "2025-03-02T15:32:53.977487",
                  "5": "facebook_ads",
                  "6": "2023"
                },
                {
                  "0": "2023-03-01T15:32:42+00:00",
                  "1": "23853568731000695",
                  "2": "Gagner sa vie en écrivant",
                  "3": "FRANCO - Marketing Digital",
                  "4": "2025-03-02T15:32:53.977487",
                  "5": "facebook_ads",
                  "6": "2023"
                },
                {
                  "0": "2023-03-01T15:32:49+00:00",
                  "1": "23853568731010695",
                  "2": "Texte de vente - Webi",
                  "3": "FRANCO - Marketing Digital",
                  "4": "2025-03-02T15:32:53.977487",
                  "5": "facebook_ads",
                  "6": "2023"
                },
                {
                  "0": "2023-03-01T15:32:42+00:00",
                  "1": "23853568731030695",
                  "2": "Mon projet 2023",
                  "3": "FRANCO - Marketing Digital",
                  "4": "2025-03-02T15:32:53.977487",
                  "5": "facebook_ads",
                  "6": "2023"
                },
                {
                  "0": "2023-03-01T15:32:49+00:00",
                  "1": "23853568731040695",
                  "2": "1 compétence, 1 ordinateur, 1 client",
                  "3": "FRANCO - Marketing Digital",
                  "4": "2025-03-02T15:32:53.977487",
                  "5": "facebook_ads",
                  "6": "2023"
                },
                {
                  "0": "2023-03-01T15:33:04+00:00",
                  "1": "23853568731050695",
                  "2": "1 compétence, 1 ordinateur, 1 client",
                  "3": "FRANCO - LLA Buyers 3%",
                  "4": "2025-03-02T15:32:53.977487",
                  "5": "facebook_ads",
                  "6": "2023"
                },
                {
                  "0": "2023-03-01T15:33:04+00:00",
                  "1": "23853568731060695",
                  "2": "Mon projet 2023",
                  "3": "FRANCO - LLA Buyers 3%",
                  "4": "2025-03-02T15:32:53.977487",
                  "5": "facebook_ads",
                  "6": "2023"
                },
                {
                  "0": "2023-03-01T15:32:58+00:00",
                  "1": "23853568731080695",
                  "2": "Texte de vente - Webi",
                  "3": "FRANCO - LLA Buyers 3%",
                  "4": "2025-03-02T15:32:53.977487",
                  "5": "facebook_ads",
                  "6": "2023"
                },
                {
                  "0": "2023-03-01T15:32:58+00:00",
                  "1": "23853568731070695",
                  "2": "Gagner sa vie en écrivant",
                  "3": "FRANCO - LLA Buyers 3%",
                  "4": "2025-03-02T15:32:53.977487",
                  "5": "facebook_ads",
                  "6": "2023"
                },
                {
                  "0": "2023-03-04T10:55:20+00:00",
                  "1": "23853348486610305",
                  "2": "100% automatique",
                  "3": "35+ - 100% automatique Vids",
                  "4": "2025-03-02T15:32:53.977487",
                  "5": "facebook_ads",
                  "6": "2023"
                },
                {
                  "0": "2023-03-04T10:55:20+00:00",
                  "1": "23853348486630305",
                  "2": "Moins d'1h",
                  "3": "35+ - Moins d'1h Vids",
                  "4": "2025-03-02T15:32:53.977487",
                  "5": "facebook_ads",
                  "6": "2023"
                },
                {
                  "0": "2023-03-04T10:58:08+00:00",
                  "1": "23853348543620305",
                  "2": "Moins d'1h",
                  "3": "Investment 25+ - Moins d'1h",
                  "4": "2025-03-02T15:32:53.977487",
                  "5": "facebook_ads",
                  "6": "2023"
                },
                {
                  "0": "2023-03-04T10:58:16+00:00",
                  "1": "23853348543660305",
                  "2": "Moins d'1h",
                  "3": "Investment 35+ - Moins d'1h Vids",
                  "4": "2025-03-02T15:32:53.977487",
                  "5": "facebook_ads",
                  "6": "2023"
                },
                {
                  "0": "2023-03-04T10:58:08+00:00",
                  "1": "23853348543670305",
                  "2": "100% automatique",
                  "3": "Investment 35+ - 100% automatique Vids",
                  "4": "2025-03-02T15:32:53.977487",
                  "5": "facebook_ads",
                  "6": "2023"
                },
                {
                  "0": "2023-03-06T10:10:44+00:00",
                  "1": "23853374591270305",
                  "2": "Vid Hook #4 + Copy #1",
                  "3": "BROAD 45+",
                  "4": "2025-03-02T15:32:53.977487",
                  "5": "facebook_ads",
                  "6": "2023"
                },
                {
                  "0": "2023-03-06T10:15:28+00:00",
                  "1": "23853375003670305",
                  "2": "Vid Hook #4 + Copy #1 - Copy",
                  "3": "Passive Income 45+",
                  "4": "2025-03-02T15:32:53.977487",
                  "5": "facebook_ads",
                  "6": "2023"
                },
                {
                  "0": "2023-03-06T10:16:33+00:00",
                  "1": "23853375015740305",
                  "2": "Vid Hook #4 + Copy #1 - Copy",
                  "3": "Biz Op 45+",
                  "4": "2025-03-02T15:32:53.977487",
                  "5": "facebook_ads",
                  "6": "2023"
                },
                {
                  "0": "2023-03-25T18:59:35+00:00",
                  "1": "23853851836360695",
                  "2": "Take the risk",
                  "3": "FRANCO - MOOC - 27-54",
                  "4": "2025-03-02T15:32:53.977487",
                  "5": "facebook_ads",
                  "6": "2023"
                },
                {
                  "0": "2023-03-25T18:59:32+00:00",
                  "1": "23853854977310695",
                  "2": "Apprend à écrire des textes",
                  "3": "FRANCO - MOOC - 27-54",
                  "4": "2025-03-02T15:32:53.977487",
                  "5": "facebook_ads",
                  "6": "2023"
                },
                {
                  "0": "2023-03-25T18:59:32+00:00",
                  "1": "23853854992490695",
                  "2": "Se reconvertir & quitter",
                  "3": "FRANCO - MOOC - 27-54",
                  "4": "2025-03-02T15:32:53.977487",
                  "5": "facebook_ads",
                  "6": "2023"
                },
                {
                  "0": "2023-03-25T18:59:35+00:00",
                  "1": "23853855018550695",
                  "2": "Mini Voiture",
                  "3": "FRANCO - MOOC - 27-54",
                  "4": "2025-03-02T15:32:53.977487",
                  "5": "facebook_ads",
                  "6": "2023"
                },
                {
                  "0": "2023-03-25T18:59:26+00:00",
                  "1": "23853855064180695",
                  "2": "Apprend à écrire des textes",
                  "3": "FRANCO - Développement pro - 25-54",
                  "4": "2025-03-02T15:32:53.977487",
                  "5": "facebook_ads",
                  "6": "2023"
                },
                {
                  "0": "2023-03-25T18:59:22+00:00",
                  "1": "23853855064200695",
                  "2": "Mini Voiture",
                  "3": "FRANCO - Développement pro - 25-54",
                  "4": "2025-03-02T15:32:53.977487",
                  "5": "facebook_ads",
                  "6": "2023"
                },
                {
                  "0": "2023-03-25T18:59:22+00:00",
                  "1": "23853855064210695",
                  "2": "Se reconvertir & quitter",
                  "3": "FRANCO - Développement pro - 25-54",
                  "4": "2025-03-02T15:32:53.977487",
                  "5": "facebook_ads",
                  "6": "2023"
                },
                {
                  "0": "2023-03-25T18:59:26+00:00",
                  "1": "23853855064220695",
                  "2": "Take the risk",
                  "3": "FRANCO - Développement pro - 25-54",
                  "4": "2025-03-02T15:32:53.977487",
                  "5": "facebook_ads",
                  "6": "2023"
                },
                {
                  "0": "2023-03-25T18:59:32+00:00",
                  "1": "23853855107630695",
                  "2": "Mini Voiture",
                  "3": "FRANCO - Paris sportif - 25-54",
                  "4": "2025-03-02T15:32:53.977487",
                  "5": "facebook_ads",
                  "6": "2023"
                },
                {
                  "0": "2023-03-25T18:59:35+00:00",
                  "1": "23853855107640695",
                  "2": "Se reconvertir & quitter",
                  "3": "FRANCO - Paris sportif - 25-54",
                  "4": "2025-03-02T15:32:53.977487",
                  "5": "facebook_ads",
                  "6": "2023"
                },
                {
                  "0": "2023-03-25T18:59:35+00:00",
                  "1": "23853855107660695",
                  "2": "Take the risk",
                  "3": "FRANCO - Paris sportif - 25-54",
                  "4": "2025-03-02T15:32:53.977487",
                  "5": "facebook_ads",
                  "6": "2023"
                },
                {
                  "0": "2023-03-25T18:59:32+00:00",
                  "1": "23853855107670695",
                  "2": "Apprend à écrire des textes",
                  "3": "FRANCO - Paris sportif - 25-54",
                  "4": "2025-03-02T15:32:53.977487",
                  "5": "facebook_ads",
                  "6": "2023"
                },
                {
                  "0": "2023-03-25T18:59:22+00:00",
                  "1": "23853855127500695",
                  "2": "Mini Voiture",
                  "3": "FRANCO - Secteurs pro - 25-54",
                  "4": "2025-03-02T15:32:53.977487",
                  "5": "facebook_ads",
                  "6": "2023"
                },
                {
                  "0": "2023-03-25T18:59:26+00:00",
                  "1": "23853855127510695",
                  "2": "Apprend à écrire des textes",
                  "3": "FRANCO - Secteurs pro - 25-54",
                  "4": "2025-03-02T15:32:53.977487",
                  "5": "facebook_ads",
                  "6": "2023"
                },
                {
                  "0": "2023-10-09T13:07:03+00:00",
                  "1": "23862401629360695",
                  "2": "CR AvAp 1 HE Entourage",
                  "3": "FRANCE - Stratégies Marketing 25-45 - CR AvAp 1 BH Entourage",
                  "4": "2025-03-02T15:32:53.977487",
                  "5": "facebook_ads",
                  "6": "2023"
                },
                {
                  "0": "2023-10-13T16:49:27+00:00",
                  "1": "120200288370620696",
                  "2": "CR Comp profonde HE 2023",
                  "3": "FRANCE - Investissements Open - CR Comp Prof HE 2023",
                  "4": "2025-03-02T15:32:53.977487",
                  "5": "facebook_ads",
                  "6": "2023"
                },
                {
                  "0": "2023-10-13T16:40:28+00:00",
                  "1": "120200287989300696",
                  "2": "CR Papier BH Compétence",
                  "3": "FRANCE - Ecriture créative - Papier2",
                  "4": "2025-03-02T15:32:53.977487",
                  "5": "facebook_ads",
                  "6": "2023"
                },
                {
                  "0": "2023-10-13T16:49:29+00:00",
                  "1": "120200288076050696",
                  "2": "CR Comp profonde HE 2023",
                  "3": "ALLFR - Investissements Open - CR Comp Prof HE 2023",
                  "4": "2025-03-02T15:32:53.977487",
                  "5": "facebook_ads",
                  "6": "2023"
                },
                {
                  "0": "2023-10-13T16:49:27+00:00",
                  "1": "120200288245940696",
                  "2": "CR Comp profonde HE 2023",
                  "3": "FRANCE - Stratégies Marketing - CR Comp Prof HE 2023",
                  "4": "2025-03-02T15:32:53.977487",
                  "5": "facebook_ads",
                  "6": "2023"
                },
                {
                  "0": "2023-10-13T16:49:29+00:00",
                  "1": "120200288666310696",
                  "2": "CR AvAp 1 HE",
                  "3": "FRANCE - Broad - CR AvAp 1 HE 2023",
                  "4": "2025-03-02T15:32:53.977487",
                  "5": "facebook_ads",
                  "6": "2023"
                },
                {
                  "0": "2023-10-17T08:41:38+00:00",
                  "1": "120200564921770696",
                  "2": "CR AvAp 1 HE 2023",
                  "3": "ALLFR - Broad - CR AvAp 1 HE 2023",
                  "4": "2025-03-02T15:32:53.977487",
                  "5": "facebook_ads",
                  "6": "2023"
                },
                {
                  "0": "2023-10-20T09:42:26+00:00",
                  "1": "120200759416580696",
                  "2": "CR Tu aimes",
                  "3": "FRANCE - Broad - CR Tu aimes",
                  "4": "2025-03-02T15:32:53.977487",
                  "5": "facebook_ads",
                  "6": "2023"
                },
                {
                  "0": "2023-10-20T09:52:49+00:00",
                  "1": "120200760684870696",
                  "2": "CR Papier BH Compétence",
                  "3": "FRANCE 50% - Broad - Papier",
                  "4": "2025-03-02T15:32:53.977487",
                  "5": "facebook_ads",
                  "6": "2023"
                },
                {
                  "0": "2023-10-23T13:37:59+00:00",
                  "1": "120200915035980696",
                  "2": "CR videoplayback BH Catégories",
                  "3": "FRANCE - Stratégies Marketing - CR videoplayback",
                  "4": "2025-03-02T15:32:53.977487",
                  "5": "facebook_ads",
                  "6": "2023"
                },
                {
                  "0": "2023-10-23T13:38:02+00:00",
                  "1": "120200916024270696",
                  "2": "CR H4B1 BH Catégories",
                  "3": "FRANCE - Stratégies Marketing - CR H4B1",
                  "4": "2025-03-02T15:32:53.977487",
                  "5": "facebook_ads",
                  "6": "2023"
                },
                {
                  "0": "2023-10-23T13:37:59+00:00",
                  "1": "120200916044220696",
                  "2": "CR H4B1 BH Catégories",
                  "3": "FRANCE - Ecriture créative - CR H4B1 BH Catégories",
                  "4": "2025-03-02T15:32:53.977487",
                  "5": "facebook_ads",
                  "6": "2023"
                },
                {
                  "0": "2023-10-23T13:38:02+00:00",
                  "1": "120200916053910696",
                  "2": "CR videoplayback BH Catégories",
                  "3": "FRANCE - Ecriture créative - CR videoplayback BH Catégories",
                  "4": "2025-03-02T15:32:53.977487",
                  "5": "facebook_ads",
                  "6": "2023"
                },
                {
                  "0": "2023-10-26T15:57:19+00:00",
                  "1": "120201024092770696",
                  "2": "DCA Videos",
                  "3": "FRANCE - Ecriture - DCA Videos",
                  "4": "2025-03-02T15:32:53.977487",
                  "5": "facebook_ads",
                  "6": "2023"
                },
                {
                  "0": "2023-10-26T15:57:20+00:00",
                  "1": "120201024244930696",
                  "2": "DCA Videos",
                  "3": "FRANCE - Stratégies Marketing - DCA Videos",
                  "4": "2025-03-02T15:32:53.977487",
                  "5": "facebook_ads",
                  "6": "2023"
                },
                {
                  "0": "2023-10-30T16:28:19+00:00",
                  "1": "120201121562030696",
                  "2": "CR7 BH Bosseurs",
                  "3": "FRANCE - Secteurs pro 2 - CR7 BH Bosseurs",
                  "4": "2025-03-02T15:32:53.977487",
                  "5": "facebook_ads",
                  "6": "2023"
                },
                {
                  "0": "2023-10-30T16:35:53+00:00",
                  "1": "120201121852670696",
                  "2": "CR7 BH Bosseurs",
                  "3": "ALL FR - Secteurs pro - CR6 BH Bosseurs",
                  "4": "2025-03-02T15:32:53.977487",
                  "5": "facebook_ads",
                  "6": "2023"
                },
                {
                  "0": "2023-10-31T17:58:10+00:00",
                  "1": "120201154341880696",
                  "2": "SM_PubFemme_PDV-CTA",
                  "3": "FRANCE - Ecriture créative - CR Pub Femme",
                  "4": "2025-03-02T15:32:53.977487",
                  "5": "facebook_ads",
                  "6": "2023"
                },
                {
                  "0": "2023-11-02T09:20:25+00:00",
                  "1": "120201200199290696",
                  "2": "SM_PubFemme_PDV-Perks",
                  "3": "FRANCE - Ecriture créative - CR Pub Femme",
                  "4": "2025-03-02T15:32:53.977487",
                  "5": "facebook_ads",
                  "6": "2023"
                },
                {
                  "0": "2023-11-02T09:20:25+00:00",
                  "1": "120201200211180696",
                  "2": "SM_PubFemme_SocialProof",
                  "3": "FRANCE - Ecriture créative - CR Pub Femme",
                  "4": "2025-03-02T15:32:53.977487",
                  "5": "facebook_ads",
                  "6": "2023"
                },
                {
                  "0": "2023-11-04T20:25:27+00:00",
                  "1": "120201267372950696",
                  "2": "SM_PubFemme_PDV-Perks",
                  "3": "FRANCE - Ecriture créative - CR Pub Femme - PDV-Perks",
                  "4": "2025-03-02T15:32:53.977487",
                  "5": "facebook_ads",
                  "6": "2023"
                },
                {
                  "0": "2023-11-04T20:25:27+00:00",
                  "1": "120201267377170696",
                  "2": "SM_PubFemme_SocialProof",
                  "3": "FRANCE - Ecriture créative - CR Pub Femme - SocialProof",
                  "4": "2025-03-02T15:32:53.977487",
                  "5": "facebook_ads",
                  "6": "2023"
                },
                {
                  "0": "2023-11-04T20:25:36+00:00",
                  "1": "120201267397120696",
                  "2": "CR7 BH Catégories",
                  "3": "FRANCE - Stratégies Marketing - CR7 Email",
                  "4": "2025-03-02T15:32:53.977487",
                  "5": "facebook_ads",
                  "6": "2023"
                },
                {
                  "0": "2023-11-04T20:25:37+00:00",
                  "1": "120201267443750696",
                  "2": "CR7 BH Catégories",
                  "3": "FRANCE - Investissements - CR7 Email",
                  "4": "2025-03-02T15:32:53.977487",
                  "5": "facebook_ads",
                  "6": "2023"
                },
                {
                  "0": "2023-11-09T21:34:39+00:00",
                  "1": "120201460257660306",
                  "2": "#2 - Ceci est une pub",
                  "3": "Ad Agency 18+",
                  "4": "2025-03-02T15:32:53.977487",
                  "5": "facebook_ads",
                  "6": "2023"
                },
                {
                  "0": "2023-11-09T21:34:39+00:00",
                  "1": "120201460602870306",
                  "2": "#5 - La méthode QVL + branding",
                  "3": "Ad Agency 18+",
                  "4": "2025-03-02T15:32:53.977487",
                  "5": "facebook_ads",
                  "6": "2023"
                },
                {
                  "0": "2023-11-09T21:34:32+00:00",
                  "1": "120201460602880306",
                  "2": "#3 - Ceci est une pub - Copy",
                  "3": "Ad Agency 18+",
                  "4": "2025-03-02T15:32:53.977487",
                  "5": "facebook_ads",
                  "6": "2023"
                },
                {
                  "0": "2023-11-09T21:34:33+00:00",
                  "1": "120201460602890306",
                  "2": "#4 - La méthode QVL",
                  "3": "Ad Agency 18+",
                  "4": "2025-03-02T15:32:53.977487",
                  "5": "facebook_ads",
                  "6": "2023"
                },
                {
                  "0": "2023-11-09T21:44:44+00:00",
                  "1": "120201460771170306",
                  "2": "#2 - Ceci est une pub - PID 236370576125745",
                  "3": "Sales 18+",
                  "4": "2025-03-02T15:32:53.977487",
                  "5": "facebook_ads",
                  "6": "2023"
                },
                {
                  "0": "2023-11-09T21:44:51+00:00",
                  "1": "120201460771240306",
                  "2": "#4 - La méthode QVL",
                  "3": "Sales 18+",
                  "4": "2025-03-02T15:32:53.977487",
                  "5": "facebook_ads",
                  "6": "2023"
                },
                {
                  "0": "2023-11-09T21:44:45+00:00",
                  "1": "120201460771270306",
                  "2": "#3 - Ceci est une pub - Copy",
                  "3": "Sales 18+",
                  "4": "2025-03-02T15:32:53.977487",
                  "5": "facebook_ads",
                  "6": "2023"
                },
                {
                  "0": "2023-11-09T21:44:51+00:00",
                  "1": "120201460771290306",
                  "2": "#5 - La méthode QVL + branding",
                  "3": "Sales 18+",
                  "4": "2025-03-02T15:32:53.977487",
                  "5": "facebook_ads",
                  "6": "2023"
                },
                {
                  "0": "2023-11-09T21:44:51+00:00",
                  "1": "120201460956080306",
                  "2": "#5 - La méthode QVL + branding - Copy",
                  "3": "Money 18+",
                  "4": "2025-03-02T15:32:53.977487",
                  "5": "facebook_ads",
                  "6": "2023"
                },
                {
                  "0": "2023-11-09T21:44:51+00:00",
                  "1": "120201460956090306",
                  "2": "#4 - La méthode QVL - Copy",
                  "3": "Money 18+",
                  "4": "2025-03-02T15:32:53.977487",
                  "5": "facebook_ads",
                  "6": "2023"
                },
                {
                  "0": "2023-11-09T21:44:45+00:00",
                  "1": "120201460956100306",
                  "2": "#3 - Ceci est une pub - Copy 2",
                  "3": "Money 18+",
                  "4": "2025-03-02T15:32:53.977487",
                  "5": "facebook_ads",
                  "6": "2023"
                },
                {
                  "0": "2023-11-09T21:44:45+00:00",
                  "1": "120201460956110306",
                  "2": "#2 - Ceci est une pub - PID 236370576125745 - Copy",
                  "3": "Money 18+",
                  "4": "2025-03-02T15:32:53.977487",
                  "5": "facebook_ads",
                  "6": "2023"
                },
                {
                  "0": "2023-11-09T21:44:55+00:00",
                  "1": "120201460956120306",
                  "2": "#5 - La méthode QVL + branding - Copy",
                  "3": "SMM 18+",
                  "4": "2025-03-02T15:32:53.977487",
                  "5": "facebook_ads",
                  "6": "2023"
                },
                {
                  "0": "2023-11-09T21:44:58+00:00",
                  "1": "120201460956130306",
                  "2": "#4 - La méthode QVL - Copy",
                  "3": "SMM 18+",
                  "4": "2025-03-02T15:32:53.977487",
                  "5": "facebook_ads",
                  "6": "2023"
                },
                {
                  "0": "2023-11-09T21:44:58+00:00",
                  "1": "120201460956140306",
                  "2": "#3 - Ceci est une pub - Copy 2",
                  "3": "SMM 18+",
                  "4": "2025-03-02T15:32:53.977487",
                  "5": "facebook_ads",
                  "6": "2023"
                },
                {
                  "0": "2023-11-09T21:44:55+00:00",
                  "1": "120201460956150306",
                  "2": "#2 - Ceci est une pub - PID 236370576125745 - Copy",
                  "3": "SMM 18+",
                  "4": "2025-03-02T15:32:53.977487",
                  "5": "facebook_ads",
                  "6": "2023"
                },
                {
                  "0": "2023-11-10T08:34:22+00:00",
                  "1": "120201471611090306",
                  "2": "#2 - Ceci est une pub - PID 236370576125745",
                  "3": "BROAD 18+",
                  "4": "2025-03-02T15:32:53.977487",
                  "5": "facebook_ads",
                  "6": "2023"
                },
                {
                  "0": "2023-11-10T08:34:19+00:00",
                  "1": "120201471611110306",
                  "2": "#3 - Ceci est une pub - Copy",
                  "3": "BROAD 18+",
                  "4": "2025-03-02T15:32:53.977487",
                  "5": "facebook_ads",
                  "6": "2023"
                },
                {
                  "0": "2023-11-10T08:34:19+00:00",
                  "1": "120201471611120306",
                  "2": "#4 - La méthode QVL",
                  "3": "BROAD 18+",
                  "4": "2025-03-02T15:32:53.977487",
                  "5": "facebook_ads",
                  "6": "2023"
                },
                {
                  "0": "2023-11-10T08:34:22+00:00",
                  "1": "120201471611130306",
                  "2": "#5 - La méthode QVL + branding",
                  "3": "BROAD 18+",
                  "4": "2025-03-02T15:32:53.977487",
                  "5": "facebook_ads",
                  "6": "2023"
                },
                {
                  "0": "2023-11-09T14:42:06+00:00",
                  "1": "120201399880730696",
                  "2": "DCA Images",
                  "3": "FRANCE - Broad FB - DCA Images",
                  "4": "2025-03-02T15:32:53.977487",
                  "5": "facebook_ads",
                  "6": "2023"
                },
                {
                  "0": "2023-11-09T14:42:06+00:00",
                  "1": "120201400350340696",
                  "2": "DCA Images",
                  "3": "FRANCE - Secteurs pro wide FB - DCA Images",
                  "4": "2025-03-02T15:32:53.977487",
                  "5": "facebook_ads",
                  "6": "2023"
                },
                {
                  "0": "2023-11-09T14:45:39+00:00",
                  "1": "120201400557200696",
                  "2": "DCA Pub Femme",
                  "3": "FRANCE - Broad FB - DCA Pub Femme",
                  "4": "2025-03-02T15:32:53.977487",
                  "5": "facebook_ads",
                  "6": "2023"
                },
                {
                  "0": "2023-11-13T08:44:01+00:00",
                  "1": "120201427565060696",
                  "2": "CR Gagner sa vie",
                  "3": "FRANCE - Broad - CR Gagner sa vie - Wide",
                  "4": "2025-03-02T15:32:53.977487",
                  "5": "facebook_ads",
                  "6": "2023"
                },
                {
                  "0": "2023-11-13T08:43:51+00:00",
                  "1": "120201487786130696",
                  "2": "CR Gagner sa vie",
                  "3": "FRANCE - Broad - CR Gagner sa vie - Square",
                  "4": "2025-03-02T15:32:53.977487",
                  "5": "facebook_ads",
                  "6": "2023"
                },
                {
                  "0": "2023-11-18T07:51:43+00:00",
                  "1": "120201579574730696",
                  "2": "CR H4B1 BH Catégories",
                  "3": "FRANCE - Broad - CR H4B1 BH Catégories",
                  "4": "2025-03-02T15:32:53.977487",
                  "5": "facebook_ads",
                  "6": "2023"
                },
                {
                  "0": "2023-11-22T10:52:01+00:00",
                  "1": "120201934239550696",
                  "2": "Benoit plage HE Ne pas louper",
                  "3": "FRANCE - Ecriture créative - Benoit plage HE Ne pas louper",
                  "4": "2025-03-02T15:32:53.977487",
                  "5": "facebook_ads",
                  "6": "2023"
                },
                {
                  "0": "2023-11-27T06:40:44+00:00",
                  "1": "120202061452140696",
                  "2": "Papier agressif",
                  "3": "FRANCE - Secteurs pro ALL - Papier agressif",
                  "4": "2025-03-02T15:32:53.977487",
                  "5": "facebook_ads",
                  "6": "2023"
                },
                {
                  "0": "2023-11-29T08:53:03+00:00",
                  "1": "120202118290860696",
                  "2": "Avant apres Agressif",
                  "3": "FRANCE - Stratégies Marketing - Avant apres Agressif",
                  "4": "2025-03-02T15:32:53.977487",
                  "5": "facebook_ads",
                  "6": "2023"
                },
                {
                  "0": "2023-12-01T03:47:19+00:00",
                  "1": "120202169092490696",
                  "2": "Avant apres Agressif",
                  "3": "ALL FR - Secteurs pro wide - Avant apres Agressif",
                  "4": "2025-03-02T15:32:53.977487",
                  "5": "facebook_ads",
                  "6": "2023"
                },
                {
                  "0": "2023-12-01T05:15:29+00:00",
                  "1": "120202169907660696",
                  "2": "Papier AG SUB",
                  "3": "Viewers Application Page - Papier AG SUB",
                  "4": "2025-03-02T15:32:53.977487",
                  "5": "facebook_ads",
                  "6": "2023"
                },
                {
                  "0": "2023-12-01T04:53:13+00:00",
                  "1": "120202170261800696",
                  "2": "Papier agressif SUB",
                  "3": "FRANCE - Investissements Open 25 - 45 - Papier AG SUB",
                  "4": "2025-03-02T15:32:53.977487",
                  "5": "facebook_ads",
                  "6": "2023"
                },
                {
                  "0": "2023-12-01T05:15:29+00:00",
                  "1": "120202170557920696",
                  "2": "Authentique",
                  "3": "Viewers Application Page - Authentique",
                  "4": "2025-03-02T15:32:53.977487",
                  "5": "facebook_ads",
                  "6": "2023"
                },
                {
                  "0": "2023-12-04T09:35:41+00:00",
                  "1": "120202375453290696",
                  "2": "CR Jecris des emails",
                  "3": "FRANCE - Broad - CR J'écris des mails",
                  "4": "2025-03-02T15:32:53.977487",
                  "5": "facebook_ads",
                  "6": "2023"
                },
                {
                  "0": "2023-12-06T01:26:40+00:00",
                  "1": "120202515258620696",
                  "2": "CR Jecris des emails",
                  "3": "FRANCE - Ecriture créative - CR J'écris",
                  "4": "2025-03-02T15:32:53.977487",
                  "5": "facebook_ads",
                  "6": "2023"
                },
                {
                  "0": "2023-12-11T09:18:41+00:00",
                  "1": "120202994866920696",
                  "2": "CR Jecris des emails",
                  "3": "FRANCE - Ecriture créative",
                  "4": "2025-03-02T15:32:53.977487",
                  "5": "facebook_ads",
                  "6": "2023"
                },
                {
                  "0": "2023-12-11T09:18:39+00:00",
                  "1": "120202994884180696",
                  "2": "Papier agressif",
                  "3": "FRANCE - Ecriture créative",
                  "4": "2025-03-02T15:32:53.977487",
                  "5": "facebook_ads",
                  "6": "2023"
                },
                {
                  "0": "2023-12-11T09:18:41+00:00",
                  "1": "120202994897090696",
                  "2": "CR AvAp",
                  "3": "FRANCE - Ecriture créative",
                  "4": "2025-03-02T15:32:53.977487",
                  "5": "facebook_ads",
                  "6": "2023"
                },
                {
                  "0": "2023-12-11T09:18:39+00:00",
                  "1": "120202995214660696",
                  "2": "CR Jecris des emails - Copy 2",
                  "3": "FRANCE - Ecriture créative",
                  "4": "2025-03-02T15:32:53.977487",
                  "5": "facebook_ads",
                  "6": "2023"
                },
                {
                  "0": "2023-12-14T09:47:33+00:00",
                  "1": "120203268965850696",
                  "2": "CR Remplace salaire - white",
                  "3": "FRANCE - Stratégies Marketing - CR Remplace salaire",
                  "4": "2025-03-02T15:32:53.977487",
                  "5": "facebook_ads",
                  "6": "2023"
                },
                {
                  "0": "2023-12-14T09:47:33+00:00",
                  "1": "120203270632480696",
                  "2": "CR Remplace salaire - dark",
                  "3": "FRANCE - Stratégies Marketing - CR Remplace salaire",
                  "4": "2025-03-02T15:32:53.977487",
                  "5": "facebook_ads",
                  "6": "2023"
                },
                {
                  "0": "2023-12-14T09:48:24+00:00",
                  "1": "120203270777570696",
                  "2": "CR Remplace salaire - white",
                  "3": "FRANCE - Stratégies Marketing - CR Remplace salaire",
                  "4": "2025-03-02T15:32:53.977487",
                  "5": "facebook_ads",
                  "6": "2023"
                },
                {
                  "0": "2023-12-14T09:48:24+00:00",
                  "1": "120203270777590696",
                  "2": "CR Remplace salaire - dark",
                  "3": "FRANCE - Stratégies Marketing - CR Remplace salaire",
                  "4": "2025-03-02T15:32:53.977487",
                  "5": "facebook_ads",
                  "6": "2023"
                },
                {
                  "0": "2024-08-22T18:54:53+00:00",
                  "1": "120212197104420306",
                  "2": "Ad #1 - Votre cerveau vaut de l'or",
                  "3": "Digital Marketing M+35+",
                  "4": "2025-03-02T15:32:53.977487",
                  "5": "facebook_ads",
                  "6": "2024"
                },
                {
                  "0": "2024-08-29T13:48:54+00:00",
                  "1": "120212046528530696",
                  "2": "PUB 1 - VID 1 (AC 1)",
                  "3": "Leads 180 jours - Exclusion CompleteRegistration",
                  "4": "2025-03-02T15:32:53.977487",
                  "5": "facebook_ads",
                  "6": "2024"
                },
                {
                  "0": "2024-08-29T13:48:43+00:00",
                  "1": "120212046870980696",
                  "2": "PUB 2 - VID 2 (AC 1)",
                  "3": "Leads 180 jours - Exclusion CompleteRegistration",
                  "4": "2025-03-02T15:32:53.977487",
                  "5": "facebook_ads",
                  "6": "2024"
                },
                {
                  "0": "2024-09-09T09:52:27+00:00",
                  "1": "120212286485600696",
                  "2": "PUB 1 - VID 1 (AC 1)",
                  "3": "CompleteRegistration - 30 jours (AC)",
                  "4": "2025-03-02T15:32:53.977487",
                  "5": "facebook_ads",
                  "6": "2024"
                },
                {
                  "0": "2024-09-09T09:52:13+00:00",
                  "1": "120212286655610696",
                  "2": "PUB 2 - VID 2 (AC 1)",
                  "3": "CompleteRegistration - 30 jours (AC)",
                  "4": "2025-03-02T15:32:53.977487",
                  "5": "facebook_ads",
                  "6": "2024"
                },
                {
                  "0": "2024-09-25T14:42:34+00:00",
                  "1": "120212664275740696",
                  "2": "PUB 5 - VID 5 (AC 2)",
                  "3": "BROAD - H/F - 18+",
                  "4": "2025-03-02T15:32:53.977487",
                  "5": "facebook_ads",
                  "6": "2024"
                },
                {
                  "0": "2024-10-03T08:09:27+00:00",
                  "1": "120212827101480696",
                  "2": "PUB 2 - VID 2 (AC 2)",
                  "3": "CompleteRegistration - 10 jours (AC)",
                  "4": "2025-03-02T15:32:53.977487",
                  "5": "facebook_ads",
                  "6": "2024"
                },
                {
                  "0": "2024-10-03T08:08:59+00:00",
                  "1": "120212827101500696",
                  "2": "PUB 1 - VID 1 (AC 1)",
                  "3": "CompleteRegistration - 10 jours (AC)",
                  "4": "2025-03-02T15:32:53.977487",
                  "5": "facebook_ads",
                  "6": "2024"
                },
                {
                  "0": "2024-10-19T20:50:26+00:00",
                  "1": "120213190250710696",
                  "2": "Image 1",
                  "3": "CompleteRegistration - 5 jours (AC) - IMG - Copy",
                  "4": "2025-03-02T15:32:53.977487",
                  "5": "facebook_ads",
                  "6": "2024"
                },
                {
                  "0": "2024-10-19T20:50:09+00:00",
                  "1": "120213190250730696",
                  "2": "Image 2",
                  "3": "CompleteRegistration - 5 jours (AC) - IMG - Copy",
                  "4": "2025-03-02T15:32:53.977487",
                  "5": "facebook_ads",
                  "6": "2024"
                },
                {
                  "0": "2024-10-19T20:50:26+00:00",
                  "1": "120213190250740696",
                  "2": "Image 3",
                  "3": "CompleteRegistration - 5 jours (AC) - IMG - Copy",
                  "4": "2025-03-02T15:32:53.977487",
                  "5": "facebook_ads",
                  "6": "2024"
                },
                {
                  "0": "2024-10-20T04:53:24+00:00",
                  "1": "120213190597100696",
                  "2": "Dynamic Ads - RTG YT LEADS",
                  "3": "RTG LEAD - WTC - Booking Page (YT leads)",
                  "4": "2025-03-02T15:32:53.977487",
                  "5": "facebook_ads",
                  "6": "2024"
                },
                {
                  "0": "2024-10-20T06:26:52+00:00",
                  "1": "120213194695810696",
                  "2": "Balade montagne",
                  "3": "CONV LEAD - VSL FB - Broad 20-55",
                  "4": "2025-03-02T15:32:53.977487",
                  "5": "facebook_ads",
                  "6": "2024"
                },
                {
                  "0": "2024-10-20T06:26:52+00:00",
                  "1": "120213194746960696",
                  "2": "Bon salaire",
                  "3": "CONV LEAD - VSL FB - Broad 20-55 bon salaire",
                  "4": "2025-03-02T15:32:53.977487",
                  "5": "facebook_ads",
                  "6": "2024"
                },
                {
                  "0": "2024-10-20T06:26:52+00:00",
                  "1": "120213194747000696",
                  "2": "Où tu veux sur terre",
                  "3": "CONV LEAD - VSL FB - Broad 20-55",
                  "4": "2025-03-02T15:32:53.977487",
                  "5": "facebook_ads",
                  "6": "2024"
                },
                {
                  "0": "2024-10-20T06:26:52+00:00",
                  "1": "120213194747040696",
                  "2": "Employé de bureau",
                  "3": "CONV LEAD - VSL FB - Broad 20-55",
                  "4": "2025-03-02T15:32:53.977487",
                  "5": "facebook_ads",
                  "6": "2024"
                },
                {
                  "0": "2024-10-20T06:26:52+00:00",
                  "1": "120213194747060696",
                  "2": "Application mobile",
                  "3": "CONV LEAD - VSL FB - Broad 20-55",
                  "4": "2025-03-02T15:32:53.977487",
                  "5": "facebook_ads",
                  "6": "2024"
                },
                {
                  "0": "2024-10-20T14:11:56+00:00",
                  "1": "120213199487820696",
                  "2": "femme t'aime écrire",
                  "3": "CONV LEAD - VSL FB - Broad 20-55 - (femme t'aimes écrire)",
                  "4": "2025-03-02T15:32:53.977487",
                  "5": "facebook_ads",
                  "6": "2024"
                },
                {
                  "0": "2024-10-22T06:39:56+00:00",
                  "1": "120213242185720696",
                  "2": "femme t'aime écrire",
                  "3": "CONV LEAD - VSL FB - Broad 20-55 - (femme t'aimes écrire)",
                  "4": "2025-03-02T15:32:53.977487",
                  "5": "facebook_ads",
                  "6": "2024"
                },
                {
                  "0": "2024-11-07T21:25:44+00:00",
                  "1": "120213986484790306",
                  "2": "Ad #1 - Votre cerveau vaut de l'or",
                  "3": "BROAD 30-44",
                  "4": "2025-03-02T15:32:53.977487",
                  "5": "facebook_ads",
                  "6": "2024"
                },
                {
                  "0": "2024-11-07T21:31:36+00:00",
                  "1": "120213986653640306",
                  "2": "Ad #1 - Votre cerveau vaut de l'or",
                  "3": "Science 30-35",
                  "4": "2025-03-02T15:32:53.977487",
                  "5": "facebook_ads",
                  "6": "2024"
                },
                {
                  "0": "2024-11-07T21:32:24+00:00",
                  "1": "120213986664150306",
                  "2": "Ad #1 - Votre cerveau vaut de l'or",
                  "3": "Advertising 30-44",
                  "4": "2025-03-02T15:32:53.977487",
                  "5": "facebook_ads",
                  "6": "2024"
                },
                {
                  "0": "2024-11-20T20:31:58+00:00",
                  "1": "120214315585170306",
                  "2": "Img #3",
                  "3": "BROAD M30+ #3",
                  "4": "2025-03-02T15:32:53.977487",
                  "5": "facebook_ads",
                  "6": "2024"
                },
                {
                  "0": "2024-11-20T20:31:58+00:00",
                  "1": "120214315593420306",
                  "2": "Img #2",
                  "3": "BROAD M30+ - #2",
                  "4": "2025-03-02T15:32:53.977487",
                  "5": "facebook_ads",
                  "6": "2024"
                },
                {
                  "0": "2024-11-20T20:31:58+00:00",
                  "1": "120214315593400306",
                  "2": "Img #1",
                  "3": "BROAD M30+ - #1",
                  "4": "2025-03-02T15:32:53.977487",
                  "5": "facebook_ads",
                  "6": "2024"
                },
                {
                  "0": "2024-11-22T11:10:08+00:00",
                  "1": "120214357130050306",
                  "2": "Ad #1 - Votre cerveau vaut de l'or",
                  "3": "Ingénieurie 30-35",
                  "4": "2025-03-02T15:32:53.977487",
                  "5": "facebook_ads",
                  "6": "2024"
                },
                {
                  "0": "2024-12-16T17:07:09+00:00",
                  "1": "120214945623080306",
                  "2": "#1 - Votre Entreprise Saigne",
                  "3": "Entrepreneuriat M45+",
                  "4": "2025-03-02T15:32:53.977487",
                  "5": "facebook_ads",
                  "6": "2024"
                },
                {
                  "0": "2024-12-16T17:07:09+00:00",
                  "1": "120214947286240306",
                  "2": "#2 - Argent sur la table",
                  "3": "Entrepreneuriat M45+",
                  "4": "2025-03-02T15:32:53.977487",
                  "5": "facebook_ads",
                  "6": "2024"
                },
                {
                  "0": "2024-12-16T17:07:09+00:00",
                  "1": "120214947945710306",
                  "2": "#3 - Concurrent",
                  "3": "Entrepreneuriat M45+",
                  "4": "2025-03-02T15:32:53.977487",
                  "5": "facebook_ads",
                  "6": "2024"
                },
                {
                  "0": "2024-12-16T17:07:09+00:00",
                  "1": "120214948670780306",
                  "2": "#2 - Argent sur la table",
                  "3": "BROAD M45+",
                  "4": "2025-03-02T15:32:53.977487",
                  "5": "facebook_ads",
                  "6": "2024"
                },
                {
                  "0": "2024-12-16T17:07:09+00:00",
                  "1": "120214948670790306",
                  "2": "#1 - Votre Entreprise Saigne",
                  "3": "BROAD M45+",
                  "4": "2025-03-02T15:32:53.977487",
                  "5": "facebook_ads",
                  "6": "2024"
                },
                {
                  "0": "2024-12-16T17:07:09+00:00",
                  "1": "120214948670800306",
                  "2": "#3 - Concurrent",
                  "3": "BROAD M45+",
                  "4": "2025-03-02T15:32:53.977487",
                  "5": "facebook_ads",
                  "6": "2024"
                },
                {
                  "0": "2024-12-16T17:07:09+00:00",
                  "1": "120214948670810306",
                  "2": "#2 - Argent sur la table",
                  "3": "Business M45+",
                  "4": "2025-03-02T15:32:53.977487",
                  "5": "facebook_ads",
                  "6": "2024"
                },
                {
                  "0": "2024-12-16T17:07:09+00:00",
                  "1": "120214948670820306",
                  "2": "#3 - Concurrent",
                  "3": "Business M45+",
                  "4": "2025-03-02T15:32:53.977487",
                  "5": "facebook_ads",
                  "6": "2024"
                },
                {
                  "0": "2024-12-16T17:07:09+00:00",
                  "1": "120214948670830306",
                  "2": "#1 - Votre Entreprise Saigne",
                  "3": "Business M45+",
                  "4": "2025-03-02T15:32:53.977487",
                  "5": "facebook_ads",
                  "6": "2024"
                },
                {
                  "0": "2024-12-16T17:08:54+00:00",
                  "1": "120214948724930306",
                  "2": "#2 - Argent sur la table",
                  "3": "Science M45+",
                  "4": "2025-03-02T15:32:53.977487",
                  "5": "facebook_ads",
                  "6": "2024"
                },
                {
                  "0": "2024-12-16T17:08:54+00:00",
                  "1": "120214948724940306",
                  "2": "#3 - Concurrent",
                  "3": "Science M45+",
                  "4": "2025-03-02T15:32:53.977487",
                  "5": "facebook_ads",
                  "6": "2024"
                },
                {
                  "0": "2024-12-16T17:08:54+00:00",
                  "1": "120214948724950306",
                  "2": "#1 - Votre Entreprise Saigne",
                  "3": "Science M45+",
                  "4": "2025-03-02T15:32:53.977487",
                  "5": "facebook_ads",
                  "6": "2024"
                },
                {
                  "0": "2024-12-22T14:09:03+00:00",
                  "1": "120215123763270306",
                  "2": "#1 - Cerveau en or",
                  "3": "BROAD 30-39 - Cerveau or",
                  "4": "2025-03-02T15:32:53.977487",
                  "5": "facebook_ads",
                  "6": "2024"
                },
                {
                  "0": "2024-12-22T14:13:45+00:00",
                  "1": "120215126868030306",
                  "2": "#1 - Cerveau en or",
                  "3": "Mathématiques 30-39",
                  "4": "2025-03-02T15:32:53.977487",
                  "5": "facebook_ads",
                  "6": "2024"
                },
                {
                  "0": "2024-12-22T14:13:45+00:00",
                  "1": "120215126868060306",
                  "2": "#3 - Diagramme de Venn",
                  "3": "Mathématiques 30-39",
                  "4": "2025-03-02T15:32:53.977487",
                  "5": "facebook_ads",
                  "6": "2024"
                },
                {
                  "0": "2024-12-22T14:13:45+00:00",
                  "1": "120215127214750306",
                  "2": "#1 - Cerveau en or",
                  "3": "Ingénierie 30-39",
                  "4": "2025-03-02T15:32:53.977487",
                  "5": "facebook_ads",
                  "6": "2024"
                },
                {
                  "0": "2024-12-22T14:13:45+00:00",
                  "1": "120215127214770306",
                  "2": "#3 - Diagramme de Venn",
                  "3": "Ingénierie 30-39",
                  "4": "2025-03-02T15:32:53.977487",
                  "5": "facebook_ads",
                  "6": "2024"
                },
                {
                  "0": "2024-12-22T14:13:45+00:00",
                  "1": "120215127229450306",
                  "2": "#1 - Cerveau en or",
                  "3": "Entrepreneuriat 30-39",
                  "4": "2025-03-02T15:32:53.977487",
                  "5": "facebook_ads",
                  "6": "2024"
                },
                {
                  "0": "2024-12-22T14:13:45+00:00",
                  "1": "120215127229480306",
                  "2": "#3 - Diagramme de Venn",
                  "3": "Entrepreneuriat 30-39",
                  "4": "2025-03-02T15:32:53.977487",
                  "5": "facebook_ads",
                  "6": "2024"
                },
                {
                  "0": "2024-12-22T14:14:30+00:00",
                  "1": "120215127249810306",
                  "2": "#1 - Cerveau en or",
                  "3": "Psychologie 30-39",
                  "4": "2025-03-02T15:32:53.977487",
                  "5": "facebook_ads",
                  "6": "2024"
                },
                {
                  "0": "2024-12-22T15:49:49+00:00",
                  "1": "120215129029350306",
                  "2": "#2 - Courbe",
                  "3": "BROAD 30-39 - Courbe",
                  "4": "2025-03-02T15:32:53.977487",
                  "5": "facebook_ads",
                  "6": "2024"
                },
                {
                  "0": "2024-12-22T16:46:39+00:00",
                  "1": "120215130444740306",
                  "2": "Old Ad",
                  "3": "BROAD 30-44 - OLD",
                  "4": "2025-03-02T15:32:53.977487",
                  "5": "facebook_ads",
                  "6": "2024"
                },
                {
                  "0": "2024-12-22T16:48:04+00:00",
                  "1": "120215130481750306",
                  "2": "#3 - Diagramme de Venn - Copie",
                  "3": "BROAD 30-39 - Diagramme",
                  "4": "2025-03-02T15:32:53.977487",
                  "5": "facebook_ads",
                  "6": "2024"
                },
                {
                  "0": "2024-12-23T16:44:42+00:00",
                  "1": "120214851127530696",
                  "2": "Dynamic Ads - RTG YT LEADS",
                  "3": "RTG LEAD - WTC - Booking Page (YT leads)",
                  "4": "2025-03-02T15:32:53.977487",
                  "5": "facebook_ads",
                  "6": "2024"
                },
                {
                  "0": "2024-12-30T18:09:13+00:00",
                  "1": "120215045193840696",
                  "2": "Dynamic Ads - RTG YT LEADS",
                  "3": "RTG LEAD Downsell - CF",
                  "4": "2025-03-02T15:32:53.977487",
                  "5": "facebook_ads",
                  "6": "2024"
                },
                {
                  "0": "2025-01-11T21:13:56+00:00",
                  "1": "120215366508000696",
                  "2": "PUB 2 - VID 2 (AC 2) - Copy",
                  "3": "CompleteRegistration - 10 jours (AC)",
                  "4": "2025-03-02T15:32:53.977487",
                  "5": "facebook_ads",
                  "6": "2025"
                },
                {
                  "0": "2025-01-12T05:17:40+00:00",
                  "1": "120215369390970696",
                  "2": "PUB 2 - VID 2 (AC 2) - Copy 2",
                  "3": "CompleteRegistration - 10 jours (AC)",
                  "4": "2025-03-02T15:32:53.977487",
                  "5": "facebook_ads",
                  "6": "2025"
                },
                {
                  "0": "2025-01-12T05:21:33+00:00",
                  "1": "120215369815120696",
                  "2": "PUB 2 - VID 2 (AC 2) - Copy 3",
                  "3": "CompleteRegistration - 10 jours (AC)",
                  "4": "2025-03-02T15:32:53.977487",
                  "5": "facebook_ads",
                  "6": "2025"
                },
                {
                  "0": "2025-01-20T15:09:42+00:00",
                  "1": "120215609852440696",
                  "2": "#1 - Medecin",
                  "3": "BROAD 28-40 - Medecin",
                  "4": "2025-03-02T15:32:53.977487",
                  "5": "facebook_ads",
                  "6": "2025"
                },
                {
                  "0": "2025-01-20T15:09:42+00:00",
                  "1": "120215616905890696",
                  "2": "#2 - Facture à payer",
                  "3": "BROAD 28-40 - Facture à payer",
                  "4": "2025-03-02T15:32:53.977487",
                  "5": "facebook_ads",
                  "6": "2025"
                },
                {
                  "0": "2025-01-20T15:09:42+00:00",
                  "1": "120215617111710696",
                  "2": "#3 - Espagne",
                  "3": "BROAD 28-40 - Espagne",
                  "4": "2025-03-02T15:32:53.977487",
                  "5": "facebook_ads",
                  "6": "2025"
                },
                {
                  "0": "2025-01-20T15:09:42+00:00",
                  "1": "120215617383710696",
                  "2": "#4 - Risque",
                  "3": "BROAD 28-40 - Risque",
                  "4": "2025-03-02T15:32:53.977487",
                  "5": "facebook_ads",
                  "6": "2025"
                },
                {
                  "0": "2025-01-20T15:09:42+00:00",
                  "1": "120215617514010696",
                  "2": "#5 - 8.11€",
                  "3": "BROAD 28-40 - 8.11 euros",
                  "4": "2025-03-02T15:32:53.977487",
                  "5": "facebook_ads",
                  "6": "2025"
                },
                {
                  "0": "2025-01-20T15:09:42+00:00",
                  "1": "120215617568410696",
                  "2": "#5 - 8.11€",
                  "3": "Entrepreneuriat 28-40 - 8.11 euros",
                  "4": "2025-03-02T15:32:53.977487",
                  "5": "facebook_ads",
                  "6": "2025"
                },
                {
                  "0": "2025-01-20T15:09:42+00:00",
                  "1": "120215617568420696",
                  "2": "#3 - Espagne",
                  "3": "Entrepreneuriat 28-40 - Espagne",
                  "4": "2025-03-02T15:32:53.977487",
                  "5": "facebook_ads",
                  "6": "2025"
                },
                {
                  "0": "2025-01-20T15:09:42+00:00",
                  "1": "120215617568470696",
                  "2": "#2 - Facture à payer",
                  "3": "Entrepreneuriat 28-40 - Facture à payer",
                  "4": "2025-03-02T15:32:53.977487",
                  "5": "facebook_ads",
                  "6": "2025"
                },
                {
                  "0": "2025-01-20T15:09:42+00:00",
                  "1": "120215617568490696",
                  "2": "#4 - Risque",
                  "3": "Entrepreneuriat 28-40 - Risque",
                  "4": "2025-03-02T15:32:53.977487",
                  "5": "facebook_ads",
                  "6": "2025"
                },
                {
                  "0": "2025-01-20T15:09:42+00:00",
                  "1": "120215617568500696",
                  "2": "#1 - Medecin",
                  "3": "Entrepreneuriat 28-40 - Medecin",
                  "4": "2025-03-02T15:32:53.977487",
                  "5": "facebook_ads",
                  "6": "2025"
                },
                {
                  "0": "2025-01-20T15:09:42+00:00",
                  "1": "120215617576980696",
                  "2": "#2 - Facture à payer",
                  "3": "Business 28-40 - Facture à payer",
                  "4": "2025-03-02T15:32:53.977487",
                  "5": "facebook_ads",
                  "6": "2025"
                },
                {
                  "0": "2025-01-20T15:09:42+00:00",
                  "1": "120215617576990696",
                  "2": "#1 - Medecin",
                  "3": "Business 28-40 - Medecin",
                  "4": "2025-03-02T15:32:53.977487",
                  "5": "facebook_ads",
                  "6": "2025"
                },
                {
                  "0": "2025-01-20T15:09:42+00:00",
                  "1": "120215617577020696",
                  "2": "#4 - Risque",
                  "3": "Business 28-40 - Risque",
                  "4": "2025-03-02T15:32:53.977487",
                  "5": "facebook_ads",
                  "6": "2025"
                },
                {
                  "0": "2025-01-20T15:09:42+00:00",
                  "1": "120215617577050696",
                  "2": "#3 - Espagne",
                  "3": "Business 28-40 - Espagne",
                  "4": "2025-03-02T15:32:53.977487",
                  "5": "facebook_ads",
                  "6": "2025"
                },
                {
                  "0": "2025-01-20T15:09:42+00:00",
                  "1": "120215617577060696",
                  "2": "#5 - 8.11€",
                  "3": "Business 28-40 - 8.11 euros",
                  "4": "2025-03-02T15:32:53.977487",
                  "5": "facebook_ads",
                  "6": "2025"
                },
                {
                  "0": "2025-01-20T15:28:17+00:00",
                  "1": "120215618617090696",
                  "2": "#1 - Medecin",
                  "3": "LLA 5% C 28-40 - Medecin",
                  "4": "2025-03-02T15:32:53.977487",
                  "5": "facebook_ads",
                  "6": "2025"
                },
                {
                  "0": "2025-01-20T15:28:17+00:00",
                  "1": "120215618617120696",
                  "2": "#5 - 8.11€",
                  "3": "LLA 5% C 28-40 - 8.11 euros",
                  "4": "2025-03-02T15:32:53.977487",
                  "5": "facebook_ads",
                  "6": "2025"
                },
                {
                  "0": "2025-01-20T15:28:17+00:00",
                  "1": "120215618617130696",
                  "2": "#2 - Facture à payer",
                  "3": "LLA 5% C 28-40 - Facture à payer",
                  "4": "2025-03-02T15:32:53.977487",
                  "5": "facebook_ads",
                  "6": "2025"
                },
                {
                  "0": "2025-01-20T15:28:17+00:00",
                  "1": "120215618617160696",
                  "2": "#4 - Risque",
                  "3": "LLA 5% C 28-40 - Risque",
                  "4": "2025-03-02T15:32:53.977487",
                  "5": "facebook_ads",
                  "6": "2025"
                },
                {
                  "0": "2025-01-20T15:28:17+00:00",
                  "1": "120215618617170696",
                  "2": "#3 - Espagne",
                  "3": "LLA 5% C 28-40 - Espagne",
                  "4": "2025-03-02T15:32:53.977487",
                  "5": "facebook_ads",
                  "6": "2025"
                },
                {
                  "0": "2025-01-21T20:20:43+00:00",
                  "1": "120215670088240696",
                  "2": "#1 - l'IA",
                  "3": "Business 28-40 - IA",
                  "4": "2025-03-02T15:32:53.977487",
                  "5": "facebook_ads",
                  "6": "2025"
                },
                {
                  "0": "2025-01-21T20:20:43+00:00",
                  "1": "120215670199490696",
                  "2": "#1 - l'IA - Copie",
                  "3": "Entrepreneuriat 28-40 - IA",
                  "4": "2025-03-02T15:32:53.977487",
                  "5": "facebook_ads",
                  "6": "2025"
                },
                {
                  "0": "2025-01-21T20:20:43+00:00",
                  "1": "120215670199500696",
                  "2": "#1 - l'IA - Copie",
                  "3": "BROAD 28-40 - IA",
                  "4": "2025-03-02T15:32:53.977487",
                  "5": "facebook_ads",
                  "6": "2025"
                },
                {
                  "0": "2025-01-21T20:20:43+00:00",
                  "1": "120215670199530696",
                  "2": "#1 - l'IA - Copie",
                  "3": "LLA 5% C 28-40 - IA",
                  "4": "2025-03-02T15:32:53.977487",
                  "5": "facebook_ads",
                  "6": "2025"
                },
                {
                  "0": "2025-01-21T20:34:29+00:00",
                  "1": "120215670433470696",
                  "2": "#2 - Reconversion / Passer de ça",
                  "3": "Business 28-40 - Reconversion",
                  "4": "2025-03-02T15:32:53.977487",
                  "5": "facebook_ads",
                  "6": "2025"
                },
                {
                  "0": "2025-01-21T20:34:29+00:00",
                  "1": "120215670546310696",
                  "2": "#2 - Reconversion / Passer de ça - Copie",
                  "3": "LLA 5% 28-40 - Reconversion",
                  "4": "2025-03-02T15:32:53.977487",
                  "5": "facebook_ads",
                  "6": "2025"
                },
                {
                  "0": "2025-01-21T20:34:29+00:00",
                  "1": "120215670546320696",
                  "2": "#2 - Reconversion / Passer de ça - Copie",
                  "3": "BROAD 28-40 - Reconversion",
                  "4": "2025-03-02T15:32:53.977487",
                  "5": "facebook_ads",
                  "6": "2025"
                },
                {
                  "0": "2025-01-21T20:34:29+00:00",
                  "1": "120215670546350696",
                  "2": "#2 - Reconversion / Passer de ça - Copie",
                  "3": "Entrepreneuriat 28-40 - Reconversion",
                  "4": "2025-03-02T15:32:53.977487",
                  "5": "facebook_ads",
                  "6": "2025"
                },
                {
                  "0": "2025-01-21T20:41:03+00:00",
                  "1": "120215670587890696",
                  "2": "#3 - Écriture",
                  "3": "Entrepreneuriat 28-40 - Écriture",
                  "4": "2025-03-02T15:32:53.977487",
                  "5": "facebook_ads",
                  "6": "2025"
                },
                {
                  "0": "2025-01-21T20:41:03+00:00",
                  "1": "120215670698090696",
                  "2": "#3 - Écriture - Copie",
                  "3": "Business 28-40 - Écriture",
                  "4": "2025-03-02T15:32:53.977487",
                  "5": "facebook_ads",
                  "6": "2025"
                },
                {
                  "0": "2025-01-21T20:41:03+00:00",
                  "1": "120215670698110696",
                  "2": "#3 - Écriture - Copie",
                  "3": "LLA 5% 28-40 - Écriture",
                  "4": "2025-03-02T15:32:53.977487",
                  "5": "facebook_ads",
                  "6": "2025"
                },
                {
                  "0": "2025-01-21T20:41:03+00:00",
                  "1": "120215670698120696",
                  "2": "#3 - Écriture - Copie",
                  "3": "BROAD 28-40 - Écriture",
                  "4": "2025-03-02T15:32:53.977487",
                  "5": "facebook_ads",
                  "6": "2025"
                },
                {
                  "0": "2025-01-22T09:48:13+00:00",
                  "1": "120215688744370696",
                  "2": "#1 - Medecin",
                  "3": "BROAD 28-40 - Medecin #2",
                  "4": "2025-03-02T15:32:53.977487",
                  "5": "facebook_ads",
                  "6": "2025"
                },
                {
                  "0": "2025-01-22T10:16:44+00:00",
                  "1": "120215691009360696",
                  "2": "#1 - l'IA - Copie",
                  "3": "LLA 5% C 28-40 - IA #2",
                  "4": "2025-03-02T15:32:53.977487",
                  "5": "facebook_ads",
                  "6": "2025"
                },
                {
                  "0": "2025-01-22T16:00:25+00:00",
                  "1": "120215698975440696",
                  "2": "#3 - Espagne",
                  "3": "Entrepreneuriat 28-40 - Espagne #2",
                  "4": "2025-03-02T15:32:53.977487",
                  "5": "facebook_ads",
                  "6": "2025"
                },
                {
                  "0": "2025-01-24T15:17:26+00:00",
                  "1": "120215791578270696",
                  "2": "#3 - Espagne",
                  "3": "Entrepreneuriat 28-40 - Espagne #3",
                  "4": "2025-03-02T15:32:53.977487",
                  "5": "facebook_ads",
                  "6": "2025"
                },
                {
                  "0": "2025-01-26T09:42:10+00:00",
                  "1": "120215827856830696",
                  "2": "#3 - Espagne",
                  "3": "LLA 5% C 25-40 - 3W",
                  "4": "2025-03-02T15:32:53.977487",
                  "5": "facebook_ads",
                  "6": "2025"
                },
                {
                  "0": "2025-01-26T09:42:10+00:00",
                  "1": "120215827873160696",
                  "2": "#1 - Medecin - Copie",
                  "3": "LLA 5% C 25-40 - 3W",
                  "4": "2025-03-02T15:32:53.977487",
                  "5": "facebook_ads",
                  "6": "2025"
                },
                {
                  "0": "2025-01-26T09:42:10+00:00",
                  "1": "120215827881970696",
                  "2": "#1 - l'IA - Copie 2",
                  "3": "LLA 5% C 25-40 - 3W",
                  "4": "2025-03-02T15:32:53.977487",
                  "5": "facebook_ads",
                  "6": "2025"
                },
                {
                  "0": "2025-01-26T09:42:10+00:00",
                  "1": "120215859959500696",
                  "2": "#1 - Medecin - Copie",
                  "3": "Entrepreneuriat 25-40 - 3W",
                  "4": "2025-03-02T15:32:53.977487",
                  "5": "facebook_ads",
                  "6": "2025"
                },
                {
                  "0": "2025-01-26T09:42:10+00:00",
                  "1": "120215859959510696",
                  "2": "#3 - Espagne",
                  "3": "Entrepreneuriat 25-40 - 3W",
                  "4": "2025-03-02T15:32:53.977487",
                  "5": "facebook_ads",
                  "6": "2025"
                },
                {
                  "0": "2025-01-26T09:42:10+00:00",
                  "1": "120215859959520696",
                  "2": "#3 - Espagne",
                  "3": "BROAD C 25-40 - 3W",
                  "4": "2025-03-02T15:32:53.977487",
                  "5": "facebook_ads",
                  "6": "2025"
                },
                {
                  "0": "2025-01-26T09:42:10+00:00",
                  "1": "120215859959550696",
                  "2": "#1 - l'IA - Copie 2",
                  "3": "Entrepreneuriat 25-40 - 3W",
                  "4": "2025-03-02T15:32:53.977487",
                  "5": "facebook_ads",
                  "6": "2025"
                },
                {
                  "0": "2025-01-26T09:42:10+00:00",
                  "1": "120215859959560696",
                  "2": "#1 - l'IA - Copie 2",
                  "3": "BROAD C 25-40 - 3W",
                  "4": "2025-03-02T15:32:53.977487",
                  "5": "facebook_ads",
                  "6": "2025"
                },
                {
                  "0": "2024-01-09T21:05:23+00:00",
                  "1": "120204726201540306",
                  "2": "Ad #2 - ChatGPT",
                  "3": "BROAD M30+",
                  "4": "2025-03-02T15:32:53.977487",
                  "5": "facebook_ads",
                  "6": "2024"
                },
                {
                  "0": "2024-01-09T21:05:23+00:00",
                  "1": "120204726201550306",
                  "2": "Ad #3 - Marges Faibles / Fortes",
                  "3": "BROAD M30+",
                  "4": "2025-03-02T15:32:53.977487",
                  "5": "facebook_ads",
                  "6": "2024"
                },
                {
                  "0": "2024-01-09T21:09:06+00:00",
                  "1": "120204726786340306",
                  "2": "Ad #3 - Marges Faibles / Fortes PID",
                  "3": "Comptabilité M30+",
                  "4": "2025-03-02T15:32:53.977487",
                  "5": "facebook_ads",
                  "6": "2024"
                },
                {
                  "0": "2024-01-09T21:09:37+00:00",
                  "1": "120204726831530306",
                  "2": "Ad #2 - ChatGPT PID",
                  "3": "Business M30+",
                  "4": "2025-03-02T15:32:53.977487",
                  "5": "facebook_ads",
                  "6": "2024"
                },
                {
                  "0": "2024-01-09T21:09:34+00:00",
                  "1": "120204726831550306",
                  "2": "Ad #1 - Julien, expert comptable PID",
                  "3": "Business M30+",
                  "4": "2025-03-02T15:32:53.977487",
                  "5": "facebook_ads",
                  "6": "2024"
                },
                {
                  "0": "2024-01-09T21:09:34+00:00",
                  "1": "120204726831560306",
                  "2": "Ad #3 - Marges Faibles / Fortes PID",
                  "3": "Business M30+",
                  "4": "2025-03-02T15:32:53.977487",
                  "5": "facebook_ads",
                  "6": "2024"
                },
                {
                  "0": "2024-01-09T20:56:04+00:00",
                  "1": "120204549987440306",
                  "2": "Ad #1 - Julien, expert comptable",
                  "3": "BROAD M30+",
                  "4": "2025-03-02T15:32:53.977487",
                  "5": "facebook_ads",
                  "6": "2024"
                },
                {
                  "0": "2024-01-09T21:08:37+00:00",
                  "1": "120204726786310306",
                  "2": "Ad #2 - ChatGPT PID",
                  "3": "Comptabilité M30+",
                  "4": "2025-03-02T15:32:53.977487",
                  "5": "facebook_ads",
                  "6": "2024"
                },
                {
                  "0": "2024-01-09T21:07:32+00:00",
                  "1": "120204726786330306",
                  "2": "Ad #1 - Julien, expert comptable PID",
                  "3": "Comptabilité M30+",
                  "4": "2025-03-02T15:32:53.977487",
                  "5": "facebook_ads",
                  "6": "2024"
                },
                {
                  "0": "2024-01-11T17:42:20+00:00",
                  "1": "120204791605880696",
                  "2": "vidéo ad 1 - T1",
                  "3": "Broad - VidéoAd1 [est ce que t'aime écrire?]",
                  "4": "2025-03-02T15:32:53.977487",
                  "5": "facebook_ads",
                  "6": "2024"
                },
                {
                  "0": "2024-01-11T18:18:27+00:00",
                  "1": "120204795023380696",
                  "2": "vidéo ad 1 - T2",
                  "3": "Broad - VidéoAd1 [est ce que t'aime écrire?]",
                  "4": "2025-03-02T15:32:53.977487",
                  "5": "facebook_ads",
                  "6": "2024"
                },
                {
                  "0": "2024-01-11T18:21:11+00:00",
                  "1": "120204795648920696",
                  "2": "vidéo ad 1 - T3",
                  "3": "Broad - VidéoAd1 [est ce que t'aime écrire?]",
                  "4": "2025-03-02T15:32:53.977487",
                  "5": "facebook_ads",
                  "6": "2024"
                },
                {
                  "0": "2024-01-11T19:16:00+00:00",
                  "1": "120204795656480696",
                  "2": "vidéo ad 2 - T2",
                  "3": "Broad - VidéoAd2 [est ce que t'aime écrire? BIS]",
                  "4": "2025-03-02T15:32:53.977487",
                  "5": "facebook_ads",
                  "6": "2024"
                },
                {
                  "0": "2024-01-11T19:15:03+00:00",
                  "1": "120204795656500696",
                  "2": "vidéo ad 2 - T1",
                  "3": "Broad - VidéoAd2 [est ce que t'aime écrire? BIS]",
                  "4": "2025-03-02T15:32:53.977487",
                  "5": "facebook_ads",
                  "6": "2024"
                },
                {
                  "0": "2024-01-11T19:16:21+00:00",
                  "1": "120204795656510696",
                  "2": "vidéo ad 2 - T3",
                  "3": "Broad - VidéoAd2 [est ce que t'aime écrire? BIS]",
                  "4": "2025-03-02T15:32:53.977487",
                  "5": "facebook_ads",
                  "6": "2024"
                },
                {
                  "0": "2024-01-11T19:18:20+00:00",
                  "1": "120204798109120696",
                  "2": "vidéo ad 3 - T3",
                  "3": "Broad - VidéoAd3 [Hey..Bonne nouvelle!]",
                  "4": "2025-03-02T15:32:53.977487",
                  "5": "facebook_ads",
                  "6": "2024"
                },
                {
                  "0": "2024-01-11T19:21:07+00:00",
                  "1": "120204798109130696",
                  "2": "vidéo ad 3 - T1",
                  "3": "Broad - VidéoAd3 [Hey..Bonne nouvelle!]",
                  "4": "2025-03-02T15:32:53.977487",
                  "5": "facebook_ads",
                  "6": "2024"
                },
                {
                  "0": "2024-01-11T19:18:41+00:00",
                  "1": "120204798109140696",
                  "2": "vidéo ad 3 - T2",
                  "3": "Broad - VidéoAd3 [Hey..Bonne nouvelle!]",
                  "4": "2025-03-02T15:32:53.977487",
                  "5": "facebook_ads",
                  "6": "2024"
                },
                {
                  "0": "2024-01-11T19:24:24+00:00",
                  "1": "120204798239920696",
                  "2": "vidéo ad 4- T2",
                  "3": "Broad - VidéoAd4 [Salut moi c'est Benoit]",
                  "4": "2025-03-02T15:32:53.977487",
                  "5": "facebook_ads",
                  "6": "2024"
                },
                {
                  "0": "2024-01-11T19:24:24+00:00",
                  "1": "120204798239940696",
                  "2": "vidéo ad 4 - T3",
                  "3": "Broad - VidéoAd4 [Salut moi c'est Benoit]",
                  "4": "2025-03-02T15:32:53.977487",
                  "5": "facebook_ads",
                  "6": "2024"
                },
                {
                  "0": "2024-01-11T19:24:32+00:00",
                  "1": "120204798239950696",
                  "2": "vidéo ad 4 - T1",
                  "3": "Broad - VidéoAd4 [Salut moi c'est Benoit]",
                  "4": "2025-03-02T15:32:53.977487",
                  "5": "facebook_ads",
                  "6": "2024"
                },
                {
                  "0": "2024-01-11T19:26:56+00:00",
                  "1": "120204798350050696",
                  "2": "vidéo ad 5- T2",
                  "3": "Broad - VidéoAd5 [toctoc combien de personnes ?]",
                  "4": "2025-03-02T15:32:53.977487",
                  "5": "facebook_ads",
                  "6": "2024"
                },
                {
                  "0": "2024-01-11T19:26:56+00:00",
                  "1": "120204798350070696",
                  "2": "vidéo ad 5 - T1",
                  "3": "Broad - VidéoAd5 [toctoc combien de personnes ?]",
                  "4": "2025-03-02T15:32:53.977487",
                  "5": "facebook_ads",
                  "6": "2024"
                },
                {
                  "0": "2024-01-11T19:27:02+00:00",
                  "1": "120204798350080696",
                  "2": "vidéo ad 5 - T3",
                  "3": "Broad - VidéoAd5 [toctoc combien de personnes ?]",
                  "4": "2025-03-02T15:32:53.977487",
                  "5": "facebook_ads",
                  "6": "2024"
                },
                {
                  "0": "2024-01-11T21:29:57+00:00",
                  "1": "120204798480240696",
                  "2": "vidéo ad 6 - T2",
                  "3": "Broad - VidéoAd6 [Comment je gagne ma vie]",
                  "4": "2025-03-02T15:32:53.977487",
                  "5": "facebook_ads",
                  "6": "2024"
                },
                {
                  "0": "2024-01-11T21:29:57+00:00",
                  "1": "120204798480260696",
                  "2": "vidéo ad 6 - T1",
                  "3": "Broad - VidéoAd6 [Comment je gagne ma vie]",
                  "4": "2025-03-02T15:32:53.977487",
                  "5": "facebook_ads",
                  "6": "2024"
                },
                {
                  "0": "2024-01-11T21:30:03+00:00",
                  "1": "120204798480270696",
                  "2": "vidéo ad 6 - T3",
                  "3": "Broad - VidéoAd6 [Comment je gagne ma vie]",
                  "4": "2025-03-02T15:32:53.977487",
                  "5": "facebook_ads",
                  "6": "2024"
                },
                {
                  "0": "2024-01-11T21:33:32+00:00",
                  "1": "120204800402860696",
                  "2": "images vague 1 dynamic",
                  "3": "Broad - Dynamic images",
                  "4": "2025-03-02T15:32:53.977487",
                  "5": "facebook_ads",
                  "6": "2024"
                },
                {
                  "0": "2022-12-07T10:01:47+00:00",
                  "1": "23852697558610695",
                  "2": "Même Drake - Copy Salarié - Head Tout Savoir No button - Copie",
                  "3": "Broad 18-40 - sources - refresh",
                  "4": "2025-03-02T15:32:53.977487",
                  "5": "facebook_ads",
                  "6": "2022"
                },
                {
                  "0": "2022-12-07T10:01:45+00:00",
                  "1": "23852697558620695",
                  "2": "Même Drake - Copy Salarié - Head Tout Savoir No button - Copie 2",
                  "3": "CI Marketing Numérique - SCALE",
                  "4": "2025-03-02T15:32:53.977487",
                  "5": "facebook_ads",
                  "6": "2022"
                },
                {
                  "0": "2022-12-07T10:01:45+00:00",
                  "1": "23852697558650695",
                  "2": "Projet Freelance Dark - Textes de vente - v2 - Copie",
                  "3": "Broad 18-40 - sources - refresh",
                  "4": "2025-03-02T15:32:53.977487",
                  "5": "facebook_ads",
                  "6": "2022"
                },
                {
                  "0": "2022-12-15T01:44:47+00:00",
                  "1": "23852774779270695",
                  "2": "Projet Freelance Dark - Textes de vente - v2 - Copie 2",
                  "3": "CI Marketing Numérique - SCALE",
                  "4": "2025-03-02T15:32:53.977487",
                  "5": "facebook_ads",
                  "6": "2022"
                },
                {
                  "0": "2022-12-17T02:03:52+00:00",
                  "1": "23852796830240695",
                  "2": "Même Guy - Textes de vente",
                  "3": "CI Marketing Numérique - SCALE",
                  "4": "2025-03-02T15:32:53.977487",
                  "5": "facebook_ads",
                  "6": "2022"
                },
                {
                  "0": "2022-12-17T02:04:23+00:00",
                  "1": "23852796855410695",
                  "2": "Même Guy - Textes de vente",
                  "3": "Broad 18-40 - sources - refresh",
                  "4": "2025-03-02T15:32:53.977487",
                  "5": "facebook_ads",
                  "6": "2022"
                },
                {
                  "0": "2022-07-25T17:22:10+00:00",
                  "1": "23851377755520695",
                  "2": "5 clients en un mois - Body Arnaque",
                  "3": "Leads 30J & PDP 30J & PDC 7J",
                  "4": "2025-03-02T15:32:53.977487",
                  "5": "facebook_ads",
                  "6": "2022"
                },
                {
                  "0": "2022-08-06T11:33:42+00:00",
                  "1": "23851472098160695",
                  "2": "Malcolm 8000€ - Body présentation",
                  "3": "Leads 30J & PDP 30J & PDC 7J",
                  "4": "2025-03-02T15:32:53.977487",
                  "5": "facebook_ads",
                  "6": "2022"
                },
                {
                  "0": "2022-08-06T11:37:54+00:00",
                  "1": "23851472113310695",
                  "2": "Femme Hotel - Body présentation",
                  "3": "Leads 30J & PDP 30J & PDC 7J",
                  "4": "2025-03-02T15:32:53.977487",
                  "5": "facebook_ads",
                  "6": "2022"
                },
                {
                  "0": "2022-08-21T17:41:59+00:00",
                  "1": "23851586166740695",
                  "2": "Femme Hotel - Body présentation - Remboursement",
                  "3": "Leads 30J & PDP 30J & PDC 7J",
                  "4": "2025-03-02T15:32:53.977487",
                  "5": "facebook_ads",
                  "6": "2022"
                },
                {
                  "0": "2019-11-11T16:45:58+00:00",
                  "1": "6168109914651",
                  "2": "ottencoffee",
                  "3": "cases",
                  "4": "2025-03-02T15:32:53.977487",
                  "5": "facebook_ads",
                  "6": "2019"
                },
                {
                  "0": "2019-11-22T08:49:04+00:00",
                  "1": "6169849558451",
                  "2": "ottencoffee",
                  "3": "cases APAC",
                  "4": "2025-03-02T15:32:53.977487",
                  "5": "facebook_ads",
                  "6": "2019"
                },
                {
                  "0": "2019-11-22T08:49:04+00:00",
                  "1": "6169850069851",
                  "2": "sae",
                  "3": "cases APAC",
                  "4": "2025-03-02T15:32:53.977487",
                  "5": "facebook_ads",
                  "6": "2019"
                },
                {
                  "0": "2019-11-22T08:49:04+00:00",
                  "1": "6169850305251",
                  "2": "iprospect",
                  "3": "cases APAC",
                  "4": "2025-03-02T15:32:53.977487",
                  "5": "facebook_ads",
                  "6": "2019"
                },
                {
                  "0": "2019-11-22T10:37:08+00:00",
                  "1": "6169863599451",
                  "2": "victorinox_case-a",
                  "3": "cases APAC",
                  "4": "2025-03-02T15:32:53.977487",
                  "5": "facebook_ads",
                  "6": "2019"
                },
                {
                  "0": "2019-11-25T06:48:44+00:00",
                  "1": "6170314717051",
                  "2": "3d journeys - apac",
                  "3": "cases APAC",
                  "4": "2025-03-02T15:32:53.977487",
                  "5": "facebook_ads",
                  "6": "2019"
                },
                {
                  "0": "2019-11-25T07:06:06+00:00",
                  "1": "6170316607051",
                  "2": "viewqwest-b",
                  "3": "cases APAC",
                  "4": "2025-03-02T15:32:53.977487",
                  "5": "facebook_ads",
                  "6": "2019"
                },
                {
                  "0": "2019-12-12T20:44:46+00:00",
                  "1": "6173443513251",
                  "2": "ottencoffee",
                  "3": "cases",
                  "4": "2025-03-02T15:32:53.977487",
                  "5": "facebook_ads",
                  "6": "2019"
                },
                {
                  "0": "2019-12-12T20:44:46+00:00",
                  "1": "6173443513451",
                  "2": "benz24",
                  "3": "cases",
                  "4": "2025-03-02T15:32:53.977487",
                  "5": "facebook_ads",
                  "6": "2019"
                },
                {
                  "0": "2019-12-12T20:44:46+00:00",
                  "1": "6173443513651",
                  "2": "bonuscard",
                  "3": "cases",
                  "4": "2025-03-02T15:32:53.977487",
                  "5": "facebook_ads",
                  "6": "2019"
                },
                {
                  "0": "2019-12-12T20:44:46+00:00",
                  "1": "6173443514051",
                  "2": "victorinox_case",
                  "3": "cases",
                  "4": "2025-03-02T15:32:53.977487",
                  "5": "facebook_ads",
                  "6": "2019"
                },
                {
                  "0": "2019-12-12T20:44:44+00:00",
                  "1": "6173443513851",
                  "2": "3d journeys",
                  "3": "journey_videos",
                  "4": "2025-03-02T15:32:53.977487",
                  "5": "facebook_ads",
                  "6": "2019"
                },
                {
                  "0": "2019-11-11T16:43:41+00:00",
                  "1": "6168109397651",
                  "2": "bonuscard",
                  "3": "cases",
                  "4": "2025-03-02T15:32:53.977487",
                  "5": "facebook_ads",
                  "6": "2019"
                },
                {
                  "0": "2019-11-11T16:40:46+00:00",
                  "1": "6168108483851",
                  "2": "victorinox_case",
                  "3": "cases",
                  "4": "2025-03-02T15:32:53.977487",
                  "5": "facebook_ads",
                  "6": "2019"
                },
                {
                  "0": "2020-02-22T05:28:47+00:00",
                  "1": "6186358687451",
                  "2": "kef",
                  "3": "cases APAC",
                  "4": "2025-03-02T15:32:53.977487",
                  "5": "facebook_ads",
                  "6": "2020"
                },
                {
                  "0": "2020-02-22T05:32:59+00:00",
                  "1": "6186360097251",
                  "2": "kef2",
                  "3": "cases APAC",
                  "4": "2025-03-02T15:32:53.977487",
                  "5": "facebook_ads",
                  "6": "2020"
                }
              ],
              "schema": [
                {
                  "key": "0",
                  "name": "ad_created_time",
                  "type": "string"
                },
                {
                  "key": "1",
                  "name": "ad_id",
                  "type": "string"
                },
                {
                  "key": "2",
                  "name": "ad_name",
                  "type": "string"
                },
                {
                  "key": "3",
                  "name": "adcontent",
                  "type": "string"
                },
                {
                  "key": "4",
                  "name": "load_date",
                  "type": "string"
                },
                {
                  "key": "5",
                  "name": "source",
                  "type": "string"
                },
                {
                  "key": "6",
                  "name": "year",
                  "type": "int"
                }
              ],
              "truncated": false
            },
            "isSummary": false,
            "language": "scala",
            "wranglerEntryContext": {
              "candidateVariableNames": [
                "df_bronze"
              ],
              "dataframeType": "pyspark"
            }
          },
          "persist_state": {
            "view": {
              "type": "details",
              "tableOptions": {},
              "chartOptions": {
                "chartType": "bar",
                "aggregationType": "sum",
                "categoryFieldKeys": [
                  "0"
                ],
                "seriesFieldKeys": [
                  "6"
                ],
                "isStacked": false
              }
            }
          }
        }
      }
    }
  },
  "cells": [
    {
      "cell_type": "code",
      "execution_count": 22,
      "outputs": [
        {
          "output_type": "display_data",
          "data": {
            "application/vnd.livy.statement-meta+json": {
              "spark_pool": "practice",
              "statement_id": 23,
              "statement_ids": [
                23
              ],
              "state": "finished",
              "livy_statement_state": "available",
              "spark_jobs": null,
              "session_id": "14",
              "normalized_state": "finished",
              "queued_time": "2025-03-02T18:16:15.1949056Z",
              "session_start_time": null,
              "execution_start_time": "2025-03-02T18:16:15.2832912Z",
              "execution_finish_time": "2025-03-02T18:16:15.4645998Z",
              "parent_msg_id": "aad2bd37-de92-4105-b851-b708a4a03e1b"
            },
            "text/plain": "StatementMeta(practice, 14, 23, Finished, Available, Finished)"
          },
          "metadata": {}
        }
      ],
      "metadata": {},
      "source": [
        "from pyspark.sql import SparkSession\n",
        "from pyspark.sql.functions import col, lit, year, month, dayofmonth, to_date, to_timestamp\n",
        "import datetime"
      ]
    },
    {
      "cell_type": "code",
      "execution_count": 23,
      "outputs": [
        {
          "output_type": "display_data",
          "data": {
            "application/vnd.livy.statement-meta+json": {
              "spark_pool": "practice",
              "statement_id": 24,
              "statement_ids": [
                24
              ],
              "state": "finished",
              "livy_statement_state": "available",
              "spark_jobs": null,
              "session_id": "14",
              "normalized_state": "finished",
              "queued_time": "2025-03-02T18:16:15.2433957Z",
              "session_start_time": null,
              "execution_start_time": "2025-03-02T18:16:15.5574649Z",
              "execution_finish_time": "2025-03-02T18:16:15.7224666Z",
              "parent_msg_id": "67e6f610-db49-43a8-999f-ecbba77c9c00"
            },
            "text/plain": "StatementMeta(practice, 14, 24, Finished, Available, Finished)"
          },
          "metadata": {}
        }
      ],
      "metadata": {},
      "source": [
        "# Initialize Spark Session\n",
        "spark = SparkSession.builder.appName(\"FacebookAdsDimAdSilver\").getOrCreate()"
      ]
    },
    {
      "cell_type": "code",
      "execution_count": 24,
      "outputs": [
        {
          "output_type": "display_data",
          "data": {
            "application/vnd.livy.statement-meta+json": {
              "spark_pool": "practice",
              "statement_id": 25,
              "statement_ids": [
                25
              ],
              "state": "finished",
              "livy_statement_state": "available",
              "spark_jobs": null,
              "session_id": "14",
              "normalized_state": "finished",
              "queued_time": "2025-03-02T18:16:15.2955441Z",
              "session_start_time": null,
              "execution_start_time": "2025-03-02T18:16:15.8157378Z",
              "execution_finish_time": "2025-03-02T18:16:15.9802096Z",
              "parent_msg_id": "ca5cb7a6-b0ad-408d-9b2f-f2d98dd89053"
            },
            "text/plain": "StatementMeta(practice, 14, 25, Finished, Available, Finished)"
          },
          "metadata": {}
        }
      ],
      "metadata": {},
      "source": [
        "# Define Storage Account & Container\n",
        "storage_account_name = \"learningstorage1093\"\n",
        "container_name = \"learning\"\n",
        "bronze_path = f\"abfss://{container_name}@{storage_account_name}.dfs.core.windows.net/bronze/facebook_ads/dim_ad/historical/\"\n",
        "silver_path = f\"abfss://{container_name}@{storage_account_name}.dfs.core.windows.net/silver/facebook_ads/dim_ad/\"\n",
        ""
      ]
    },
    {
      "cell_type": "code",
      "execution_count": 25,
      "outputs": [
        {
          "output_type": "display_data",
          "data": {
            "application/vnd.livy.statement-meta+json": {
              "spark_pool": "practice",
              "statement_id": 26,
              "statement_ids": [
                26
              ],
              "state": "finished",
              "livy_statement_state": "available",
              "spark_jobs": null,
              "session_id": "14",
              "normalized_state": "finished",
              "queued_time": "2025-03-02T18:16:15.3420074Z",
              "session_start_time": null,
              "execution_start_time": "2025-03-02T18:16:16.0748017Z",
              "execution_finish_time": "2025-03-02T18:16:18.8696814Z",
              "parent_msg_id": "bcd6660e-5ddb-45a6-8ebe-f186d1b74c93"
            },
            "text/plain": "StatementMeta(practice, 14, 26, Finished, Available, Finished)"
          },
          "metadata": {}
        }
      ],
      "metadata": {},
      "source": [
        "# Load raw data from Bronze Layer\n",
        "df_bronze = spark.read.json(bronze_path)"
      ]
    },
    {
      "cell_type": "code",
      "execution_count": 26,
      "outputs": [
        {
          "output_type": "display_data",
          "data": {
            "application/vnd.livy.statement-meta+json": {
              "spark_pool": "practice",
              "statement_id": 27,
              "statement_ids": [
                27
              ],
              "state": "finished",
              "livy_statement_state": "available",
              "spark_jobs": null,
              "session_id": "14",
              "normalized_state": "finished",
              "queued_time": "2025-03-02T18:16:15.4406766Z",
              "session_start_time": null,
              "execution_start_time": "2025-03-02T18:16:18.9591853Z",
              "execution_finish_time": "2025-03-02T18:16:19.1237496Z",
              "parent_msg_id": "94822c9e-3736-49d7-b0d5-e95b5cfc8262"
            },
            "text/plain": "StatementMeta(practice, 14, 27, Finished, Available, Finished)"
          },
          "metadata": {}
        },
        {
          "output_type": "stream",
          "name": "stdout",
          "text": [
            "Data Schema\nroot\n |-- ad_created_time: string (nullable = true)\n |-- ad_id: string (nullable = true)\n |-- ad_name: string (nullable = true)\n |-- adcontent: string (nullable = true)\n |-- load_date: string (nullable = true)\n |-- source: string (nullable = true)\n |-- year: integer (nullable = true)\n\n"
          ]
        }
      ],
      "metadata": {},
      "source": [
        "print(\"Data Schema\")\n",
        "df_bronze.printSchema()"
      ]
    },
    {
      "cell_type": "code",
      "execution_count": 27,
      "outputs": [
        {
          "output_type": "display_data",
          "data": {
            "application/vnd.livy.statement-meta+json": {
              "spark_pool": "practice",
              "statement_id": 28,
              "statement_ids": [
                28
              ],
              "state": "finished",
              "livy_statement_state": "available",
              "spark_jobs": null,
              "session_id": "14",
              "normalized_state": "finished",
              "queued_time": "2025-03-02T18:16:15.4760184Z",
              "session_start_time": null,
              "execution_start_time": "2025-03-02T18:16:19.221406Z",
              "execution_finish_time": "2025-03-02T18:16:21.1589677Z",
              "parent_msg_id": "778e6284-c1f2-4da1-8ddd-ac3f8fe2393c"
            },
            "text/plain": "StatementMeta(practice, 14, 28, Finished, Available, Finished)"
          },
          "metadata": {}
        },
        {
          "output_type": "stream",
          "name": "stdout",
          "text": [
            "Sample Data:\n"
          ]
        },
        {
          "output_type": "display_data",
          "data": {
            "application/vnd.synapse.widget-view+json": {
              "widget_id": "3deaf0cc-a3d1-4a69-9a5b-03324b6088e9",
              "widget_type": "Synapse.DataFrame"
            },
            "text/plain": "SynapseWidget(Synapse.DataFrame, 3deaf0cc-a3d1-4a69-9a5b-03324b6088e9)"
          },
          "metadata": {}
        }
      ],
      "metadata": {
        "collapsed": false
      },
      "source": [
        "print(\"Sample Data:\")\n",
        "display(df_bronze)"
      ]
    },
    {
      "cell_type": "code",
      "execution_count": 28,
      "outputs": [
        {
          "output_type": "display_data",
          "data": {
            "application/vnd.livy.statement-meta+json": {
              "spark_pool": "practice",
              "statement_id": 29,
              "statement_ids": [
                29
              ],
              "state": "finished",
              "livy_statement_state": "available",
              "spark_jobs": null,
              "session_id": "14",
              "normalized_state": "finished",
              "queued_time": "2025-03-02T18:16:15.5876825Z",
              "session_start_time": null,
              "execution_start_time": "2025-03-02T18:16:21.2766121Z",
              "execution_finish_time": "2025-03-02T18:16:21.4402516Z",
              "parent_msg_id": "ac6aefd4-369b-4fd9-a2d7-d5887af98d0e"
            },
            "text/plain": "StatementMeta(practice, 14, 29, Finished, Available, Finished)"
          },
          "metadata": {}
        }
      ],
      "metadata": {},
      "source": [
        "# Selecting all columns & modifying schema\n",
        "df_silver = df_bronze.select(\n",
        "    to_timestamp(col(\"ad_created_time\"), \"yyyy-MM-dd'T'HH:mm:ssX\").alias(\"ad_created_time\"),\n",
        "    col(\"ad_id\").alias(\"ad_id\"),\n",
        "    col(\"ad_name\"),\n",
        "    col(\"adcontent\").alias(\"ad_content\"),\n",
        "    # Metadata Fields\n",
        "    col(\"load_date\").cast(\"timestamp\").alias(\"load_date\"),\n",
        "    col(\"source\").alias(\"source\")\n",
        ")"
      ]
    },
    {
      "cell_type": "code",
      "execution_count": 29,
      "outputs": [
        {
          "output_type": "display_data",
          "data": {
            "application/vnd.livy.statement-meta+json": {
              "spark_pool": "practice",
              "statement_id": 30,
              "statement_ids": [
                30
              ],
              "state": "finished",
              "livy_statement_state": "available",
              "spark_jobs": null,
              "session_id": "14",
              "normalized_state": "finished",
              "queued_time": "2025-03-02T18:16:15.6926646Z",
              "session_start_time": null,
              "execution_start_time": "2025-03-02T18:16:21.5304346Z",
              "execution_finish_time": "2025-03-02T18:16:21.6833876Z",
              "parent_msg_id": "9df4c915-3c47-41ea-a6f7-75833e08cf0e"
            },
            "text/plain": "StatementMeta(practice, 14, 30, Finished, Available, Finished)"
          },
          "metadata": {}
        },
        {
          "output_type": "stream",
          "name": "stdout",
          "text": [
            "root\n |-- ad_created_time: timestamp (nullable = true)\n |-- ad_id: string (nullable = true)\n |-- ad_name: string (nullable = true)\n |-- ad_content: string (nullable = true)\n |-- load_date: timestamp (nullable = true)\n |-- source: string (nullable = true)\n\n"
          ]
        }
      ],
      "metadata": {},
      "source": [
        "df_silver.printSchema()"
      ]
    },
    {
      "cell_type": "code",
      "execution_count": 30,
      "outputs": [
        {
          "output_type": "display_data",
          "data": {
            "application/vnd.livy.statement-meta+json": {
              "spark_pool": "practice",
              "statement_id": 31,
              "statement_ids": [
                31
              ],
              "state": "finished",
              "livy_statement_state": "available",
              "spark_jobs": null,
              "session_id": "14",
              "normalized_state": "finished",
              "queued_time": "2025-03-02T18:16:15.7842339Z",
              "session_start_time": null,
              "execution_start_time": "2025-03-02T18:16:21.8005706Z",
              "execution_finish_time": "2025-03-02T18:16:21.9689267Z",
              "parent_msg_id": "b6134f83-48ea-4922-affa-76cd1e6c3062"
            },
            "text/plain": "StatementMeta(practice, 14, 31, Finished, Available, Finished)"
          },
          "metadata": {}
        }
      ],
      "metadata": {},
      "source": [
        "# Partitioning by Year of `ad_created_date`\n",
        "df_silver = df_silver.withColumn(\"year\", year(col(\"ad_created_time\")))"
      ]
    },
    {
      "cell_type": "code",
      "execution_count": 31,
      "outputs": [
        {
          "output_type": "display_data",
          "data": {
            "application/vnd.livy.statement-meta+json": {
              "spark_pool": "practice",
              "statement_id": 32,
              "statement_ids": [
                32
              ],
              "state": "finished",
              "livy_statement_state": "available",
              "spark_jobs": null,
              "session_id": "14",
              "normalized_state": "finished",
              "queued_time": "2025-03-02T18:16:15.8260595Z",
              "session_start_time": null,
              "execution_start_time": "2025-03-02T18:16:22.0633967Z",
              "execution_finish_time": "2025-03-02T18:16:22.6192604Z",
              "parent_msg_id": "1dad2292-9e83-4e88-bc93-17598ff8f281"
            },
            "text/plain": "StatementMeta(practice, 14, 32, Finished, Available, Finished)"
          },
          "metadata": {}
        },
        {
          "output_type": "stream",
          "name": "stdout",
          "text": [
            "+-------------------+-----------------+--------------------+--------------------+--------------------+------------+----+\n|    ad_created_time|            ad_id|             ad_name|          ad_content|           load_date|      source|year|\n+-------------------+-----------------+--------------------+--------------------+--------------------+------------+----+\n|2023-07-24 14:24:26|23857169141750305|Angle US - Visuel #7|Passive Income 25...|2025-03-02 15:32:...|facebook_ads|2023|\n|2023-07-24 14:24:26|23857169141760305|Angle US - Visuel #4|Passive Income 25...|2025-03-02 15:32:...|facebook_ads|2023|\n|2023-07-24 14:24:26|23857169141770305|Angle US - Visuel #1|Business 25+ - An...|2025-03-02 15:32:...|facebook_ads|2023|\n|2023-07-24 14:24:31|23857169141790305|Angle US - Visuel #7|Business 25+ - An...|2025-03-02 15:32:...|facebook_ads|2023|\n|2023-07-24 14:24:31|23857169141800305|Angle US - Visuel...|Passive Income 25...|2025-03-02 15:32:...|facebook_ads|2023|\n+-------------------+-----------------+--------------------+--------------------+--------------------+------------+----+\nonly showing top 5 rows\n\n"
          ]
        }
      ],
      "metadata": {},
      "source": [
        "df_silver.show(5)"
      ]
    },
    {
      "cell_type": "code",
      "execution_count": 32,
      "outputs": [
        {
          "output_type": "display_data",
          "data": {
            "application/vnd.livy.statement-meta+json": {
              "spark_pool": "practice",
              "statement_id": 33,
              "statement_ids": [
                33
              ],
              "state": "finished",
              "livy_statement_state": "available",
              "spark_jobs": null,
              "session_id": "14",
              "normalized_state": "finished",
              "queued_time": "2025-03-02T18:16:15.8691809Z",
              "session_start_time": null,
              "execution_start_time": "2025-03-02T18:16:22.7201207Z",
              "execution_finish_time": "2025-03-02T18:16:28.1307539Z",
              "parent_msg_id": "989cf27a-90b0-4f5a-913a-f10d7308f57b"
            },
            "text/plain": "StatementMeta(practice, 14, 33, Finished, Available, Finished)"
          },
          "metadata": {}
        },
        {
          "output_type": "stream",
          "name": "stdout",
          "text": [
            "🚀 Saving `dim_ad` to Silver Layer...\n✅ Successfully saved `dim_ad` to abfss://learning@learningstorage1093.dfs.core.windows.net/silver/facebook_ads/dim_ad/\n"
          ]
        }
      ],
      "metadata": {},
      "source": [
        "# Save Transformed Data to Silver Layer in Parquet format\n",
        "print(\"🚀 Saving `dim_ad` to Silver Layer...\")\n",
        "df_silver.write.mode(\"overwrite\").partitionBy(\"year\").parquet(silver_path)\n",
        "print(f\"✅ Successfully saved `dim_ad` to {silver_path}\")"
      ]
    }
  ]
}