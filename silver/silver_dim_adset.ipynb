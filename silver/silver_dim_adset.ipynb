{
  "nbformat": 4,
  "nbformat_minor": 2,
  "cells": [
    {
      "cell_type": "code",
      "execution_count": 2,
      "outputs": [],
      "metadata": {},
      "source": [
        "from pyspark.sql import SparkSession\n",
        "from pyspark.sql.functions import col, lit, year, month, dayofmonth, to_date, to_timestamp\n",
        "import datetime"
      ]
    },
    {
      "cell_type": "code",
      "execution_count": 3,
      "outputs": [],
      "metadata": {},
      "source": [
        "# Initialize Spark Session\n",
        "spark = SparkSession.builder.appName(\"FacebookAdsDimAdsetSilver\").getOrCreate()"
      ]
    },
    {
      "cell_type": "code",
      "execution_count": 4,
      "outputs": [],
      "metadata": {},
      "source": [
        "# Define Storage Account & Container\n",
        "storage_account_name = \"learningstorage1093\"\n",
        "container_name = \"learning\"\n",
        "bronze_path = f\"abfss://{container_name}@{storage_account_name}.dfs.core.windows.net/bronze/facebook_ads/dim_adset/historical/\"\n",
        "silver_path = f\"abfss://{container_name}@{storage_account_name}.dfs.core.windows.net/silver/facebook_ads/dim_adset/\"\n",
        ""
      ]
    },
    {
      "cell_type": "code",
      "execution_count": 5,
      "outputs": [],
      "metadata": {},
      "source": [
        "# Load raw data from Bronze Layer\n",
        "df_bronze = spark.read.json(bronze_path)"
      ]
    },
    {
      "cell_type": "code",
      "execution_count": 6,
      "outputs": [],
      "metadata": {},
      "source": [
        "print(\"Data Schema\")\n",
        "df_bronze.printSchema()"
      ]
    },
    {
      "cell_type": "code",
      "execution_count": 8,
      "outputs": [],
      "metadata": {},
      "source": [
        "df_silver = df_bronze.select(\n",
        "    col(\"adset_id\").alias(\"adset_id\"),  # Primary Key\n",
        "    col(\"adset_name\").alias(\"adset_name\"),\n",
        "    col(\"adset_status\").alias(\"adset_status\"),\n",
        "    col(\"adset_daily_budget\").cast(\"float\").alias(\"adset_daily_budget\"),  # Convert to FLOAT\n",
        "    \n",
        "    # Convert timestamps to correct format\n",
        "    to_timestamp(col(\"adset_created_time\"), \"yyyy-MM-dd'T'HH:mm:ssX\").alias(\"adset_created_timestamp\"),\n",
        "    to_timestamp(col(\"adset_start_time\"), \"yyyy-MM-dd'T'HH:mm:ssX\").alias(\"adset_start_timestamp\"),\n",
        "    to_timestamp(col(\"adset_end_time\"), \"yyyy-MM-dd'T'HH:mm:ssX\").alias(\"adset_end_timestamp\"),\n",
        "\n",
        "    # Metadata Fields\n",
        "    col(\"load_date\").cast(\"timestamp\").alias(\"load_date\"),\n",
        "    col(\"source\").alias(\"source\")\n",
        "    )"
      ]
    },
    {
      "cell_type": "code",
      "execution_count": 9,
      "outputs": [],
      "metadata": {},
      "source": [
        "# Partitioning by Year of `adset_created_timestamp`\n",
        "df_silver = df_silver.withColumn(\"year\", year(col(\"adset_created_timestamp\")))"
      ]
    },
    {
      "cell_type": "code",
      "execution_count": 10,
      "outputs": [],
      "metadata": {},
      "source": [
        "df_silver.printSchema()"
      ]
    },
    {
      "cell_type": "code",
      "execution_count": 12,
      "outputs": [],
      "metadata": {
        "collapsed": false
      },
      "source": [
        "print(\"Sample Data:\")\n",
        "display(df_silver)"
      ]
    },
    {
      "cell_type": "code",
      "execution_count": 13,
      "outputs": [],
      "metadata": {},
      "source": [
        "# Save Transformed Data to Silver Layer in Parquet format\n",
        "print(\"🚀 Saving `dim_adset` to Silver Layer...\")\n",
        "df_silver.write.mode(\"overwrite\").partitionBy(\"year\").parquet(silver_path)\n",
        "print(f\"✅ Successfully saved `dim_adset` to {silver_path}\")"
      ]
    }
  ],
  "metadata": {
    "description": null,
    "save_output": true,
    "language_info": {
      "name": "python"
    }
  }
}