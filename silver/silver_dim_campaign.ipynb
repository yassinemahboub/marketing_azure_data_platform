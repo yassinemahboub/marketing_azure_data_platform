{
  "nbformat": 4,
  "nbformat_minor": 2,
  "cells": [
    {
      "cell_type": "code",
      "execution_count": 2,
      "outputs": [],
      "metadata": {},
      "source": [
        "from pyspark.sql import SparkSession\n",
        "from pyspark.sql.functions import col, lit, year, month, dayofmonth, to_date, to_timestamp\n",
        "import datetime"
      ]
    },
    {
      "cell_type": "code",
      "execution_count": 3,
      "outputs": [],
      "metadata": {},
      "source": [
        "# Initialize Spark Session\n",
        "spark = SparkSession.builder.appName(\"FacebookAdsDimCampaignSilver\").getOrCreate()"
      ]
    },
    {
      "cell_type": "code",
      "execution_count": 4,
      "outputs": [],
      "metadata": {},
      "source": [
        "# Define Storage Account & Container\n",
        "storage_account_name = \"learningstorage1093\"\n",
        "container_name = \"learning\"\n",
        "bronze_path = f\"abfss://{container_name}@{storage_account_name}.dfs.core.windows.net/bronze/facebook_ads/dim_campaign/historical/\"\n",
        "silver_path = f\"abfss://{container_name}@{storage_account_name}.dfs.core.windows.net/silver/facebook_ads/dim_campaign/\"\n",
        ""
      ]
    },
    {
      "cell_type": "code",
      "execution_count": 5,
      "outputs": [],
      "metadata": {},
      "source": [
        "# Load raw data from Bronze Layer\n",
        "df_bronze = spark.read.json(bronze_path)"
      ]
    },
    {
      "cell_type": "code",
      "execution_count": 6,
      "outputs": [],
      "metadata": {},
      "source": [
        "print(\"Data Schema\")\n",
        "df_bronze.printSchema()"
      ]
    },
    {
      "cell_type": "code",
      "execution_count": 10,
      "outputs": [],
      "metadata": {},
      "source": [
        "df_silver = df_bronze.select(\n",
        "    col(\"campaign_id\").alias(\"campaign_id\"),  # Primary Key\n",
        "    col(\"campaign_name\").alias(\"campaign_name\"),\n",
        "    col(\"campaign_objective\").alias(\"campaign_objective\"),\n",
        "    col(\"campaign_status\").alias(\"campaign_status\"),\n",
        "    \n",
        "    # Convert timestamp to correct format\n",
        "    to_timestamp(col(\"campaign_created_time\"), \"yyyy-MM-dd'T'HH:mm:ssX\").alias(\"campaign_created_time\"),\n",
        "\n",
        "    # Metadata Fields\n",
        "    col(\"load_date\").cast(\"timestamp\").alias(\"load_date\"),\n",
        "    col(\"source\").alias(\"source\")\n",
        ")"
      ]
    },
    {
      "cell_type": "code",
      "execution_count": 13,
      "outputs": [],
      "metadata": {},
      "source": [
        "# Partitioning by Year of `campaign_created_time`\n",
        "df_silver = df_silver.withColumn(\"year\", year(col(\"campaign_created_time\")))"
      ]
    },
    {
      "cell_type": "code",
      "execution_count": 14,
      "outputs": [],
      "metadata": {},
      "source": [
        "df_silver.printSchema()"
      ]
    },
    {
      "cell_type": "code",
      "execution_count": 15,
      "outputs": [],
      "metadata": {
        "collapsed": false
      },
      "source": [
        "print(\"Sample Data:\")\n",
        "display(df_silver)"
      ]
    },
    {
      "cell_type": "code",
      "execution_count": 16,
      "outputs": [],
      "metadata": {},
      "source": [
        "# Save Transformed Data to Silver Layer in Parquet format\n",
        "print(\"🚀 Saving `dim_campaign` to Silver Layer...\")\n",
        "df_silver.write.mode(\"overwrite\").partitionBy(\"year\").parquet(silver_path)\n",
        "print(f\"Successfully saved `dim_campaign` to {silver_path}\")"
      ]
    }
  ],
  "metadata": {
    "description": null,
    "save_output": true,
    "language_info": {
      "name": "python"
    }
  }
}