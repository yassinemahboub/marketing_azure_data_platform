{
  "nbformat": 4,
  "nbformat_minor": 2,
  "cells": [
    {
      "cell_type": "code",
      "execution_count": 2,
      "outputs": [],
      "metadata": {},
      "source": [
        "from pyspark.sql import SparkSession\n",
        "from pyspark.sql.functions import col, lit, year, month, dayofmonth, to_date, to_timestamp\n",
        "import datetime"
      ]
    },
    {
      "cell_type": "code",
      "execution_count": 4,
      "outputs": [],
      "metadata": {},
      "source": [
        "# Initialize Spark Session\n",
        "spark = SparkSession.builder.appName(\"FacebookAdsDimPlatformSilver\").getOrCreate()"
      ]
    },
    {
      "cell_type": "code",
      "execution_count": 7,
      "outputs": [],
      "metadata": {},
      "source": [
        "# Define Storage Account & Container\n",
        "storage_account_name = \"learningstorage1093\"\n",
        "container_name = \"learning\"\n",
        "bronze_path = f\"abfss://{container_name}@{storage_account_name}.dfs.core.windows.net/bronze/facebook_ads/dim_platform/\"\n",
        "silver_path = f\"abfss://{container_name}@{storage_account_name}.dfs.core.windows.net/silver/facebook_ads/dim_platform/\"\n",
        ""
      ]
    },
    {
      "cell_type": "code",
      "execution_count": 8,
      "outputs": [],
      "metadata": {},
      "source": [
        "# Load raw data from Bronze Layer\n",
        "df_bronze = spark.read.json(bronze_path)"
      ]
    },
    {
      "cell_type": "code",
      "execution_count": 9,
      "outputs": [],
      "metadata": {},
      "source": [
        "print(\"Data Schema\")\n",
        "df_bronze.printSchema()"
      ]
    },
    {
      "cell_type": "code",
      "execution_count": 10,
      "outputs": [],
      "metadata": {},
      "source": [
        "# Select & Modify Schema\n",
        "df_silver = df_bronze.select(\n",
        "    col(\"device_platform\").alias(\"device_platform\"),\n",
        "    col(\"platform_position\").alias(\"platform_position\"),\n",
        "    col(\"publisher_platform\").alias(\"publisher_platform\"),\n",
        "    \n",
        "    # Metadata Fields\n",
        "    col(\"load_date\").cast(\"timestamp\").alias(\"load_date\"),\n",
        "    col(\"source\").alias(\"source\")\n",
        ")"
      ]
    },
    {
      "cell_type": "code",
      "execution_count": 11,
      "outputs": [],
      "metadata": {},
      "source": [
        "df_silver.printSchema()"
      ]
    },
    {
      "cell_type": "code",
      "execution_count": 12,
      "outputs": [],
      "metadata": {
        "collapsed": false
      },
      "source": [
        "print(\"Sample Data:\")\n",
        "display(df_silver)"
      ]
    },
    {
      "cell_type": "code",
      "execution_count": 13,
      "outputs": [],
      "metadata": {},
      "source": [
        "# Save Transformed Data to Silver Layer in Parquet format\n",
        "print(\"Saving `dim_platform` to Silver Layer...\")\n",
        "df_silver.write.mode(\"overwrite\").parquet(silver_path)\n",
        "print(f\"Successfully saved `dim_platform` to {silver_path}\")\n",
        ""
      ]
    }
  ],
  "metadata": {
    "description": null,
    "save_output": true,
    "language_info": {
      "name": "python"
    }
  }
}