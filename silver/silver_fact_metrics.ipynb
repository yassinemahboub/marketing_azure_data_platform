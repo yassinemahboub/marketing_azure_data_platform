{
  "nbformat": 4,
  "nbformat_minor": 2,
  "cells": [
    {
      "cell_type": "code",
      "execution_count": 12,
      "outputs": [],
      "metadata": {},
      "source": [
        "from pyspark.sql import SparkSession\n",
        "from pyspark.sql.functions import col, lit, year, month, dayofmonth, to_date\n",
        "import datetime"
      ]
    },
    {
      "cell_type": "code",
      "execution_count": 2,
      "outputs": [],
      "metadata": {},
      "source": [
        "# Initialize Spark Session\n",
        "spark = SparkSession.builder.appName(\"FacebookAdsFactSilver\").getOrCreate()"
      ]
    },
    {
      "cell_type": "code",
      "execution_count": 3,
      "outputs": [],
      "metadata": {},
      "source": [
        "# Define Storage Account & Container\n",
        "storage_account_name = \"learningstorage1093\"\n",
        "container_name = \"learning\"\n",
        "bronze_path = f\"abfss://{container_name}@{storage_account_name}.dfs.core.windows.net/bronze/facebook_ads/fact_facebook_ads_metrics/historical/\"\n",
        "silver_path = f\"abfss://{container_name}@{storage_account_name}.dfs.core.windows.net/silver/facebook_ads/fact_facebook_ads_metrics/\"\n",
        ""
      ]
    },
    {
      "cell_type": "code",
      "execution_count": 4,
      "outputs": [],
      "metadata": {},
      "source": [
        "# Load raw data from Bronze Layer\n",
        "df_bronze = spark.read.json(bronze_path)"
      ]
    },
    {
      "cell_type": "code",
      "execution_count": 6,
      "outputs": [],
      "metadata": {},
      "source": [
        "print(\"Data Schema\")\n",
        "df_bronze.printSchema()"
      ]
    },
    {
      "cell_type": "code",
      "execution_count": 8,
      "outputs": [],
      "metadata": {
        "collapsed": false
      },
      "source": [
        "print(\"Sample Data:\")\n",
        "display(df_bronze)"
      ]
    },
    {
      "cell_type": "code",
      "execution_count": 20,
      "outputs": [],
      "metadata": {},
      "source": [
        "# Selecting all columns & modifying schema\n",
        "df_silver = df_bronze.select(\n",
        "    to_date(col(\"date\"), \"yyyy-MM-dd\").alias(\"date\"),  # Convert to DATE type\n",
        "    col(\"ad_id\").alias(\"ad_id\"),\n",
        "    col(\"adset_id\").alias(\"adset_id\"),\n",
        "    col(\"campaign_id\").alias(\"campaign_id\"),\n",
        "    col(\"account_id\").alias(\"account_id\"),\n",
        "    col(\"platform_position\").alias(\"placement\"),\n",
        "    col(\"publisher_platform\").alias(\"platform\"),\n",
        "    \n",
        "    # Numeric Fields \n",
        "    col(\"spend\").cast(\"float\").alias(\"spend\"),\n",
        "    col(\"impressions\").cast(\"int\").alias(\"impressions\"),\n",
        "    col(\"clicks\").cast(\"int\").alias(\"clicks\"),\n",
        "    col(\"frequency\").cast(\"float\").alias(\"frequency\"),\n",
        "    \n",
        "    # Actions Fields \n",
        "    # col(\"actions_complete_registration\").cast(\"int\").alias(\"actions_complete_registration\"),\n",
        "    col(\"actions_lead\").cast(\"int\").alias(\"leads\"),  \n",
        "    col(\"actions_post_engagement\").cast(\"int\").alias(\"ad_engagement\"),\n",
        "    col(\"actions_video_view\").cast(\"int\").alias(\"video_views\"),\n",
        "    col(\"video_thruplay_watched_actions_video_view\").cast(\"int\").alias(\"thruplay_video_views\"),\n",
        "    \n",
        "    # Metadata Fields\n",
        "    col(\"load_date\").cast(\"timestamp\").alias(\"load_date\"),\n",
        "    col(\"source\").alias(\"source\")\n",
        ")"
      ]
    },
    {
      "cell_type": "code",
      "execution_count": 21,
      "outputs": [],
      "metadata": {},
      "source": [
        "df_silver.printSchema()"
      ]
    },
    {
      "cell_type": "code",
      "execution_count": 22,
      "outputs": [],
      "metadata": {
        "collapsed": false
      },
      "source": [
        "print(\"Silver Data:\")\n",
        "display(df_silver)"
      ]
    },
    {
      "cell_type": "code",
      "execution_count": 23,
      "outputs": [],
      "metadata": {},
      "source": [
        "# Partitioning by Year/Month/Day\n",
        "df_silver = df_silver.withColumn(\"year\", year(col(\"date\"))) \\\n",
        "                     .withColumn(\"month\", month(col(\"date\"))) \\\n",
        "                     .withColumn(\"day\", dayofmonth(col(\"date\")))"
      ]
    },
    {
      "cell_type": "code",
      "execution_count": 24,
      "outputs": [],
      "metadata": {},
      "source": [
        "# Save transformed data to Silver Layer in Parquet format\n",
        "print(\"🚀 Saving `fact_facebook_ads_metrics` to Silver Layer...\")\n",
        "df_silver.write.mode(\"overwrite\").partitionBy(\"year\", \"month\", \"day\").parquet(silver_path)\n",
        "print(f\"✅ Successfully saved `fact_facebook_ads_metrics` to {silver_path}\")"
      ]
    }
  ],
  "metadata": {
    "description": null,
    "save_output": true,
    "language_info": {
      "name": "python"
    }
  }
}